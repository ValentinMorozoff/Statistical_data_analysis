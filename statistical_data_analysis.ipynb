{
 "cells": [
  {
   "cell_type": "markdown",
   "metadata": {},
   "source": [
    "# Определение перспективного тарифа для телеком-компании\n",
    "\n",
    "## Описание проекта\n",
    "\n",
    "На исследование представлено два тарифных плана: «Смарт» и «Ультра» телеком-компании «Мегалайна». Чтобы скорректировать рекламный бюджет, коммерческий департамент хочет понять, какой тариф приносит больше денег.\n",
    "\n",
    "Предстоит сделать предварительный анализ тарифов на небольшой выборке клиентов. \n",
    "\n",
    "В распоряжении данные 500 пользователей «Мегалайна»: кто они, откуда, каким тарифом пользуются, сколько звонков и сообщений каждый отправил за 2018 год. Требуется проанализировать поведение клиентов и сделать вывод — какой тариф лучше.\n",
    "\n",
    "### Описание тарифных планов\n",
    "\n",
    "Тариф *«Смарт»*\n",
    "\n",
    "Ежемесячная плата: 550 рублей\n",
    "\n",
    "Включено 500 минут разговора, 50 сообщений и 15 Гб интернет-трафика\n",
    "\n",
    "Стоимость услуг сверх тарифного пакета: 1. минута разговора: 3 рубля («Мегалайн» всегда округляет вверх значения минут и мегабайтов. Если пользователь проговорил всего 1 секунду, в тарифе засчитывается целая минута); 2. сообщение: 3 рубля; 3. 1 Гб интернет-трафика: 200 рублей.\n",
    "\n",
    "Тариф *«Ультра»*\n",
    "\n",
    "Ежемесячная плата: 1950 рублей\n",
    "\n",
    "Включено 3000 минут разговора, 1000 сообщений и 30 Гб интернет-трафика\n",
    "\n",
    "Стоимость услуг сверх тарифного пакета: 1. минута разговора: 1 рубль; 2. сообщение: 1 рубль; 3. 1 Гб интернет-трафика: 150 рублей."
   ]
  },
  {
   "cell_type": "markdown",
   "metadata": {},
   "source": [
    "## Чтение данных\n",
    "### Просмотр файлов"
   ]
  },
  {
   "cell_type": "code",
   "execution_count": 1,
   "metadata": {},
   "outputs": [],
   "source": [
    "# необходимые для анализа бибилиотеки\n",
    "import pandas as pd\n",
    "import numpy as np\n",
    "import scipy.stats as st\n",
    "import datetime as dt\n",
    "import matplotlib.pyplot as plt\n",
    "import seaborn as sns"
   ]
  },
  {
   "cell_type": "code",
   "execution_count": 2,
   "metadata": {},
   "outputs": [],
   "source": [
    "# чтение, представленных на анализ файлов\n",
    "calls = pd.read_csv('/datasets/calls.csv')\n",
    "internet = pd.read_csv('/datasets/internet.csv')\n",
    "messages = pd.read_csv('/datasets/messages.csv')\n",
    "tariffs = pd.read_csv('/datasets/tariffs.csv')\n",
    "users = pd.read_csv('/datasets/users.csv')"
   ]
  },
  {
   "cell_type": "code",
   "execution_count": 3,
   "metadata": {},
   "outputs": [
    {
     "data": {
      "text/html": [
       "<div>\n",
       "<style scoped>\n",
       "    .dataframe tbody tr th:only-of-type {\n",
       "        vertical-align: middle;\n",
       "    }\n",
       "\n",
       "    .dataframe tbody tr th {\n",
       "        vertical-align: top;\n",
       "    }\n",
       "\n",
       "    .dataframe thead th {\n",
       "        text-align: right;\n",
       "    }\n",
       "</style>\n",
       "<table border=\"1\" class=\"dataframe\">\n",
       "  <thead>\n",
       "    <tr style=\"text-align: right;\">\n",
       "      <th></th>\n",
       "      <th>id</th>\n",
       "      <th>call_date</th>\n",
       "      <th>duration</th>\n",
       "      <th>user_id</th>\n",
       "    </tr>\n",
       "  </thead>\n",
       "  <tbody>\n",
       "    <tr>\n",
       "      <td>0</td>\n",
       "      <td>1000_0</td>\n",
       "      <td>2018-07-25</td>\n",
       "      <td>0.00</td>\n",
       "      <td>1000</td>\n",
       "    </tr>\n",
       "    <tr>\n",
       "      <td>1</td>\n",
       "      <td>1000_1</td>\n",
       "      <td>2018-08-17</td>\n",
       "      <td>0.00</td>\n",
       "      <td>1000</td>\n",
       "    </tr>\n",
       "    <tr>\n",
       "      <td>2</td>\n",
       "      <td>1000_2</td>\n",
       "      <td>2018-06-11</td>\n",
       "      <td>2.85</td>\n",
       "      <td>1000</td>\n",
       "    </tr>\n",
       "    <tr>\n",
       "      <td>3</td>\n",
       "      <td>1000_3</td>\n",
       "      <td>2018-09-21</td>\n",
       "      <td>13.80</td>\n",
       "      <td>1000</td>\n",
       "    </tr>\n",
       "    <tr>\n",
       "      <td>4</td>\n",
       "      <td>1000_4</td>\n",
       "      <td>2018-12-15</td>\n",
       "      <td>5.18</td>\n",
       "      <td>1000</td>\n",
       "    </tr>\n",
       "  </tbody>\n",
       "</table>\n",
       "</div>"
      ],
      "text/plain": [
       "       id   call_date  duration  user_id\n",
       "0  1000_0  2018-07-25      0.00     1000\n",
       "1  1000_1  2018-08-17      0.00     1000\n",
       "2  1000_2  2018-06-11      2.85     1000\n",
       "3  1000_3  2018-09-21     13.80     1000\n",
       "4  1000_4  2018-12-15      5.18     1000"
      ]
     },
     "metadata": {},
     "output_type": "display_data"
    },
    {
     "name": "stdout",
     "output_type": "stream",
     "text": [
      "Таблица 1. Данные звонков\n"
     ]
    },
    {
     "data": {
      "text/html": [
       "<div>\n",
       "<style scoped>\n",
       "    .dataframe tbody tr th:only-of-type {\n",
       "        vertical-align: middle;\n",
       "    }\n",
       "\n",
       "    .dataframe tbody tr th {\n",
       "        vertical-align: top;\n",
       "    }\n",
       "\n",
       "    .dataframe thead th {\n",
       "        text-align: right;\n",
       "    }\n",
       "</style>\n",
       "<table border=\"1\" class=\"dataframe\">\n",
       "  <thead>\n",
       "    <tr style=\"text-align: right;\">\n",
       "      <th></th>\n",
       "      <th>Unnamed: 0</th>\n",
       "      <th>id</th>\n",
       "      <th>mb_used</th>\n",
       "      <th>session_date</th>\n",
       "      <th>user_id</th>\n",
       "    </tr>\n",
       "  </thead>\n",
       "  <tbody>\n",
       "    <tr>\n",
       "      <td>0</td>\n",
       "      <td>0</td>\n",
       "      <td>1000_0</td>\n",
       "      <td>112.95</td>\n",
       "      <td>2018-11-25</td>\n",
       "      <td>1000</td>\n",
       "    </tr>\n",
       "    <tr>\n",
       "      <td>1</td>\n",
       "      <td>1</td>\n",
       "      <td>1000_1</td>\n",
       "      <td>1052.81</td>\n",
       "      <td>2018-09-07</td>\n",
       "      <td>1000</td>\n",
       "    </tr>\n",
       "    <tr>\n",
       "      <td>2</td>\n",
       "      <td>2</td>\n",
       "      <td>1000_2</td>\n",
       "      <td>1197.26</td>\n",
       "      <td>2018-06-25</td>\n",
       "      <td>1000</td>\n",
       "    </tr>\n",
       "    <tr>\n",
       "      <td>3</td>\n",
       "      <td>3</td>\n",
       "      <td>1000_3</td>\n",
       "      <td>550.27</td>\n",
       "      <td>2018-08-22</td>\n",
       "      <td>1000</td>\n",
       "    </tr>\n",
       "    <tr>\n",
       "      <td>4</td>\n",
       "      <td>4</td>\n",
       "      <td>1000_4</td>\n",
       "      <td>302.56</td>\n",
       "      <td>2018-09-24</td>\n",
       "      <td>1000</td>\n",
       "    </tr>\n",
       "  </tbody>\n",
       "</table>\n",
       "</div>"
      ],
      "text/plain": [
       "   Unnamed: 0      id  mb_used session_date  user_id\n",
       "0           0  1000_0   112.95   2018-11-25     1000\n",
       "1           1  1000_1  1052.81   2018-09-07     1000\n",
       "2           2  1000_2  1197.26   2018-06-25     1000\n",
       "3           3  1000_3   550.27   2018-08-22     1000\n",
       "4           4  1000_4   302.56   2018-09-24     1000"
      ]
     },
     "metadata": {},
     "output_type": "display_data"
    },
    {
     "name": "stdout",
     "output_type": "stream",
     "text": [
      "Таблица 2. Данные интернет-соединений\n"
     ]
    },
    {
     "data": {
      "text/html": [
       "<div>\n",
       "<style scoped>\n",
       "    .dataframe tbody tr th:only-of-type {\n",
       "        vertical-align: middle;\n",
       "    }\n",
       "\n",
       "    .dataframe tbody tr th {\n",
       "        vertical-align: top;\n",
       "    }\n",
       "\n",
       "    .dataframe thead th {\n",
       "        text-align: right;\n",
       "    }\n",
       "</style>\n",
       "<table border=\"1\" class=\"dataframe\">\n",
       "  <thead>\n",
       "    <tr style=\"text-align: right;\">\n",
       "      <th></th>\n",
       "      <th>id</th>\n",
       "      <th>message_date</th>\n",
       "      <th>user_id</th>\n",
       "    </tr>\n",
       "  </thead>\n",
       "  <tbody>\n",
       "    <tr>\n",
       "      <td>0</td>\n",
       "      <td>1000_0</td>\n",
       "      <td>2018-06-27</td>\n",
       "      <td>1000</td>\n",
       "    </tr>\n",
       "    <tr>\n",
       "      <td>1</td>\n",
       "      <td>1000_1</td>\n",
       "      <td>2018-10-08</td>\n",
       "      <td>1000</td>\n",
       "    </tr>\n",
       "    <tr>\n",
       "      <td>2</td>\n",
       "      <td>1000_2</td>\n",
       "      <td>2018-08-04</td>\n",
       "      <td>1000</td>\n",
       "    </tr>\n",
       "    <tr>\n",
       "      <td>3</td>\n",
       "      <td>1000_3</td>\n",
       "      <td>2018-06-16</td>\n",
       "      <td>1000</td>\n",
       "    </tr>\n",
       "    <tr>\n",
       "      <td>4</td>\n",
       "      <td>1000_4</td>\n",
       "      <td>2018-12-05</td>\n",
       "      <td>1000</td>\n",
       "    </tr>\n",
       "  </tbody>\n",
       "</table>\n",
       "</div>"
      ],
      "text/plain": [
       "       id message_date  user_id\n",
       "0  1000_0   2018-06-27     1000\n",
       "1  1000_1   2018-10-08     1000\n",
       "2  1000_2   2018-08-04     1000\n",
       "3  1000_3   2018-06-16     1000\n",
       "4  1000_4   2018-12-05     1000"
      ]
     },
     "metadata": {},
     "output_type": "display_data"
    },
    {
     "name": "stdout",
     "output_type": "stream",
     "text": [
      "Таблица 3. Данные по отправленным сообщениям\n"
     ]
    },
    {
     "data": {
      "text/html": [
       "<div>\n",
       "<style scoped>\n",
       "    .dataframe tbody tr th:only-of-type {\n",
       "        vertical-align: middle;\n",
       "    }\n",
       "\n",
       "    .dataframe tbody tr th {\n",
       "        vertical-align: top;\n",
       "    }\n",
       "\n",
       "    .dataframe thead th {\n",
       "        text-align: right;\n",
       "    }\n",
       "</style>\n",
       "<table border=\"1\" class=\"dataframe\">\n",
       "  <thead>\n",
       "    <tr style=\"text-align: right;\">\n",
       "      <th></th>\n",
       "      <th>messages_included</th>\n",
       "      <th>mb_per_month_included</th>\n",
       "      <th>minutes_included</th>\n",
       "      <th>rub_monthly_fee</th>\n",
       "      <th>rub_per_gb</th>\n",
       "      <th>rub_per_message</th>\n",
       "      <th>rub_per_minute</th>\n",
       "      <th>tariff_name</th>\n",
       "    </tr>\n",
       "  </thead>\n",
       "  <tbody>\n",
       "    <tr>\n",
       "      <td>0</td>\n",
       "      <td>50</td>\n",
       "      <td>15360</td>\n",
       "      <td>500</td>\n",
       "      <td>550</td>\n",
       "      <td>200</td>\n",
       "      <td>3</td>\n",
       "      <td>3</td>\n",
       "      <td>smart</td>\n",
       "    </tr>\n",
       "    <tr>\n",
       "      <td>1</td>\n",
       "      <td>1000</td>\n",
       "      <td>30720</td>\n",
       "      <td>3000</td>\n",
       "      <td>1950</td>\n",
       "      <td>150</td>\n",
       "      <td>1</td>\n",
       "      <td>1</td>\n",
       "      <td>ultra</td>\n",
       "    </tr>\n",
       "  </tbody>\n",
       "</table>\n",
       "</div>"
      ],
      "text/plain": [
       "   messages_included  mb_per_month_included  minutes_included  \\\n",
       "0                 50                  15360               500   \n",
       "1               1000                  30720              3000   \n",
       "\n",
       "   rub_monthly_fee  rub_per_gb  rub_per_message  rub_per_minute tariff_name  \n",
       "0              550         200                3               3       smart  \n",
       "1             1950         150                1               1       ultra  "
      ]
     },
     "metadata": {},
     "output_type": "display_data"
    },
    {
     "name": "stdout",
     "output_type": "stream",
     "text": [
      "Таблица 4. Тарифные планы\n"
     ]
    },
    {
     "data": {
      "text/html": [
       "<div>\n",
       "<style scoped>\n",
       "    .dataframe tbody tr th:only-of-type {\n",
       "        vertical-align: middle;\n",
       "    }\n",
       "\n",
       "    .dataframe tbody tr th {\n",
       "        vertical-align: top;\n",
       "    }\n",
       "\n",
       "    .dataframe thead th {\n",
       "        text-align: right;\n",
       "    }\n",
       "</style>\n",
       "<table border=\"1\" class=\"dataframe\">\n",
       "  <thead>\n",
       "    <tr style=\"text-align: right;\">\n",
       "      <th></th>\n",
       "      <th>user_id</th>\n",
       "      <th>age</th>\n",
       "      <th>churn_date</th>\n",
       "      <th>city</th>\n",
       "      <th>first_name</th>\n",
       "      <th>last_name</th>\n",
       "      <th>reg_date</th>\n",
       "      <th>tariff</th>\n",
       "    </tr>\n",
       "  </thead>\n",
       "  <tbody>\n",
       "    <tr>\n",
       "      <td>0</td>\n",
       "      <td>1000</td>\n",
       "      <td>52</td>\n",
       "      <td>NaN</td>\n",
       "      <td>Краснодар</td>\n",
       "      <td>Рафаил</td>\n",
       "      <td>Верещагин</td>\n",
       "      <td>2018-05-25</td>\n",
       "      <td>ultra</td>\n",
       "    </tr>\n",
       "    <tr>\n",
       "      <td>1</td>\n",
       "      <td>1001</td>\n",
       "      <td>41</td>\n",
       "      <td>NaN</td>\n",
       "      <td>Москва</td>\n",
       "      <td>Иван</td>\n",
       "      <td>Ежов</td>\n",
       "      <td>2018-11-01</td>\n",
       "      <td>smart</td>\n",
       "    </tr>\n",
       "    <tr>\n",
       "      <td>2</td>\n",
       "      <td>1002</td>\n",
       "      <td>59</td>\n",
       "      <td>NaN</td>\n",
       "      <td>Стерлитамак</td>\n",
       "      <td>Евгений</td>\n",
       "      <td>Абрамович</td>\n",
       "      <td>2018-06-17</td>\n",
       "      <td>smart</td>\n",
       "    </tr>\n",
       "    <tr>\n",
       "      <td>3</td>\n",
       "      <td>1003</td>\n",
       "      <td>23</td>\n",
       "      <td>NaN</td>\n",
       "      <td>Москва</td>\n",
       "      <td>Белла</td>\n",
       "      <td>Белякова</td>\n",
       "      <td>2018-08-17</td>\n",
       "      <td>ultra</td>\n",
       "    </tr>\n",
       "    <tr>\n",
       "      <td>4</td>\n",
       "      <td>1004</td>\n",
       "      <td>68</td>\n",
       "      <td>NaN</td>\n",
       "      <td>Новокузнецк</td>\n",
       "      <td>Татьяна</td>\n",
       "      <td>Авдеенко</td>\n",
       "      <td>2018-05-14</td>\n",
       "      <td>ultra</td>\n",
       "    </tr>\n",
       "  </tbody>\n",
       "</table>\n",
       "</div>"
      ],
      "text/plain": [
       "   user_id  age churn_date         city first_name  last_name    reg_date  \\\n",
       "0     1000   52        NaN    Краснодар     Рафаил  Верещагин  2018-05-25   \n",
       "1     1001   41        NaN       Москва       Иван       Ежов  2018-11-01   \n",
       "2     1002   59        NaN  Стерлитамак    Евгений  Абрамович  2018-06-17   \n",
       "3     1003   23        NaN       Москва      Белла   Белякова  2018-08-17   \n",
       "4     1004   68        NaN  Новокузнецк    Татьяна   Авдеенко  2018-05-14   \n",
       "\n",
       "  tariff  \n",
       "0  ultra  \n",
       "1  smart  \n",
       "2  smart  \n",
       "3  ultra  \n",
       "4  ultra  "
      ]
     },
     "metadata": {},
     "output_type": "display_data"
    },
    {
     "name": "stdout",
     "output_type": "stream",
     "text": [
      "Таблица 5. Пользовательские данные\n"
     ]
    }
   ],
   "source": [
    "# просмотр прочитанных файлов\n",
    "display(calls.head())\n",
    "print('Таблица 1. Данные звонков')\n",
    "display(internet.head())\n",
    "print('Таблица 2. Данные интернет-соединений')\n",
    "display(messages.head())\n",
    "print('Таблица 3. Данные по отправленным сообщениям')\n",
    "display(tariffs.head())\n",
    "print('Таблица 4. Тарифные планы')\n",
    "display(users.head())\n",
    "print('Таблица 5. Пользовательские данные')"
   ]
  },
  {
   "cell_type": "markdown",
   "metadata": {},
   "source": [
    "**Вывод**\n",
    "\n",
    "Данные прочитались корректно."
   ]
  },
  {
   "cell_type": "markdown",
   "metadata": {},
   "source": [
    "### Описание данных"
   ]
  },
  {
   "cell_type": "markdown",
   "metadata": {},
   "source": [
    "Таблица **users** (информация о пользователях):\n",
    "\n",
    "user_id — уникальный идентификатор пользователя\n",
    "\n",
    "first_name — имя пользователя\n",
    "\n",
    "last_name — фамилия пользователя\n",
    "\n",
    "age — возраст пользователя (годы)\n",
    "\n",
    "reg_date — дата подключения тарифа (день, месяц, год)\n",
    "\n",
    "churn_date — дата прекращения пользования тарифом (если значение пропущено, то тариф ещё действовал на момент выгрузки данных)\n",
    "\n",
    "city — город проживания пользователя\n",
    "\n",
    "tarif — название тарифного плана"
   ]
  },
  {
   "cell_type": "markdown",
   "metadata": {},
   "source": [
    "Таблица **calls** (информация о звонках):\n",
    "\n",
    "id — уникальный номер звонка\n",
    "\n",
    "call_date — дата звонка\n",
    "\n",
    "duration — длительность звонка в минутах\n",
    "\n",
    "user_id — идентификатор пользователя, сделавшего звонок"
   ]
  },
  {
   "cell_type": "markdown",
   "metadata": {},
   "source": [
    "Таблица **messages** (информация о сообщениях):\n",
    "\n",
    "id — уникальный номер сообщения\n",
    "\n",
    "message_date — дата сообщения\n",
    "\n",
    "user_id — идентификатор пользователя, отправившего сообщение"
   ]
  },
  {
   "cell_type": "markdown",
   "metadata": {},
   "source": [
    "Таблица **internet** (информация об интернет-сессиях):\n",
    "\n",
    "id — уникальный номер сессии\n",
    "\n",
    "mb_used — объём потраченного за сессию интернет-трафика (в мегабайтах)\n",
    "\n",
    "session_date — дата интернет-сессии\n",
    "\n",
    "user_id — идентификатор пользователя"
   ]
  },
  {
   "cell_type": "markdown",
   "metadata": {},
   "source": [
    "Таблица **tariffs** (информация о тарифах):\n",
    "\n",
    "tariff_name — название тарифа\n",
    "\n",
    "rub_monthly_fee — ежемесячная абонентская плата в рублях\n",
    "\n",
    "minutes_included — количество минут разговора в месяц, включённых в абонентскую плату\n",
    "\n",
    "messages_included — количество сообщений в месяц, включённых в абонентскую плату\n",
    "\n",
    "mb_per_month_included — объём интернет-трафика, включённого в абонентскую плату (в мегабайтах)\n",
    "\n",
    "rub_per_minute — стоимость минуты разговора сверх тарифного пакета (например, если в тарифе 100 минут разговора в \n",
    "месяц, то со 101 минуты будет взиматься плата)\n",
    "\n",
    "rub_per_message — стоимость отправки сообщения сверх тарифного пакета\n",
    "\n",
    "rub_per_gb — стоимость дополнительного гигабайта интернет-трафика сверх тарифного пакета (1 гигабайт = 1024 мегабайта)"
   ]
  },
  {
   "cell_type": "markdown",
   "metadata": {},
   "source": [
    "## Предобработка данных"
   ]
  },
  {
   "cell_type": "markdown",
   "metadata": {},
   "source": [
    "### Общие условия предобработки данных\n",
    "\n",
    "«Мегалайн» всегда округляет секунды до минут. Каждый звонок округляется отдельно: даже если он длился всего 1 секунду, будет засчитан как 1 минута."
   ]
  },
  {
   "cell_type": "code",
   "execution_count": 4,
   "metadata": {},
   "outputs": [],
   "source": [
    "# приведение типов данных к соответсвию содеражанию\n",
    "# округление значений, согласно условию исследования\n",
    "\n",
    "# данные звонков \n",
    "calls['call_date'] = pd.to_datetime(calls['call_date'])\n",
    "calls['duration_min'] = np.ceil(calls['duration'])\n",
    "\n",
    "# данные интернет-траффика\n",
    "internet = internet.drop(columns=['Unnamed: 0'], axis=1)\n",
    "internet['session_date'] = pd.to_datetime(internet['session_date'])\n",
    "\n",
    "# данные по отправленным сообщениям\n",
    "messages['message_date'] = pd.to_datetime(messages['message_date'])\n",
    "\n",
    "# пользовательские данные\n",
    "users['churn_date'] = pd.to_datetime(users['churn_date'])\n",
    "users['reg_date'] = pd.to_datetime(users['reg_date'])"
   ]
  },
  {
   "cell_type": "code",
   "execution_count": 5,
   "metadata": {},
   "outputs": [],
   "source": [
    "# функция принмает в качестве аргумета датафрейм и возвращет резюме данных\n",
    "def dataset_summary(df):\n",
    "    print(f'Общие сведения о файле:')\n",
    "    print()\n",
    "    print(df.info())\n",
    "    print()\n",
    "    print('Количество пропущенных значения:')\n",
    "    print()\n",
    "    print(df.isna().sum())\n",
    "    print()\n",
    "    print('Количество явных (полных) дубликатов:')\n",
    "    print()\n",
    "    print(df.duplicated().sum())"
   ]
  },
  {
   "cell_type": "markdown",
   "metadata": {},
   "source": [
    "### Звонки"
   ]
  },
  {
   "cell_type": "code",
   "execution_count": 6,
   "metadata": {},
   "outputs": [
    {
     "name": "stdout",
     "output_type": "stream",
     "text": [
      "Общие сведения о файле:\n",
      "\n",
      "<class 'pandas.core.frame.DataFrame'>\n",
      "RangeIndex: 202607 entries, 0 to 202606\n",
      "Data columns (total 5 columns):\n",
      "id              202607 non-null object\n",
      "call_date       202607 non-null datetime64[ns]\n",
      "duration        202607 non-null float64\n",
      "user_id         202607 non-null int64\n",
      "duration_min    202607 non-null float64\n",
      "dtypes: datetime64[ns](1), float64(2), int64(1), object(1)\n",
      "memory usage: 7.7+ MB\n",
      "None\n",
      "\n",
      "Количество пропущенных значения:\n",
      "\n",
      "id              0\n",
      "call_date       0\n",
      "duration        0\n",
      "user_id         0\n",
      "duration_min    0\n",
      "dtype: int64\n",
      "\n",
      "Количество явных (полных) дубликатов:\n",
      "\n",
      "0\n",
      "\n",
      "Период анализа c 2018-01-01 по 2018-12-31.\n"
     ]
    }
   ],
   "source": [
    "# данные по звонкам\n",
    "dataset_summary(calls)\n",
    "print()\n",
    "print(f\"Период анализа c {calls['call_date'].dt.date.min()} по {calls['call_date'].dt.date.max()}.\")"
   ]
  },
  {
   "cell_type": "markdown",
   "metadata": {},
   "source": [
    "Фрейм со звонками пользователей содержит 202607 записи (наблюдений) в категории звонки абонетов, сгруппированные по четерем признакам: уникальный номер записи, дата и продолжительность звонка (в том числе округленная, согласно условиям тарифа), уникальный номер абонента.\n",
    "\n",
    "Типы данных приведены к соответсвующим. Отформатированы сведения о продолжительности звонков, согласно условиям тарифов.\n",
    "\n",
    "Пропущенные значения, явные (полные) дубликаты не выявлены.\n",
    "\n",
    "Период анализа - 2018 год."
   ]
  },
  {
   "cell_type": "markdown",
   "metadata": {},
   "source": [
    "### Интернет-траффик"
   ]
  },
  {
   "cell_type": "code",
   "execution_count": 7,
   "metadata": {},
   "outputs": [
    {
     "name": "stdout",
     "output_type": "stream",
     "text": [
      "Общие сведения о файле:\n",
      "\n",
      "<class 'pandas.core.frame.DataFrame'>\n",
      "RangeIndex: 149396 entries, 0 to 149395\n",
      "Data columns (total 4 columns):\n",
      "id              149396 non-null object\n",
      "mb_used         149396 non-null float64\n",
      "session_date    149396 non-null datetime64[ns]\n",
      "user_id         149396 non-null int64\n",
      "dtypes: datetime64[ns](1), float64(1), int64(1), object(1)\n",
      "memory usage: 4.6+ MB\n",
      "None\n",
      "\n",
      "Количество пропущенных значения:\n",
      "\n",
      "id              0\n",
      "mb_used         0\n",
      "session_date    0\n",
      "user_id         0\n",
      "dtype: int64\n",
      "\n",
      "Количество явных (полных) дубликатов:\n",
      "\n",
      "0\n",
      "\n",
      "Период анализа c 2018-01-01 по 2018-12-31.\n"
     ]
    }
   ],
   "source": [
    "# данные по интернет-траффику\n",
    "dataset_summary(internet)\n",
    "print()\n",
    "print(f\"Период анализа c {internet['session_date'].dt.date.min()} по {internet['session_date'].dt.date.max()}.\")"
   ]
  },
  {
   "cell_type": "markdown",
   "metadata": {},
   "source": [
    "Файл со сведениями по интернет-трафику содержит информацию о количестве переданных по-средствам сети Internet данных. Всего 149396 записей (наблюдений) сгруппированных по пяти признакам: уникальный номер записи, количество использованных MB траффика, дата сессии, уникальный идентификатор пользователя, количество использованных GB траффика.\n",
    "\n",
    "Типы данных приведены к соответсвующим. Количество GB траффика рассчитано, согласно улосвиям тарифов.\n",
    "\n",
    "Пропущенные значения, явные (полные) дубликаты отсутвуют.\n",
    "\n",
    "Период анализа - 2018 год."
   ]
  },
  {
   "cell_type": "markdown",
   "metadata": {},
   "source": [
    "### Сообщения"
   ]
  },
  {
   "cell_type": "code",
   "execution_count": 8,
   "metadata": {},
   "outputs": [
    {
     "name": "stdout",
     "output_type": "stream",
     "text": [
      "Общие сведения о файле:\n",
      "\n",
      "<class 'pandas.core.frame.DataFrame'>\n",
      "RangeIndex: 123036 entries, 0 to 123035\n",
      "Data columns (total 3 columns):\n",
      "id              123036 non-null object\n",
      "message_date    123036 non-null datetime64[ns]\n",
      "user_id         123036 non-null int64\n",
      "dtypes: datetime64[ns](1), int64(1), object(1)\n",
      "memory usage: 2.8+ MB\n",
      "None\n",
      "\n",
      "Количество пропущенных значения:\n",
      "\n",
      "id              0\n",
      "message_date    0\n",
      "user_id         0\n",
      "dtype: int64\n",
      "\n",
      "Количество явных (полных) дубликатов:\n",
      "\n",
      "0\n",
      "\n",
      "Период анализа c 2018-01-02 по 2018-12-31.\n"
     ]
    }
   ],
   "source": [
    "# данные по сообщениям\n",
    "dataset_summary(messages)\n",
    "print()\n",
    "print(f\"Период анализа c {messages['message_date'].dt.date.min()} по {messages['message_date'].dt.date.max()}.\")"
   ]
  },
  {
   "cell_type": "markdown",
   "metadata": {},
   "source": [
    "Файл с информацией о сообщениях пользователей содержит 123036 записи (наблюдения) содержание сведения об уникальном номере записи, дате отправке сообщения и уникальном идентификаторе абонента.\n",
    "\n",
    "Типы данных приведены к соответсвующим.\n",
    "\n",
    "Пропущенные значения, явные (полные) дубликаты не выявлены.\n",
    "\n",
    "Период анализа - 2018 год."
   ]
  },
  {
   "cell_type": "markdown",
   "metadata": {},
   "source": [
    "### Информация о пользователях"
   ]
  },
  {
   "cell_type": "code",
   "execution_count": 9,
   "metadata": {},
   "outputs": [
    {
     "name": "stdout",
     "output_type": "stream",
     "text": [
      "Общие сведения о файле:\n",
      "\n",
      "<class 'pandas.core.frame.DataFrame'>\n",
      "RangeIndex: 500 entries, 0 to 499\n",
      "Data columns (total 8 columns):\n",
      "user_id       500 non-null int64\n",
      "age           500 non-null int64\n",
      "churn_date    38 non-null datetime64[ns]\n",
      "city          500 non-null object\n",
      "first_name    500 non-null object\n",
      "last_name     500 non-null object\n",
      "reg_date      500 non-null datetime64[ns]\n",
      "tariff        500 non-null object\n",
      "dtypes: datetime64[ns](2), int64(2), object(4)\n",
      "memory usage: 31.4+ KB\n",
      "None\n",
      "\n",
      "Количество пропущенных значения:\n",
      "\n",
      "user_id         0\n",
      "age             0\n",
      "churn_date    462\n",
      "city            0\n",
      "first_name      0\n",
      "last_name       0\n",
      "reg_date        0\n",
      "tariff          0\n",
      "dtype: int64\n",
      "\n",
      "Количество явных (полных) дубликатов:\n",
      "\n",
      "0\n",
      "\n",
      "Период анализа c 2018-01-01 по 2018-12-31.\n"
     ]
    }
   ],
   "source": [
    "# пользовательские данные\n",
    "dataset_summary(users)\n",
    "print()\n",
    "print(f\"Период анализа c {users['reg_date'].dt.date.min()} по {users['reg_date'].dt.date.max()}.\")"
   ]
  },
  {
   "cell_type": "markdown",
   "metadata": {},
   "source": [
    "В файле представлены данные о пятиста пользователях: уникальный ID, возраст, дата прекращения (расторжения) контракта, город-регистрации контракта, имя, фамилия пользователя, дата заключения контракта, тарифный план. \n",
    "\n",
    "Колонка с датами прекращения (расторжения) контракта содержит 462 пропущенных значения, значит на момент предоставления данных на исследование 38 абонентов откалазись от услуг \"Мегалайна\". Прочие пропуски и явные (полные) дубликаты отсутвуют.\n",
    "\n",
    "Данные приведены к соответсвующим типам.\n",
    "\n",
    "Период анализа - 2018 год."
   ]
  },
  {
   "cell_type": "markdown",
   "metadata": {},
   "source": [
    "### Детекция и коррекция ошибок в данных"
   ]
  },
  {
   "cell_type": "markdown",
   "metadata": {},
   "source": [
    "Изучим распределение количественных переменных сырых данных на предмет выявления аномалий.\n",
    "\n",
    "В исследуемых данных количественные переменные представлены продолжительностью телефонного разговора, емкостью интернет-сессии."
   ]
  },
  {
   "cell_type": "code",
   "execution_count": 10,
   "metadata": {},
   "outputs": [
    {
     "data": {
      "image/png": "[encoded data removed]",
      "text/plain": [
       "<Figure size 864x360 with 1 Axes>"
      ]
     },
     "metadata": {
      "needs_background": "light"
     },
     "output_type": "display_data"
    },
    {
     "name": "stdout",
     "output_type": "stream",
     "text": [
      "Рисунок 1. Гистограмма распределения продолжительности телефонного разговора\n"
     ]
    }
   ],
   "source": [
    "# визуализация распределения продолжительности телефонного разговора\n",
    "plt.figure(figsize=(12, 5))\n",
    "calls['duration'].hist(bins=100)\n",
    "plt.title('Распределение продолжительности телефонного разговора, мин', fontsize=15)\n",
    "plt.xlabel('Минуты')\n",
    "plt.show()\n",
    "print('Рисунок 1. Гистограмма распределения продолжительности телефонного разговора')"
   ]
  },
  {
   "cell_type": "markdown",
   "metadata": {},
   "source": [
    "Итак, большинство телефонных разговоров имело продолжительность \"нуль\", что по условиям представленных на анализ данных следует трактовать, как пропущенный вызов.\n",
    "\n",
    "Прочая продолжительность телефонного разговора группируется около отметки в в 7,5 минут близким к нормальному распределению со смещенеием вправо (левосторонний скос). Максиммальная продолжительность разговора находиться в близи отметки в 35 минут, что вполне соответсвует здравому смыслу.\n",
    "\n",
    "Таким образом, аномальных значений продолжительности разгора не выявлено.\n",
    "\n",
    "Исключим из данных пропущенные вызовы."
   ]
  },
  {
   "cell_type": "code",
   "execution_count": 11,
   "metadata": {},
   "outputs": [
    {
     "data": {
      "image/png": "[encoded data removed]",
      "text/plain": [
       "<Figure size 864x360 with 1 Axes>"
      ]
     },
     "metadata": {
      "needs_background": "light"
     },
     "output_type": "display_data"
    },
    {
     "name": "stdout",
     "output_type": "stream",
     "text": [
      "Рисунок 1. Гистограмма распределения продолжительности телефонного разговора\n"
     ]
    }
   ],
   "source": [
    "# исключение пропущенных вызовов из фрейма с данным по звонкам\n",
    "calls = calls[calls['duration'] > 0]\n",
    "\n",
    "# визуализация распределения продолжительности телефонного разговора\n",
    "plt.figure(figsize=(12, 5))\n",
    "calls['duration'].hist(bins=100)\n",
    "plt.title('Распределение продолжительности телефонного разговора, мин', fontsize=15)\n",
    "plt.xlabel('Минуты')\n",
    "plt.show()\n",
    "print('Рисунок 1. Гистограмма распределения продолжительности телефонного разговора')"
   ]
  },
  {
   "cell_type": "markdown",
   "metadata": {},
   "source": [
    "Характер распределения после преобразований данных не изменился."
   ]
  },
  {
   "cell_type": "code",
   "execution_count": 12,
   "metadata": {},
   "outputs": [
    {
     "data": {
      "image/png": "[encoded data removed]",
      "text/plain": [
       "<Figure size 864x360 with 1 Axes>"
      ]
     },
     "metadata": {
      "needs_background": "light"
     },
     "output_type": "display_data"
    },
    {
     "name": "stdout",
     "output_type": "stream",
     "text": [
      "Рисунок 2. Гистограмма распределения емкости интренет-сессии\n"
     ]
    }
   ],
   "source": [
    "# визуализация распределения емкости интренет-сессии\n",
    "plt.figure(figsize=(12, 5))\n",
    "internet['mb_used'].hist(bins=100)\n",
    "plt.title('Распределение емкости интренет-сессии, МВ', fontsize=15)\n",
    "plt.xlabel('МВ')\n",
    "plt.show()\n",
    "print('Рисунок 2. Гистограмма распределения емкости интренет-сессии')"
   ]
  },
  {
   "cell_type": "markdown",
   "metadata": {},
   "source": [
    "Итак, большинско интерне-сессиий имели \"нулевую\" емкость, что представлется возможным трактовать, как емксоть сессии менее 1 МВ, либо техничекая ошибка интренет-соединения.\n",
    "\n",
    "Прочие интернет-сессии по показателю емкости распределены вокруг отметки 375 МВ близким к нормальному типу, несколько смещенным вправо (левосторонний скос) видом. Максимальная емкость интернет-сессии близка к отметки в 1750 МВ, что представавлеться вплоне реальным (длительные прослушивания музыки онлайн, просмотр видео онлайн).\n",
    "\n",
    "Таким образом, аномалии в данных про продолжительности интернет-сессий не выявлены.\n",
    "\n",
    "Исключим несостоявщиеся сессия из данных."
   ]
  },
  {
   "cell_type": "code",
   "execution_count": 13,
   "metadata": {},
   "outputs": [
    {
     "data": {
      "image/png": "[encoded data removed]",
      "text/plain": [
       "<Figure size 864x360 with 1 Axes>"
      ]
     },
     "metadata": {
      "needs_background": "light"
     },
     "output_type": "display_data"
    },
    {
     "name": "stdout",
     "output_type": "stream",
     "text": [
      "Рисунок 2. Гистограмма распределения емкости интренет-сессии\n"
     ]
    }
   ],
   "source": [
    "# исключение несостоявшихся сессий из фрейма с данными о траффике\n",
    "internet = internet[internet['mb_used'] > 0]\n",
    "\n",
    "# визуализация распределения емкости интренет-сессии\n",
    "plt.figure(figsize=(12, 5))\n",
    "internet['mb_used'].hist(bins=100)\n",
    "plt.title('Распределение емкости интренет-сессии, МВ', fontsize=15)\n",
    "plt.xlabel('МВ')\n",
    "plt.show()\n",
    "print('Рисунок 2. Гистограмма распределения емкости интренет-сессии')"
   ]
  },
  {
   "cell_type": "markdown",
   "metadata": {},
   "source": [
    "Характер распределения после преобразований данных не изменился."
   ]
  },
  {
   "cell_type": "markdown",
   "metadata": {},
   "source": [
    "**Вывод**\n",
    "\n",
    "1. Данные о времени звонков, сообщений, сессий приведены к типу данных datetime.\n",
    "2. Данные о продолжительности разговора округлены до необходимых значений, согласно условиям тарифов.\n",
    "3. Все представленные данные за единый временной интервал - 2018 год.\n",
    "4. Необоснованные пропущенные значения, а также явные (полные) дубликаты отсутвуют.\n",
    "5. Пропущенные вызовы и несостоявшиеся интернет-сессии исключены.\n",
    "\n",
    "Данные подготовлены к дальнейшему анализу."
   ]
  },
  {
   "cell_type": "markdown",
   "metadata": {},
   "source": [
    "## Разведовательный анализ данных"
   ]
  },
  {
   "cell_type": "markdown",
   "metadata": {},
   "source": [
    "### Количество сделанных звонков и израсходованных минут разговора по месяцам"
   ]
  },
  {
   "cell_type": "code",
   "execution_count": 14,
   "metadata": {},
   "outputs": [
    {
     "data": {
      "text/html": [
       "<div>\n",
       "<style scoped>\n",
       "    .dataframe tbody tr th:only-of-type {\n",
       "        vertical-align: middle;\n",
       "    }\n",
       "\n",
       "    .dataframe tbody tr th {\n",
       "        vertical-align: top;\n",
       "    }\n",
       "\n",
       "    .dataframe thead th {\n",
       "        text-align: right;\n",
       "    }\n",
       "</style>\n",
       "<table border=\"1\" class=\"dataframe\">\n",
       "  <thead>\n",
       "    <tr style=\"text-align: right;\">\n",
       "      <th></th>\n",
       "      <th>calls_number_per_month</th>\n",
       "      <th>calls_duratiion_per_month</th>\n",
       "    </tr>\n",
       "    <tr>\n",
       "      <th>month</th>\n",
       "      <th></th>\n",
       "      <th></th>\n",
       "    </tr>\n",
       "  </thead>\n",
       "  <tbody>\n",
       "    <tr>\n",
       "      <td>1</td>\n",
       "      <td>1164</td>\n",
       "      <td>10206.44</td>\n",
       "    </tr>\n",
       "    <tr>\n",
       "      <td>2</td>\n",
       "      <td>2705</td>\n",
       "      <td>23145.58</td>\n",
       "    </tr>\n",
       "    <tr>\n",
       "      <td>3</td>\n",
       "      <td>5383</td>\n",
       "      <td>45433.85</td>\n",
       "    </tr>\n",
       "    <tr>\n",
       "      <td>4</td>\n",
       "      <td>7504</td>\n",
       "      <td>62530.92</td>\n",
       "    </tr>\n",
       "    <tr>\n",
       "      <td>5</td>\n",
       "      <td>10116</td>\n",
       "      <td>83770.77</td>\n",
       "    </tr>\n",
       "    <tr>\n",
       "      <td>6</td>\n",
       "      <td>11833</td>\n",
       "      <td>99249.71</td>\n",
       "    </tr>\n",
       "    <tr>\n",
       "      <td>7</td>\n",
       "      <td>14780</td>\n",
       "      <td>124373.23</td>\n",
       "    </tr>\n",
       "    <tr>\n",
       "      <td>8</td>\n",
       "      <td>17257</td>\n",
       "      <td>145071.63</td>\n",
       "    </tr>\n",
       "    <tr>\n",
       "      <td>9</td>\n",
       "      <td>19446</td>\n",
       "      <td>163723.16</td>\n",
       "    </tr>\n",
       "    <tr>\n",
       "      <td>10</td>\n",
       "      <td>21757</td>\n",
       "      <td>183068.38</td>\n",
       "    </tr>\n",
       "    <tr>\n",
       "      <td>11</td>\n",
       "      <td>23664</td>\n",
       "      <td>198206.23</td>\n",
       "    </tr>\n",
       "    <tr>\n",
       "      <td>12</td>\n",
       "      <td>27385</td>\n",
       "      <td>230010.14</td>\n",
       "    </tr>\n",
       "  </tbody>\n",
       "</table>\n",
       "</div>"
      ],
      "text/plain": [
       "       calls_number_per_month  calls_duratiion_per_month\n",
       "month                                                   \n",
       "1                        1164                   10206.44\n",
       "2                        2705                   23145.58\n",
       "3                        5383                   45433.85\n",
       "4                        7504                   62530.92\n",
       "5                       10116                   83770.77\n",
       "6                       11833                   99249.71\n",
       "7                       14780                  124373.23\n",
       "8                       17257                  145071.63\n",
       "9                       19446                  163723.16\n",
       "10                      21757                  183068.38\n",
       "11                      23664                  198206.23\n",
       "12                      27385                  230010.14"
      ]
     },
     "metadata": {},
     "output_type": "display_data"
    },
    {
     "name": "stdout",
     "output_type": "stream",
     "text": [
      "Таблица 6. Количество звонков и суммарная продолжительность разговров в месяц\n"
     ]
    },
    {
     "data": {
      "image/png": "[encoded data removed]",
      "text/plain": [
       "<Figure size 864x360 with 1 Axes>"
      ]
     },
     "metadata": {
      "needs_background": "light"
     },
     "output_type": "display_data"
    },
    {
     "name": "stdout",
     "output_type": "stream",
     "text": [
      "Рисунок 3. График помесячной динамики количества звонков и суммарной продолжительности разговоров\n"
     ]
    }
   ],
   "source": [
    "# выделение месяца звонка\n",
    "calls['month'] = calls['call_date'].dt.month\n",
    "\n",
    "# расчет количества звонков и израсходованных минут по месяцам\n",
    "calls_month_period = (\n",
    "    calls.groupby('month')\n",
    "    .agg(\n",
    "        calls_number_per_month = ('id', 'count'), \n",
    "        calls_duratiion_per_month = ('duration', 'sum')\n",
    "    )\n",
    ")\n",
    "\n",
    "# отображение результатов расчетов\n",
    "display(calls_month_period)\n",
    "print('Таблица 6. Количество звонков и суммарная продолжительность разговров в месяц')\n",
    "\n",
    "# визуализация расчетов\n",
    "calls_month_period.plot(figsize=(12, 5), grid=True)\n",
    "plt.title('Соотношение количества звонков к продолжительности разговоров')\n",
    "plt.xlabel('Месяц')\n",
    "plt.show()\n",
    "print('Рисунок 3. График помесячной динамики количества звонков и суммарной продолжительности разговоров')"
   ]
  },
  {
   "cell_type": "markdown",
   "metadata": {},
   "source": [
    "За анализируемый период количество звонков и продолжительность разговоров возрастают линейно на протяжении всего исследуемого отрезка времени, начиная с 1164 звонков в января и заканчивая 27385 звонками на пике в декабре; начиная с 10206 минут разговоров в январе и заканчивая 230010 минут разговоров в декабре.\n",
    "\n",
    "При этом, растет и средняя продолжительность расзговора (растояние между графиками количества звонков и продолжительности разговоров увеличиваеться ближе к концу анализируемого периода, значит продолжительноть разговоров растет быстерее, чем количество звонков, кроме того, угол графика продолжительности разговоров больше угла наклона графика количства звонков, значит скороть события, описывемого график быстрее)."
   ]
  },
  {
   "cell_type": "markdown",
   "metadata": {},
   "source": [
    "### Количество отправленных сообщений по месяцам"
   ]
  },
  {
   "cell_type": "code",
   "execution_count": 15,
   "metadata": {},
   "outputs": [
    {
     "data": {
      "text/html": [
       "<div>\n",
       "<style scoped>\n",
       "    .dataframe tbody tr th:only-of-type {\n",
       "        vertical-align: middle;\n",
       "    }\n",
       "\n",
       "    .dataframe tbody tr th {\n",
       "        vertical-align: top;\n",
       "    }\n",
       "\n",
       "    .dataframe thead th {\n",
       "        text-align: right;\n",
       "    }\n",
       "</style>\n",
       "<table border=\"1\" class=\"dataframe\">\n",
       "  <thead>\n",
       "    <tr style=\"text-align: right;\">\n",
       "      <th></th>\n",
       "      <th>messages_number_per_month</th>\n",
       "    </tr>\n",
       "    <tr>\n",
       "      <th>month</th>\n",
       "      <th></th>\n",
       "    </tr>\n",
       "  </thead>\n",
       "  <tbody>\n",
       "    <tr>\n",
       "      <td>1</td>\n",
       "      <td>924</td>\n",
       "    </tr>\n",
       "    <tr>\n",
       "      <td>2</td>\n",
       "      <td>1924</td>\n",
       "    </tr>\n",
       "    <tr>\n",
       "      <td>3</td>\n",
       "      <td>3648</td>\n",
       "    </tr>\n",
       "    <tr>\n",
       "      <td>4</td>\n",
       "      <td>5179</td>\n",
       "    </tr>\n",
       "    <tr>\n",
       "      <td>5</td>\n",
       "      <td>7298</td>\n",
       "    </tr>\n",
       "    <tr>\n",
       "      <td>6</td>\n",
       "      <td>8983</td>\n",
       "    </tr>\n",
       "    <tr>\n",
       "      <td>7</td>\n",
       "      <td>11320</td>\n",
       "    </tr>\n",
       "    <tr>\n",
       "      <td>8</td>\n",
       "      <td>13088</td>\n",
       "    </tr>\n",
       "    <tr>\n",
       "      <td>9</td>\n",
       "      <td>14759</td>\n",
       "    </tr>\n",
       "    <tr>\n",
       "      <td>10</td>\n",
       "      <td>17114</td>\n",
       "    </tr>\n",
       "    <tr>\n",
       "      <td>11</td>\n",
       "      <td>18244</td>\n",
       "    </tr>\n",
       "    <tr>\n",
       "      <td>12</td>\n",
       "      <td>20555</td>\n",
       "    </tr>\n",
       "  </tbody>\n",
       "</table>\n",
       "</div>"
      ],
      "text/plain": [
       "       messages_number_per_month\n",
       "month                           \n",
       "1                            924\n",
       "2                           1924\n",
       "3                           3648\n",
       "4                           5179\n",
       "5                           7298\n",
       "6                           8983\n",
       "7                          11320\n",
       "8                          13088\n",
       "9                          14759\n",
       "10                         17114\n",
       "11                         18244\n",
       "12                         20555"
      ]
     },
     "metadata": {},
     "output_type": "display_data"
    },
    {
     "name": "stdout",
     "output_type": "stream",
     "text": [
      "Таблица 7. Количество отправленных сообщений помесячно\n"
     ]
    },
    {
     "data": {
      "image/png": "[encoded data removed]",
      "text/plain": [
       "<Figure size 864x360 with 1 Axes>"
      ]
     },
     "metadata": {
      "needs_background": "light"
     },
     "output_type": "display_data"
    },
    {
     "name": "stdout",
     "output_type": "stream",
     "text": [
      "Рисунок 4. График динамики отправленных сообщений помесячно\n"
     ]
    }
   ],
   "source": [
    "# выделение месяца отправки сообщения\n",
    "messages['month'] = messages['message_date'].dt.month\n",
    "\n",
    "# расчет количества сообщений по месяцам\n",
    "messages_month_period = (\n",
    "    messages.groupby('month')\n",
    "    .agg(\n",
    "        messages_number_per_month=('id', 'count')\n",
    "    )\n",
    ")\n",
    "\n",
    "# отображение результатов расчетов\n",
    "display(messages_month_period)\n",
    "print('Таблица 7. Количество отправленных сообщений помесячно')\n",
    "\n",
    "# визуализация расчетов\n",
    "messages_month_period.plot(figsize=(12, 5), grid=True, kind='bar', legend=False)\n",
    "plt.title('Количество отправленых сообщений')\n",
    "plt.xlabel('Месяц')\n",
    "plt.show()\n",
    "print('Рисунок 4. График динамики отправленных сообщений помесячно')"
   ]
  },
  {
   "cell_type": "markdown",
   "metadata": {},
   "source": [
    "Аналогично статистки по звонкам, количество соообщений отправленых по месячно растет линейно на протяжении всего анализируемого периода, начиная с 924 сообщений в января, заканчивая пиком в 20555 сообщений в декабре."
   ]
  },
  {
   "cell_type": "markdown",
   "metadata": {},
   "source": [
    "### Объем израсходованного интернет-трафика по месяцам"
   ]
  },
  {
   "cell_type": "code",
   "execution_count": 16,
   "metadata": {},
   "outputs": [
    {
     "data": {
      "text/html": [
       "<div>\n",
       "<style scoped>\n",
       "    .dataframe tbody tr th:only-of-type {\n",
       "        vertical-align: middle;\n",
       "    }\n",
       "\n",
       "    .dataframe tbody tr th {\n",
       "        vertical-align: top;\n",
       "    }\n",
       "\n",
       "    .dataframe thead th {\n",
       "        text-align: right;\n",
       "    }\n",
       "</style>\n",
       "<table border=\"1\" class=\"dataframe\">\n",
       "  <thead>\n",
       "    <tr style=\"text-align: right;\">\n",
       "      <th></th>\n",
       "      <th>internet_traffic_mb</th>\n",
       "      <th>sessions_count</th>\n",
       "    </tr>\n",
       "    <tr>\n",
       "      <th>month</th>\n",
       "      <th></th>\n",
       "      <th></th>\n",
       "    </tr>\n",
       "  </thead>\n",
       "  <tbody>\n",
       "    <tr>\n",
       "      <td>1</td>\n",
       "      <td>407732.53</td>\n",
       "      <td>966</td>\n",
       "    </tr>\n",
       "    <tr>\n",
       "      <td>2</td>\n",
       "      <td>955251.65</td>\n",
       "      <td>2263</td>\n",
       "    </tr>\n",
       "    <tr>\n",
       "      <td>3</td>\n",
       "      <td>1811835.61</td>\n",
       "      <td>4262</td>\n",
       "    </tr>\n",
       "    <tr>\n",
       "      <td>4</td>\n",
       "      <td>2433311.62</td>\n",
       "      <td>5692</td>\n",
       "    </tr>\n",
       "    <tr>\n",
       "      <td>5</td>\n",
       "      <td>3525862.24</td>\n",
       "      <td>8209</td>\n",
       "    </tr>\n",
       "    <tr>\n",
       "      <td>6</td>\n",
       "      <td>4180017.17</td>\n",
       "      <td>9656</td>\n",
       "    </tr>\n",
       "    <tr>\n",
       "      <td>7</td>\n",
       "      <td>5029478.75</td>\n",
       "      <td>11788</td>\n",
       "    </tr>\n",
       "    <tr>\n",
       "      <td>8</td>\n",
       "      <td>5998157.07</td>\n",
       "      <td>14009</td>\n",
       "    </tr>\n",
       "    <tr>\n",
       "      <td>9</td>\n",
       "      <td>6447422.36</td>\n",
       "      <td>15198</td>\n",
       "    </tr>\n",
       "    <tr>\n",
       "      <td>10</td>\n",
       "      <td>7392170.62</td>\n",
       "      <td>17367</td>\n",
       "    </tr>\n",
       "    <tr>\n",
       "      <td>11</td>\n",
       "      <td>7990473.01</td>\n",
       "      <td>18910</td>\n",
       "    </tr>\n",
       "    <tr>\n",
       "      <td>12</td>\n",
       "      <td>9133555.10</td>\n",
       "      <td>21478</td>\n",
       "    </tr>\n",
       "  </tbody>\n",
       "</table>\n",
       "</div>"
      ],
      "text/plain": [
       "       internet_traffic_mb  sessions_count\n",
       "month                                     \n",
       "1                407732.53             966\n",
       "2                955251.65            2263\n",
       "3               1811835.61            4262\n",
       "4               2433311.62            5692\n",
       "5               3525862.24            8209\n",
       "6               4180017.17            9656\n",
       "7               5029478.75           11788\n",
       "8               5998157.07           14009\n",
       "9               6447422.36           15198\n",
       "10              7392170.62           17367\n",
       "11              7990473.01           18910\n",
       "12              9133555.10           21478"
      ]
     },
     "metadata": {},
     "output_type": "display_data"
    },
    {
     "name": "stdout",
     "output_type": "stream",
     "text": [
      "Таблица 8. Количество сессий и суммарный объем интернет-траффика (MB) помесячно\n"
     ]
    },
    {
     "data": {
      "image/png": "[encoded data removed]",
      "text/plain": [
       "<Figure size 864x360 with 1 Axes>"
      ]
     },
     "metadata": {
      "needs_background": "light"
     },
     "output_type": "display_data"
    },
    {
     "name": "stdout",
     "output_type": "stream",
     "text": [
      "Рисунок 5. График динамики количества интернет-сессий и суммарный объем интернет-трафика (MB) помесячно\n"
     ]
    }
   ],
   "source": [
    "# выделение месяца интернет-соединения\n",
    "internet['month'] = internet['session_date'].dt.month\n",
    "\n",
    "# расчет количества MB траффика по месяцам\n",
    "internet_month_period = (\n",
    "    internet.groupby('month')\n",
    "    .agg(\n",
    "        internet_traffic_mb = ('mb_used', 'sum'),\n",
    "        sessions_count = ('id', 'count')\n",
    "    )\n",
    ")\n",
    "\n",
    "# отображение результатов расчетов\n",
    "display(internet_month_period)\n",
    "print('Таблица 8. Количество сессий и суммарный объем интернет-траффика (MB) помесячно')\n",
    "\n",
    "# визуализация расчетов\n",
    "internet_month_period.plot(figsize=(12, 5), grid=True)\n",
    "plt.title('Соотношение интернет-траффика (MB) и количества сессий')\n",
    "plt.xlabel('Месяц')\n",
    "plt.show()\n",
    "print('Рисунок 5. График динамики количества интернет-сессий и суммарный объем интернет-трафика (MB) помесячно')"
   ]
  },
  {
   "cell_type": "markdown",
   "metadata": {},
   "source": [
    "И количество сессий и объем интернет траффика на протяжении всего анализируемого периода растут линенйно, начиная с 407732 МВ в январе, заканчивая 9133555 МВ на пике в декабре; начиная с 966 сессий в январе, заканчивая 24478 сессиями в декабре. \n",
    "\n",
    "При этом, возрастает и средняя продолжительность одной сессии (расстояние между графиками интернет-трафиика и количества сессий увеличивает, значит трафиик растет быстрее, чем число сессий)."
   ]
  },
  {
   "cell_type": "markdown",
   "metadata": {},
   "source": [
    "### Помесячная выручку с каждого пользователя"
   ]
  },
  {
   "cell_type": "markdown",
   "metadata": {},
   "source": [
    "Согласно заданию, выручка рассчитываеться, как произведение разницы бесплатного лимит и суммарного количества звонков, сообщений и интернет-трафика и значения из тарифного плана плюс абонентская плата, соответствующую тарифному плану.\n",
    "\n",
    "Таким образом, для расчета помесячной выручки с каждого пользователя создадим фрейм, объединяющий данные на каждого пользователя по потраченным минутам разговора, отправленных сообщений и МВ трафика помесячно и условия применяемого тарифного плана каждым пользователем."
   ]
  },
  {
   "cell_type": "code",
   "execution_count": 17,
   "metadata": {},
   "outputs": [
    {
     "data": {
      "text/html": [
       "<div>\n",
       "<style scoped>\n",
       "    .dataframe tbody tr th:only-of-type {\n",
       "        vertical-align: middle;\n",
       "    }\n",
       "\n",
       "    .dataframe tbody tr th {\n",
       "        vertical-align: top;\n",
       "    }\n",
       "\n",
       "    .dataframe thead th {\n",
       "        text-align: right;\n",
       "    }\n",
       "</style>\n",
       "<table border=\"1\" class=\"dataframe\">\n",
       "  <thead>\n",
       "    <tr style=\"text-align: right;\">\n",
       "      <th></th>\n",
       "      <th>user_id</th>\n",
       "      <th>month</th>\n",
       "      <th>calls_duration_min_month</th>\n",
       "      <th>messages_count_per_month</th>\n",
       "      <th>internet_traffic_mb_per_month</th>\n",
       "      <th>city</th>\n",
       "      <th>tariff</th>\n",
       "      <th>messages_included</th>\n",
       "      <th>mb_per_month_included</th>\n",
       "      <th>minutes_included</th>\n",
       "      <th>rub_monthly_fee</th>\n",
       "      <th>rub_per_gb</th>\n",
       "      <th>rub_per_message</th>\n",
       "      <th>rub_per_minute</th>\n",
       "    </tr>\n",
       "  </thead>\n",
       "  <tbody>\n",
       "    <tr>\n",
       "      <td>445</td>\n",
       "      <td>1271</td>\n",
       "      <td>11</td>\n",
       "      <td>155.0</td>\n",
       "      <td>45.0</td>\n",
       "      <td>6976.25</td>\n",
       "      <td>Челябинск</td>\n",
       "      <td>ultra</td>\n",
       "      <td>1000</td>\n",
       "      <td>30720</td>\n",
       "      <td>3000</td>\n",
       "      <td>1950</td>\n",
       "      <td>150</td>\n",
       "      <td>1</td>\n",
       "      <td>1</td>\n",
       "    </tr>\n",
       "    <tr>\n",
       "      <td>2928</td>\n",
       "      <td>1433</td>\n",
       "      <td>11</td>\n",
       "      <td>503.0</td>\n",
       "      <td>83.0</td>\n",
       "      <td>13889.66</td>\n",
       "      <td>Подольск</td>\n",
       "      <td>smart</td>\n",
       "      <td>50</td>\n",
       "      <td>15360</td>\n",
       "      <td>500</td>\n",
       "      <td>550</td>\n",
       "      <td>200</td>\n",
       "      <td>3</td>\n",
       "      <td>3</td>\n",
       "    </tr>\n",
       "    <tr>\n",
       "      <td>2212</td>\n",
       "      <td>1266</td>\n",
       "      <td>12</td>\n",
       "      <td>558.0</td>\n",
       "      <td>47.0</td>\n",
       "      <td>13534.06</td>\n",
       "      <td>Калуга</td>\n",
       "      <td>smart</td>\n",
       "      <td>50</td>\n",
       "      <td>15360</td>\n",
       "      <td>500</td>\n",
       "      <td>550</td>\n",
       "      <td>200</td>\n",
       "      <td>3</td>\n",
       "      <td>3</td>\n",
       "    </tr>\n",
       "    <tr>\n",
       "      <td>3132</td>\n",
       "      <td>1482</td>\n",
       "      <td>3</td>\n",
       "      <td>444.0</td>\n",
       "      <td>63.0</td>\n",
       "      <td>13108.16</td>\n",
       "      <td>Санкт-Петербург</td>\n",
       "      <td>smart</td>\n",
       "      <td>50</td>\n",
       "      <td>15360</td>\n",
       "      <td>500</td>\n",
       "      <td>550</td>\n",
       "      <td>200</td>\n",
       "      <td>3</td>\n",
       "      <td>3</td>\n",
       "    </tr>\n",
       "    <tr>\n",
       "      <td>2548</td>\n",
       "      <td>1345</td>\n",
       "      <td>8</td>\n",
       "      <td>281.0</td>\n",
       "      <td>3.0</td>\n",
       "      <td>23642.17</td>\n",
       "      <td>Москва</td>\n",
       "      <td>smart</td>\n",
       "      <td>50</td>\n",
       "      <td>15360</td>\n",
       "      <td>500</td>\n",
       "      <td>550</td>\n",
       "      <td>200</td>\n",
       "      <td>3</td>\n",
       "      <td>3</td>\n",
       "    </tr>\n",
       "  </tbody>\n",
       "</table>\n",
       "</div>"
      ],
      "text/plain": [
       "      user_id  month  calls_duration_min_month  messages_count_per_month  \\\n",
       "445      1271     11                     155.0                      45.0   \n",
       "2928     1433     11                     503.0                      83.0   \n",
       "2212     1266     12                     558.0                      47.0   \n",
       "3132     1482      3                     444.0                      63.0   \n",
       "2548     1345      8                     281.0                       3.0   \n",
       "\n",
       "      internet_traffic_mb_per_month             city tariff  \\\n",
       "445                         6976.25        Челябинск  ultra   \n",
       "2928                       13889.66         Подольск  smart   \n",
       "2212                       13534.06           Калуга  smart   \n",
       "3132                       13108.16  Санкт-Петербург  smart   \n",
       "2548                       23642.17           Москва  smart   \n",
       "\n",
       "      messages_included  mb_per_month_included  minutes_included  \\\n",
       "445                1000                  30720              3000   \n",
       "2928                 50                  15360               500   \n",
       "2212                 50                  15360               500   \n",
       "3132                 50                  15360               500   \n",
       "2548                 50                  15360               500   \n",
       "\n",
       "      rub_monthly_fee  rub_per_gb  rub_per_message  rub_per_minute  \n",
       "445              1950         150                1               1  \n",
       "2928              550         200                3               3  \n",
       "2212              550         200                3               3  \n",
       "3132              550         200                3               3  \n",
       "2548              550         200                3               3  "
      ]
     },
     "metadata": {},
     "output_type": "display_data"
    },
    {
     "name": "stdout",
     "output_type": "stream",
     "text": [
      "Таблица 9. Расчетные данные для определения помесячной выручки оператора с каждого пользователя\n"
     ]
    }
   ],
   "source": [
    "# стандартизация название колонок во фреймах\n",
    "tariffs = tariffs.rename(columns={'tariff_name': 'tariff'})\n",
    "\n",
    "# создание фрейма для расчета помесячной выручки с каждого пользователя\n",
    "month_revenue = (\n",
    "     calls.groupby(['user_id', 'month']).agg(calls_duration_min_month = ('duration_min', 'sum'))\n",
    "    .merge(messages.groupby(['user_id', 'month'])\n",
    "           .agg(messages_count_per_month = ('id', 'count')), on=['user_id', 'month'], how='outer')\n",
    "    .merge(internet.groupby(['user_id', 'month'])\n",
    "           .agg(internet_traffic_mb_per_month = ('mb_used', 'sum')), on=['user_id', 'month'], how='outer')\n",
    "    .reset_index()\n",
    "    .merge(users[['user_id', 'city', 'tariff']], on='user_id', how='outer')\n",
    "    .merge(tariffs, on='tariff')\n",
    "    .fillna(0)\n",
    ")\n",
    "\n",
    "# приведение типа данных к соответсвующему описываемому признаку\n",
    "month_revenue['month'] = month_revenue['month'].astype(int)\n",
    "\n",
    "# отображение результата\n",
    "display(month_revenue.sample(5))\n",
    "print('Таблица 9. Расчетные данные для определения помесячной выручки оператора с каждого пользователя')"
   ]
  },
  {
   "cell_type": "code",
   "execution_count": 18,
   "metadata": {},
   "outputs": [
    {
     "data": {
      "text/html": [
       "<div>\n",
       "<style scoped>\n",
       "    .dataframe tbody tr th:only-of-type {\n",
       "        vertical-align: middle;\n",
       "    }\n",
       "\n",
       "    .dataframe tbody tr th {\n",
       "        vertical-align: top;\n",
       "    }\n",
       "\n",
       "    .dataframe thead th {\n",
       "        text-align: right;\n",
       "    }\n",
       "</style>\n",
       "<table border=\"1\" class=\"dataframe\">\n",
       "  <thead>\n",
       "    <tr style=\"text-align: right;\">\n",
       "      <th></th>\n",
       "      <th>user_id</th>\n",
       "      <th>month</th>\n",
       "      <th>calls_duration_min_month</th>\n",
       "      <th>messages_count_per_month</th>\n",
       "      <th>internet_traffic_mb_per_month</th>\n",
       "      <th>city</th>\n",
       "      <th>tariff</th>\n",
       "      <th>messages_included</th>\n",
       "      <th>mb_per_month_included</th>\n",
       "      <th>minutes_included</th>\n",
       "      <th>rub_monthly_fee</th>\n",
       "      <th>rub_per_gb</th>\n",
       "      <th>rub_per_message</th>\n",
       "      <th>rub_per_minute</th>\n",
       "      <th>calls_revenue_per_month</th>\n",
       "      <th>messages_revenue_per_month</th>\n",
       "      <th>internet_revenue_per_month</th>\n",
       "      <th>total_revenue_per_month</th>\n",
       "    </tr>\n",
       "  </thead>\n",
       "  <tbody>\n",
       "    <tr>\n",
       "      <td>2512</td>\n",
       "      <td>1337</td>\n",
       "      <td>7</td>\n",
       "      <td>111.0</td>\n",
       "      <td>8.0</td>\n",
       "      <td>15873.78</td>\n",
       "      <td>Вологда</td>\n",
       "      <td>smart</td>\n",
       "      <td>50</td>\n",
       "      <td>15360</td>\n",
       "      <td>500</td>\n",
       "      <td>550</td>\n",
       "      <td>200</td>\n",
       "      <td>3</td>\n",
       "      <td>3</td>\n",
       "      <td>0.0</td>\n",
       "      <td>0.0</td>\n",
       "      <td>200.0</td>\n",
       "      <td>750.0</td>\n",
       "    </tr>\n",
       "    <tr>\n",
       "      <td>1840</td>\n",
       "      <td>1183</td>\n",
       "      <td>10</td>\n",
       "      <td>421.0</td>\n",
       "      <td>31.0</td>\n",
       "      <td>11886.21</td>\n",
       "      <td>Владивосток</td>\n",
       "      <td>smart</td>\n",
       "      <td>50</td>\n",
       "      <td>15360</td>\n",
       "      <td>500</td>\n",
       "      <td>550</td>\n",
       "      <td>200</td>\n",
       "      <td>3</td>\n",
       "      <td>3</td>\n",
       "      <td>0.0</td>\n",
       "      <td>0.0</td>\n",
       "      <td>0.0</td>\n",
       "      <td>550.0</td>\n",
       "    </tr>\n",
       "    <tr>\n",
       "      <td>2484</td>\n",
       "      <td>1327</td>\n",
       "      <td>4</td>\n",
       "      <td>214.0</td>\n",
       "      <td>37.0</td>\n",
       "      <td>7723.24</td>\n",
       "      <td>Новороссийск</td>\n",
       "      <td>smart</td>\n",
       "      <td>50</td>\n",
       "      <td>15360</td>\n",
       "      <td>500</td>\n",
       "      <td>550</td>\n",
       "      <td>200</td>\n",
       "      <td>3</td>\n",
       "      <td>3</td>\n",
       "      <td>0.0</td>\n",
       "      <td>0.0</td>\n",
       "      <td>0.0</td>\n",
       "      <td>550.0</td>\n",
       "    </tr>\n",
       "    <tr>\n",
       "      <td>1134</td>\n",
       "      <td>1032</td>\n",
       "      <td>4</td>\n",
       "      <td>521.0</td>\n",
       "      <td>30.0</td>\n",
       "      <td>16845.64</td>\n",
       "      <td>Ульяновск</td>\n",
       "      <td>smart</td>\n",
       "      <td>50</td>\n",
       "      <td>15360</td>\n",
       "      <td>500</td>\n",
       "      <td>550</td>\n",
       "      <td>200</td>\n",
       "      <td>3</td>\n",
       "      <td>3</td>\n",
       "      <td>63.0</td>\n",
       "      <td>0.0</td>\n",
       "      <td>400.0</td>\n",
       "      <td>1013.0</td>\n",
       "    </tr>\n",
       "    <tr>\n",
       "      <td>3129</td>\n",
       "      <td>1481</td>\n",
       "      <td>11</td>\n",
       "      <td>297.0</td>\n",
       "      <td>19.0</td>\n",
       "      <td>19925.12</td>\n",
       "      <td>Москва</td>\n",
       "      <td>smart</td>\n",
       "      <td>50</td>\n",
       "      <td>15360</td>\n",
       "      <td>500</td>\n",
       "      <td>550</td>\n",
       "      <td>200</td>\n",
       "      <td>3</td>\n",
       "      <td>3</td>\n",
       "      <td>0.0</td>\n",
       "      <td>0.0</td>\n",
       "      <td>1000.0</td>\n",
       "      <td>1550.0</td>\n",
       "    </tr>\n",
       "  </tbody>\n",
       "</table>\n",
       "</div>"
      ],
      "text/plain": [
       "      user_id  month  calls_duration_min_month  messages_count_per_month  \\\n",
       "2512     1337      7                     111.0                       8.0   \n",
       "1840     1183     10                     421.0                      31.0   \n",
       "2484     1327      4                     214.0                      37.0   \n",
       "1134     1032      4                     521.0                      30.0   \n",
       "3129     1481     11                     297.0                      19.0   \n",
       "\n",
       "      internet_traffic_mb_per_month          city tariff  messages_included  \\\n",
       "2512                       15873.78       Вологда  smart                 50   \n",
       "1840                       11886.21   Владивосток  smart                 50   \n",
       "2484                        7723.24  Новороссийск  smart                 50   \n",
       "1134                       16845.64     Ульяновск  smart                 50   \n",
       "3129                       19925.12        Москва  smart                 50   \n",
       "\n",
       "      mb_per_month_included  minutes_included  rub_monthly_fee  rub_per_gb  \\\n",
       "2512                  15360               500              550         200   \n",
       "1840                  15360               500              550         200   \n",
       "2484                  15360               500              550         200   \n",
       "1134                  15360               500              550         200   \n",
       "3129                  15360               500              550         200   \n",
       "\n",
       "      rub_per_message  rub_per_minute  calls_revenue_per_month  \\\n",
       "2512                3               3                      0.0   \n",
       "1840                3               3                      0.0   \n",
       "2484                3               3                      0.0   \n",
       "1134                3               3                     63.0   \n",
       "3129                3               3                      0.0   \n",
       "\n",
       "      messages_revenue_per_month  internet_revenue_per_month  \\\n",
       "2512                         0.0                       200.0   \n",
       "1840                         0.0                         0.0   \n",
       "2484                         0.0                         0.0   \n",
       "1134                         0.0                       400.0   \n",
       "3129                         0.0                      1000.0   \n",
       "\n",
       "      total_revenue_per_month  \n",
       "2512                    750.0  \n",
       "1840                    550.0  \n",
       "2484                    550.0  \n",
       "1134                   1013.0  \n",
       "3129                   1550.0  "
      ]
     },
     "metadata": {},
     "output_type": "display_data"
    },
    {
     "name": "stdout",
     "output_type": "stream",
     "text": [
      "Таблица 10. расчетная таблица. Помесячная выручка оператора с каждого пользователя\n"
     ]
    },
    {
     "data": {
      "text/html": [
       "<div>\n",
       "<style scoped>\n",
       "    .dataframe tbody tr th:only-of-type {\n",
       "        vertical-align: middle;\n",
       "    }\n",
       "\n",
       "    .dataframe tbody tr th {\n",
       "        vertical-align: top;\n",
       "    }\n",
       "\n",
       "    .dataframe thead th {\n",
       "        text-align: right;\n",
       "    }\n",
       "</style>\n",
       "<table border=\"1\" class=\"dataframe\">\n",
       "  <thead>\n",
       "    <tr style=\"text-align: right;\">\n",
       "      <th>tariff</th>\n",
       "      <th>smart</th>\n",
       "      <th>ultra</th>\n",
       "    </tr>\n",
       "    <tr>\n",
       "      <th>month</th>\n",
       "      <th></th>\n",
       "      <th></th>\n",
       "    </tr>\n",
       "  </thead>\n",
       "  <tbody>\n",
       "    <tr>\n",
       "      <td>0</td>\n",
       "      <td>550.000000</td>\n",
       "      <td>1950.000000</td>\n",
       "    </tr>\n",
       "    <tr>\n",
       "      <td>1</td>\n",
       "      <td>721.323529</td>\n",
       "      <td>1950.000000</td>\n",
       "    </tr>\n",
       "    <tr>\n",
       "      <td>2</td>\n",
       "      <td>827.603448</td>\n",
       "      <td>1975.000000</td>\n",
       "    </tr>\n",
       "    <tr>\n",
       "      <td>3</td>\n",
       "      <td>1164.623377</td>\n",
       "      <td>2014.864865</td>\n",
       "    </tr>\n",
       "    <tr>\n",
       "      <td>4</td>\n",
       "      <td>963.089286</td>\n",
       "      <td>2001.818182</td>\n",
       "    </tr>\n",
       "    <tr>\n",
       "      <td>5</td>\n",
       "      <td>1197.510638</td>\n",
       "      <td>2059.701493</td>\n",
       "    </tr>\n",
       "    <tr>\n",
       "      <td>6</td>\n",
       "      <td>1204.018293</td>\n",
       "      <td>2039.285714</td>\n",
       "    </tr>\n",
       "    <tr>\n",
       "      <td>7</td>\n",
       "      <td>1223.950249</td>\n",
       "      <td>2118.131868</td>\n",
       "    </tr>\n",
       "    <tr>\n",
       "      <td>8</td>\n",
       "      <td>1320.595745</td>\n",
       "      <td>2083.177570</td>\n",
       "    </tr>\n",
       "    <tr>\n",
       "      <td>9</td>\n",
       "      <td>1249.946154</td>\n",
       "      <td>2024.347826</td>\n",
       "    </tr>\n",
       "    <tr>\n",
       "      <td>10</td>\n",
       "      <td>1364.853741</td>\n",
       "      <td>2065.853659</td>\n",
       "    </tr>\n",
       "    <tr>\n",
       "      <td>11</td>\n",
       "      <td>1343.047468</td>\n",
       "      <td>2092.164179</td>\n",
       "    </tr>\n",
       "    <tr>\n",
       "      <td>12</td>\n",
       "      <td>1578.531157</td>\n",
       "      <td>2138.848921</td>\n",
       "    </tr>\n",
       "  </tbody>\n",
       "</table>\n",
       "</div>"
      ],
      "text/plain": [
       "tariff        smart        ultra\n",
       "month                           \n",
       "0        550.000000  1950.000000\n",
       "1        721.323529  1950.000000\n",
       "2        827.603448  1975.000000\n",
       "3       1164.623377  2014.864865\n",
       "4        963.089286  2001.818182\n",
       "5       1197.510638  2059.701493\n",
       "6       1204.018293  2039.285714\n",
       "7       1223.950249  2118.131868\n",
       "8       1320.595745  2083.177570\n",
       "9       1249.946154  2024.347826\n",
       "10      1364.853741  2065.853659\n",
       "11      1343.047468  2092.164179\n",
       "12      1578.531157  2138.848921"
      ]
     },
     "metadata": {},
     "output_type": "display_data"
    },
    {
     "name": "stdout",
     "output_type": "stream",
     "text": [
      "Таблица 11. Помесячная выручка оператора с каждого пользователя\n"
     ]
    },
    {
     "data": {
      "image/png": "[encoded data removed]",
      "text/plain": [
       "<Figure size 864x360 with 1 Axes>"
      ]
     },
     "metadata": {
      "needs_background": "light"
     },
     "output_type": "display_data"
    },
    {
     "name": "stdout",
     "output_type": "stream",
     "text": [
      "Рисунок 6. График динамики помесячной выручки тарифов \"Смарт\", \"Ультра\"\n"
     ]
    }
   ],
   "source": [
    "# расчет помесячной выручки за телефонные звонки с каждого пользователя\n",
    "month_revenue['calls_revenue_per_month'] = (\n",
    "    (month_revenue['calls_duration_min_month'] - month_revenue['minutes_included']) \n",
    "        * month_revenue['rub_per_minute']\n",
    ")\n",
    "\n",
    "month_revenue.loc[month_revenue['calls_revenue_per_month'] < 0, 'calls_revenue_per_month'] = 0\n",
    "\n",
    "# расчет помесячной выручки за сообщения с каждого пользователя\n",
    "month_revenue['messages_revenue_per_month'] = (\n",
    "        (month_revenue['messages_count_per_month'] - month_revenue['messages_included'])\n",
    "        * month_revenue['rub_per_message']\n",
    ")\n",
    "\n",
    "month_revenue.loc[month_revenue['messages_revenue_per_month'] < 0, 'messages_revenue_per_month'] = 0\n",
    "\n",
    "# расчет помесячной выручки за интернет-траффки с каждого пользователя\n",
    "month_revenue['internet_revenue_per_month'] = (\n",
    "        np.ceil((month_revenue['internet_traffic_mb_per_month'] - month_revenue['mb_per_month_included']) / 1024.0) \n",
    "        * month_revenue['rub_per_gb']\n",
    ")\n",
    "\n",
    "month_revenue.loc[month_revenue['internet_revenue_per_month'] < 0, 'internet_revenue_per_month'] = 0\n",
    "\n",
    "# расчет общей помесячной выручки с каждого пользователя\n",
    "month_revenue['total_revenue_per_month'] = (\n",
    "    month_revenue['calls_revenue_per_month'] + month_revenue['messages_revenue_per_month'] \n",
    "    + month_revenue['internet_revenue_per_month'] + month_revenue['rub_monthly_fee']\n",
    ")\n",
    "\n",
    "# отображение результата\n",
    "display(month_revenue.sample(5))\n",
    "print('Таблица 10. расчетная таблица. Помесячная выручка оператора с каждого пользователя')\n",
    "\n",
    "# визуализация динамики средней помесячной выручки с пользователя\n",
    "display(month_revenue\n",
    "        .pivot_table(\n",
    "            index='month', \n",
    "            columns='tariff', \n",
    "            values='total_revenue_per_month', \n",
    "            aggfunc='mean'\n",
    "        )\n",
    "       )\n",
    "print('Таблица 11. Помесячная выручка оператора с каждого пользователя')\n",
    "\n",
    "(\n",
    "    month_revenue\n",
    "        .pivot_table(\n",
    "            index='month', \n",
    "            columns='tariff', \n",
    "            values='total_revenue_per_month', \n",
    "            aggfunc='mean'\n",
    "        )\n",
    "    .plot(figsize=(12, 5), grid=True)\n",
    ")\n",
    "\n",
    "plt.title('Динамика помесячной выручки тарифов \"Смарт\", \"Ультра\"')\n",
    "plt.xlabel('Месяц')\n",
    "plt.show()\n",
    "print('Рисунок 6. График динамики помесячной выручки тарифов \"Смарт\", \"Ультра\"')\n",
    "        \n"
   ]
  },
  {
   "cell_type": "markdown",
   "metadata": {},
   "source": [
    "**Вывод**\n",
    "\n",
    "Средняя помесячная выручка тарифа ultra с каждого абонента, начиная с марта 2018 года стабильно превышает отметку в 2000 рублей на протяжении всего исследуемого периода с провалом в апреле 2018 года в значение 2001 рублей и пиками в июле 2018 года и декабре 2018 года в значениях 2118 рублей и 2138 рублей. Что обуславливается стоимостью тарифного плана в 1965 рублей и выхода в сверхлимитные значения по звонкам, сообщениям и интернет-траффику пользователей тарифа, таким образом, формировая дополнительную выручка от использования тарифного плана.\n",
    "\n",
    "Средняя помесячная выручка тарифа \"Смарт\" с каждого абонента стартует в январе 2018 года с отметки в 550 рублей и ростом в четыре пика в марте 2018 года (1164 рубля), июне 2018 года (1223 рублей), августе 2018 года (1320 рубля) и октябре 2018 года (1364 рубля) завершает рост отметкой 1578 рубля в декабре 2028 года. Стоимость пакета \"Смарт\" составлет 550 рублей, добавочная выручка образуеться за счет перерасхода лимитов по пакету услуг.\n",
    "\n",
    "Далее проанализиуем поведение клиентов, с целью определения оптимальных параметров тарифов по количеству минут, сообщений и интренет-траффику."
   ]
  },
  {
   "cell_type": "markdown",
   "metadata": {},
   "source": [
    "## Анализ поведения клиентов в разрезе тарифов"
   ]
  },
  {
   "cell_type": "markdown",
   "metadata": {},
   "source": [
    "### Звонки"
   ]
  },
  {
   "cell_type": "markdown",
   "metadata": {},
   "source": [
    "#### Тарифный план smart"
   ]
  },
  {
   "cell_type": "code",
   "execution_count": 19,
   "metadata": {
    "scrolled": false
   },
   "outputs": [
    {
     "data": {
      "text/html": [
       "<div>\n",
       "<style scoped>\n",
       "    .dataframe tbody tr th:only-of-type {\n",
       "        vertical-align: middle;\n",
       "    }\n",
       "\n",
       "    .dataframe tbody tr th {\n",
       "        vertical-align: top;\n",
       "    }\n",
       "\n",
       "    .dataframe thead th {\n",
       "        text-align: right;\n",
       "    }\n",
       "</style>\n",
       "<table border=\"1\" class=\"dataframe\">\n",
       "  <thead>\n",
       "    <tr style=\"text-align: right;\">\n",
       "      <th></th>\n",
       "      <th>user_id</th>\n",
       "      <th>month</th>\n",
       "      <th>min_per_month_smart</th>\n",
       "      <th>calls_cnt_smart</th>\n",
       "      <th>avg_min_per_month_smart</th>\n",
       "    </tr>\n",
       "  </thead>\n",
       "  <tbody>\n",
       "    <tr>\n",
       "      <td>1171</td>\n",
       "      <td>1251</td>\n",
       "      <td>6</td>\n",
       "      <td>440.0</td>\n",
       "      <td>57</td>\n",
       "      <td>7.719298</td>\n",
       "    </tr>\n",
       "    <tr>\n",
       "      <td>2011</td>\n",
       "      <td>1454</td>\n",
       "      <td>10</td>\n",
       "      <td>432.0</td>\n",
       "      <td>50</td>\n",
       "      <td>8.640000</td>\n",
       "    </tr>\n",
       "    <tr>\n",
       "      <td>1423</td>\n",
       "      <td>1312</td>\n",
       "      <td>10</td>\n",
       "      <td>613.0</td>\n",
       "      <td>63</td>\n",
       "      <td>9.730159</td>\n",
       "    </tr>\n",
       "    <tr>\n",
       "      <td>2200</td>\n",
       "      <td>1496</td>\n",
       "      <td>3</td>\n",
       "      <td>557.0</td>\n",
       "      <td>67</td>\n",
       "      <td>8.313433</td>\n",
       "    </tr>\n",
       "    <tr>\n",
       "      <td>1370</td>\n",
       "      <td>1299</td>\n",
       "      <td>9</td>\n",
       "      <td>443.0</td>\n",
       "      <td>54</td>\n",
       "      <td>8.203704</td>\n",
       "    </tr>\n",
       "  </tbody>\n",
       "</table>\n",
       "</div>"
      ],
      "text/plain": [
       "      user_id  month  min_per_month_smart  calls_cnt_smart  \\\n",
       "1171     1251      6                440.0               57   \n",
       "2011     1454     10                432.0               50   \n",
       "1423     1312     10                613.0               63   \n",
       "2200     1496      3                557.0               67   \n",
       "1370     1299      9                443.0               54   \n",
       "\n",
       "      avg_min_per_month_smart  \n",
       "1171                 7.719298  \n",
       "2011                 8.640000  \n",
       "1423                 9.730159  \n",
       "2200                 8.313433  \n",
       "1370                 8.203704  "
      ]
     },
     "metadata": {},
     "output_type": "display_data"
    },
    {
     "name": "stdout",
     "output_type": "stream",
     "text": [
      "Таблица 12. Количества звонков, использованных минут, средней продолжительности разговора \n",
      "пользователя тарифа smart в месяц\n"
     ]
    },
    {
     "data": {
      "text/html": [
       "<div>\n",
       "<style scoped>\n",
       "    .dataframe tbody tr th:only-of-type {\n",
       "        vertical-align: middle;\n",
       "    }\n",
       "\n",
       "    .dataframe tbody tr th {\n",
       "        vertical-align: top;\n",
       "    }\n",
       "\n",
       "    .dataframe thead th {\n",
       "        text-align: right;\n",
       "    }\n",
       "</style>\n",
       "<table border=\"1\" class=\"dataframe\">\n",
       "  <thead>\n",
       "    <tr style=\"text-align: right;\">\n",
       "      <th></th>\n",
       "      <th>summary</th>\n",
       "    </tr>\n",
       "  </thead>\n",
       "  <tbody>\n",
       "    <tr>\n",
       "      <td>count</td>\n",
       "      <td>2221.000000</td>\n",
       "    </tr>\n",
       "    <tr>\n",
       "      <td>mean</td>\n",
       "      <td>8.901172</td>\n",
       "    </tr>\n",
       "    <tr>\n",
       "      <td>std</td>\n",
       "      <td>0.977322</td>\n",
       "    </tr>\n",
       "    <tr>\n",
       "      <td>min</td>\n",
       "      <td>2.000000</td>\n",
       "    </tr>\n",
       "    <tr>\n",
       "      <td>25%</td>\n",
       "      <td>8.351852</td>\n",
       "    </tr>\n",
       "    <tr>\n",
       "      <td>50%</td>\n",
       "      <td>8.911111</td>\n",
       "    </tr>\n",
       "    <tr>\n",
       "      <td>75%</td>\n",
       "      <td>9.441176</td>\n",
       "    </tr>\n",
       "    <tr>\n",
       "      <td>max</td>\n",
       "      <td>18.000000</td>\n",
       "    </tr>\n",
       "  </tbody>\n",
       "</table>\n",
       "</div>"
      ],
      "text/plain": [
       "           summary\n",
       "count  2221.000000\n",
       "mean      8.901172\n",
       "std       0.977322\n",
       "min       2.000000\n",
       "25%       8.351852\n",
       "50%       8.911111\n",
       "75%       9.441176\n",
       "max      18.000000"
      ]
     },
     "metadata": {},
     "output_type": "display_data"
    },
    {
     "name": "stdout",
     "output_type": "stream",
     "text": [
      "Таблица 13. Статистики средней продолжительности разговора пользователя тарифа smart в месяц\n"
     ]
    },
    {
     "data": {
      "image/png": "[encoded data removed]",
      "text/plain": [
       "<Figure size 1440x720 with 2 Axes>"
      ]
     },
     "metadata": {
      "needs_background": "light"
     },
     "output_type": "display_data"
    },
    {
     "name": "stdout",
     "output_type": "stream",
     "text": [
      "Рисунок 7. Гистограмма распределения средней продолжительности разговора пользователя тарифа smart в месяц\n"
     ]
    },
    {
     "data": {
      "text/html": [
       "<div>\n",
       "<style scoped>\n",
       "    .dataframe tbody tr th:only-of-type {\n",
       "        vertical-align: middle;\n",
       "    }\n",
       "\n",
       "    .dataframe tbody tr th {\n",
       "        vertical-align: top;\n",
       "    }\n",
       "\n",
       "    .dataframe thead th {\n",
       "        text-align: right;\n",
       "    }\n",
       "</style>\n",
       "<table border=\"1\" class=\"dataframe\">\n",
       "  <thead>\n",
       "    <tr style=\"text-align: right;\">\n",
       "      <th></th>\n",
       "      <th>summary</th>\n",
       "    </tr>\n",
       "  </thead>\n",
       "  <tbody>\n",
       "    <tr>\n",
       "      <td>count</td>\n",
       "      <td>2221.000000</td>\n",
       "    </tr>\n",
       "    <tr>\n",
       "      <td>mean</td>\n",
       "      <td>47.116614</td>\n",
       "    </tr>\n",
       "    <tr>\n",
       "      <td>std</td>\n",
       "      <td>20.887092</td>\n",
       "    </tr>\n",
       "    <tr>\n",
       "      <td>min</td>\n",
       "      <td>1.000000</td>\n",
       "    </tr>\n",
       "    <tr>\n",
       "      <td>25%</td>\n",
       "      <td>32.000000</td>\n",
       "    </tr>\n",
       "    <tr>\n",
       "      <td>50%</td>\n",
       "      <td>48.000000</td>\n",
       "    </tr>\n",
       "    <tr>\n",
       "      <td>75%</td>\n",
       "      <td>61.000000</td>\n",
       "    </tr>\n",
       "    <tr>\n",
       "      <td>max</td>\n",
       "      <td>162.000000</td>\n",
       "    </tr>\n",
       "  </tbody>\n",
       "</table>\n",
       "</div>"
      ],
      "text/plain": [
       "           summary\n",
       "count  2221.000000\n",
       "mean     47.116614\n",
       "std      20.887092\n",
       "min       1.000000\n",
       "25%      32.000000\n",
       "50%      48.000000\n",
       "75%      61.000000\n",
       "max     162.000000"
      ]
     },
     "metadata": {},
     "output_type": "display_data"
    },
    {
     "name": "stdout",
     "output_type": "stream",
     "text": [
      "Таблица 14. Статистики количества звонков пользователя тарифа smart в месяц\n"
     ]
    },
    {
     "data": {
      "image/png": "[encoded data removed]",
      "text/plain": [
       "<Figure size 1440x720 with 2 Axes>"
      ]
     },
     "metadata": {
      "needs_background": "light"
     },
     "output_type": "display_data"
    },
    {
     "name": "stdout",
     "output_type": "stream",
     "text": [
      "Рисунок 8. Гистограмма распределения количества звонков пользователя тарифа smart в месяц\n"
     ]
    },
    {
     "data": {
      "text/html": [
       "<div>\n",
       "<style scoped>\n",
       "    .dataframe tbody tr th:only-of-type {\n",
       "        vertical-align: middle;\n",
       "    }\n",
       "\n",
       "    .dataframe tbody tr th {\n",
       "        vertical-align: top;\n",
       "    }\n",
       "\n",
       "    .dataframe thead th {\n",
       "        text-align: right;\n",
       "    }\n",
       "</style>\n",
       "<table border=\"1\" class=\"dataframe\">\n",
       "  <thead>\n",
       "    <tr style=\"text-align: right;\">\n",
       "      <th></th>\n",
       "      <th>summary</th>\n",
       "    </tr>\n",
       "  </thead>\n",
       "  <tbody>\n",
       "    <tr>\n",
       "      <td>count</td>\n",
       "      <td>2221.000000</td>\n",
       "    </tr>\n",
       "    <tr>\n",
       "      <td>mean</td>\n",
       "      <td>419.440342</td>\n",
       "    </tr>\n",
       "    <tr>\n",
       "      <td>std</td>\n",
       "      <td>188.992403</td>\n",
       "    </tr>\n",
       "    <tr>\n",
       "      <td>min</td>\n",
       "      <td>2.000000</td>\n",
       "    </tr>\n",
       "    <tr>\n",
       "      <td>25%</td>\n",
       "      <td>285.000000</td>\n",
       "    </tr>\n",
       "    <tr>\n",
       "      <td>50%</td>\n",
       "      <td>423.000000</td>\n",
       "    </tr>\n",
       "    <tr>\n",
       "      <td>75%</td>\n",
       "      <td>546.000000</td>\n",
       "    </tr>\n",
       "    <tr>\n",
       "      <td>max</td>\n",
       "      <td>1435.000000</td>\n",
       "    </tr>\n",
       "  </tbody>\n",
       "</table>\n",
       "</div>"
      ],
      "text/plain": [
       "           summary\n",
       "count  2221.000000\n",
       "mean    419.440342\n",
       "std     188.992403\n",
       "min       2.000000\n",
       "25%     285.000000\n",
       "50%     423.000000\n",
       "75%     546.000000\n",
       "max    1435.000000"
      ]
     },
     "metadata": {},
     "output_type": "display_data"
    },
    {
     "name": "stdout",
     "output_type": "stream",
     "text": [
      "Таблица 15. Статистики использованных минут пользователем тарифа smart в месяц\n"
     ]
    },
    {
     "data": {
      "image/png": "[encoded data removed]",
      "text/plain": [
       "<Figure size 1440x720 with 2 Axes>"
      ]
     },
     "metadata": {
      "needs_background": "light"
     },
     "output_type": "display_data"
    },
    {
     "name": "stdout",
     "output_type": "stream",
     "text": [
      "Рисунок 9. Гистограмма распределения количества использованных минут пользователем тарифа smart в месяц\n"
     ]
    }
   ],
   "source": [
    "# обогащение фрейма с данными по звонкам сведения об используемом тарифе\n",
    "calls = calls.merge(users[['user_id', 'tariff']], on='user_id')\n",
    "\n",
    "# расчет количества звонков, использованных минут, \n",
    "# средней продолжительности разговора пользователя тарифа smart в месяц\n",
    "avg_min_per_month_smart =(\n",
    "    calls[calls['tariff'] == 'smart']\n",
    "    .groupby(['user_id', 'month'])\n",
    "    .agg(\n",
    "        min_per_month_smart = ('duration_min', 'sum'), \n",
    "        calls_cnt_smart = ('id', 'count')\n",
    " )\n",
    "    .reset_index()\n",
    "    .assign(avg_min_per_month_smart = lambda x: x['min_per_month_smart'] / x['calls_cnt_smart'])\n",
    ")\n",
    "\n",
    "# отображение расчетной таблицы звонков пользователей тарифа smart\n",
    "display(avg_min_per_month_smart.sample(5))\n",
    "print('''Таблица 12. Количества звонков, использованных минут, средней продолжительности разговора \n",
    "пользователя тарифа smart в месяц''')\n",
    "\n",
    "# отображение статистик средней продолжительности разговора пользователя тарифа smart в месяц\n",
    "display(\n",
    "    avg_min_per_month_smart['avg_min_per_month_smart']\n",
    "    .describe()\n",
    "    .to_frame()\n",
    "    .rename(columns={'avg_min_per_month_smart': 'summary'})\n",
    ")\n",
    "print('Таблица 13. Статистики средней продолжительности разговора пользователя тарифа smart в месяц')\n",
    "\n",
    "# визуализация статистик средней продолжительности разговора пользователя тарифа smart в месяц\n",
    "plt.figure(figsize=(20, 10))\n",
    "\n",
    "plt.subplot(2, 1, 1)\n",
    "avg_min_per_month_smart['avg_min_per_month_smart'].hist(bins=100)\n",
    "plt.title('Распределение средней продолжительности разговора пользователя тарифа smart в месяц', fontsize=15)\n",
    "\n",
    "plt.subplot(2, 1, 2)\n",
    "sns.boxplot(avg_min_per_month_smart['avg_min_per_month_smart'])\n",
    "plt.xlabel('Минуты')\n",
    "\n",
    "plt.show()\n",
    "print('Рисунок 7. Гистограмма распределения средней продолжительности разговора пользователя тарифа smart в месяц')\n",
    "\n",
    "# отображение статистик количества звонков пользователя тарифа smart в месяц\n",
    "display(\n",
    "    avg_min_per_month_smart['calls_cnt_smart']\n",
    "    .describe()\n",
    "    .to_frame()\n",
    "    .rename(columns={'calls_cnt_smart': 'summary'})\n",
    ")\n",
    "print('Таблица 14. Статистики количества звонков пользователя тарифа smart в месяц')\n",
    "\n",
    "# визуализация статистик количества звонков пользователя тарифа smart в месяц\n",
    "plt.figure(figsize=(20, 10))\n",
    "\n",
    "plt.subplot(2, 1, 1)\n",
    "avg_min_per_month_smart['calls_cnt_smart'].hist(bins=100)\n",
    "plt.title('Распределение количества звонков пользователя тарифа smart в месяц', fontsize=15)\n",
    "\n",
    "plt.subplot(2, 1, 2)\n",
    "sns.boxplot(avg_min_per_month_smart['calls_cnt_smart'])\n",
    "plt.xlabel('Звонки')\n",
    "\n",
    "plt.show()\n",
    "print('Рисунок 8. Гистограмма распределения количества звонков пользователя тарифа smart в месяц')\n",
    "\n",
    "# отображение статистик использованных минут пользователем тарифа smart в месяц\n",
    "display(\n",
    "    avg_min_per_month_smart['min_per_month_smart']\n",
    "    .describe()\n",
    "    .to_frame()\n",
    "    .rename(columns={'min_per_month_smart': 'summary'})\n",
    ")\n",
    "print('Таблица 15. Статистики использованных минут пользователем тарифа smart в месяц')\n",
    "\n",
    "# визуализация статистик использованных минут пользователем тарифа smart в месяц\n",
    "plt.figure(figsize=(20, 10))\n",
    "\n",
    "plt.subplot(2, 1, 1)\n",
    "avg_min_per_month_smart['min_per_month_smart'].hist(bins=100)\n",
    "plt.title('Распределение количества использованных минут пользователем тарифа smart в месяц', fontsize=15)\n",
    "\n",
    "plt.subplot(2, 1, 2)\n",
    "sns.boxplot(avg_min_per_month_smart['min_per_month_smart'])\n",
    "plt.xlabel('Минуты')\n",
    "\n",
    "plt.show()\n",
    "print('Рисунок 9. Гистограмма распределения количества использованных минут пользователем тарифа smart в месяц')"
   ]
  },
  {
   "cell_type": "markdown",
   "metadata": {},
   "source": [
    "Представленные на исследование данные о телефонных соединениях пользователей тарифа smart позволяют оценить общую продолжительность телефонных разговоров в месяц, количество телефонных звонков в месяц и среднюю продолжительность одного разговора пользователя в месяц.\n",
    "\n",
    "Так, исходя из 2221 наблюдения **средняя продолжительностью одного телефонного разговора пользователя тарифа smart в месяц** составляет 8,9 мин, при равной медиане в 8,9 мин, при этом скошенность распределения средней продолжительности разговора пользователя в месяц, как влево, так и вправо на гистограмме распределения не наблюдается. Единство арифметической средней и показателя положения - медианы объясняеться наличием как коротких двухминутных вызовов, так и компенсирующих их достачно продолжительных средних разговоров вплодь до 18 мин. При этом межквартильное расстояние равное 1 мин, позволяет признать разговоры длительноостью более 11 мин и менее 7 мин выбросами (значениями явно выбивающимися из общей выборке). \n",
    "\n",
    "Стандартное отклонение равно 1 мин, что при размахе выборке в 16 мин говорит о достаточно узком распределении данных. Так, порядка 95% наблюдений (референтное значение) располагаются в интревале от 7 мин до 11 мин. Распределение имеет близкое к нормальному вид.\n",
    "\n",
    "**Среднее количество звонков пользователя тарифа smart в месяц** составляет 47 звонка, при медиане в 48 звонка и стандартном отклонении в 21 звонок. Размах выборки составляет 161 звонок, при минуме в 1 звонок и максимуме в 162 звонка. \n",
    "\n",
    "Межквартильный размах равен 29 звонкам, что предполагает выбросы при количестве звонков в месяц более 105. Практичесик все наблюдения выборки (99%) находятся в интервале от 1 до 111 звонков. В виду наличия восьми выбросов, распределение имеет некоторый правосторонних скос (\"жирный хвост\"), однако, в целом имеет вид близкий к нормальному распределение.\n",
    "\n",
    "**Количество использованных минут пользователем тарифа smart в месяц** имеет среднее значение в 419 и медиану в 423. Таким образом, характеристика положения распределения определяет его некоторое смещение влево (правосторонних скос) относительности арифметической метрики мер центральной тенденции. Стандарное отклоние равное 189 мин при размахе выборке в 1433 мин свидетельствует о достаточно широком распределении.\n",
    "\n",
    "Межквартильный размах равен 261 мин, значит выбросами возможно признать пользователей использующих более 938 мин в месяц. Референтное значение по выборке составляет от 47 до 799 мин использования для разговоров в месяц.\n",
    "\n",
    "Распределение имеет близкое к нормальному вид."
   ]
  },
  {
   "cell_type": "markdown",
   "metadata": {},
   "source": [
    "#### Тарифный план ultra"
   ]
  },
  {
   "cell_type": "code",
   "execution_count": 20,
   "metadata": {
    "scrolled": false
   },
   "outputs": [
    {
     "data": {
      "text/html": [
       "<div>\n",
       "<style scoped>\n",
       "    .dataframe tbody tr th:only-of-type {\n",
       "        vertical-align: middle;\n",
       "    }\n",
       "\n",
       "    .dataframe tbody tr th {\n",
       "        vertical-align: top;\n",
       "    }\n",
       "\n",
       "    .dataframe thead th {\n",
       "        text-align: right;\n",
       "    }\n",
       "</style>\n",
       "<table border=\"1\" class=\"dataframe\">\n",
       "  <thead>\n",
       "    <tr style=\"text-align: right;\">\n",
       "      <th></th>\n",
       "      <th>user_id</th>\n",
       "      <th>month</th>\n",
       "      <th>min_per_month_ultra</th>\n",
       "      <th>calls_cnt_ultra</th>\n",
       "      <th>avg_min_per_month_ultra</th>\n",
       "    </tr>\n",
       "  </thead>\n",
       "  <tbody>\n",
       "    <tr>\n",
       "      <td>679</td>\n",
       "      <td>1375</td>\n",
       "      <td>11</td>\n",
       "      <td>980.0</td>\n",
       "      <td>111</td>\n",
       "      <td>8.828829</td>\n",
       "    </tr>\n",
       "    <tr>\n",
       "      <td>35</td>\n",
       "      <td>1019</td>\n",
       "      <td>6</td>\n",
       "      <td>386.0</td>\n",
       "      <td>43</td>\n",
       "      <td>8.976744</td>\n",
       "    </tr>\n",
       "    <tr>\n",
       "      <td>915</td>\n",
       "      <td>1471</td>\n",
       "      <td>8</td>\n",
       "      <td>866.0</td>\n",
       "      <td>89</td>\n",
       "      <td>9.730337</td>\n",
       "    </tr>\n",
       "    <tr>\n",
       "      <td>898</td>\n",
       "      <td>1466</td>\n",
       "      <td>10</td>\n",
       "      <td>647.0</td>\n",
       "      <td>68</td>\n",
       "      <td>9.514706</td>\n",
       "    </tr>\n",
       "    <tr>\n",
       "      <td>406</td>\n",
       "      <td>1254</td>\n",
       "      <td>3</td>\n",
       "      <td>504.0</td>\n",
       "      <td>56</td>\n",
       "      <td>9.000000</td>\n",
       "    </tr>\n",
       "  </tbody>\n",
       "</table>\n",
       "</div>"
      ],
      "text/plain": [
       "     user_id  month  min_per_month_ultra  calls_cnt_ultra  \\\n",
       "679     1375     11                980.0              111   \n",
       "35      1019      6                386.0               43   \n",
       "915     1471      8                866.0               89   \n",
       "898     1466     10                647.0               68   \n",
       "406     1254      3                504.0               56   \n",
       "\n",
       "     avg_min_per_month_ultra  \n",
       "679                 8.828829  \n",
       "35                  8.976744  \n",
       "915                 9.730337  \n",
       "898                 9.514706  \n",
       "406                 9.000000  "
      ]
     },
     "metadata": {},
     "output_type": "display_data"
    },
    {
     "name": "stdout",
     "output_type": "stream",
     "text": [
      "Таблица 16. Количества звонков, использованных минут, средней продолжительности разговора \n",
      "пользователя тарифа ultra в месяц\n"
     ]
    },
    {
     "data": {
      "text/html": [
       "<div>\n",
       "<style scoped>\n",
       "    .dataframe tbody tr th:only-of-type {\n",
       "        vertical-align: middle;\n",
       "    }\n",
       "\n",
       "    .dataframe tbody tr th {\n",
       "        vertical-align: top;\n",
       "    }\n",
       "\n",
       "    .dataframe thead th {\n",
       "        text-align: right;\n",
       "    }\n",
       "</style>\n",
       "<table border=\"1\" class=\"dataframe\">\n",
       "  <thead>\n",
       "    <tr style=\"text-align: right;\">\n",
       "      <th></th>\n",
       "      <th>summary</th>\n",
       "    </tr>\n",
       "  </thead>\n",
       "  <tbody>\n",
       "    <tr>\n",
       "      <td>count</td>\n",
       "      <td>947.000000</td>\n",
       "    </tr>\n",
       "    <tr>\n",
       "      <td>mean</td>\n",
       "      <td>8.884253</td>\n",
       "    </tr>\n",
       "    <tr>\n",
       "      <td>std</td>\n",
       "      <td>1.095982</td>\n",
       "    </tr>\n",
       "    <tr>\n",
       "      <td>min</td>\n",
       "      <td>1.000000</td>\n",
       "    </tr>\n",
       "    <tr>\n",
       "      <td>25%</td>\n",
       "      <td>8.429339</td>\n",
       "    </tr>\n",
       "    <tr>\n",
       "      <td>50%</td>\n",
       "      <td>8.891892</td>\n",
       "    </tr>\n",
       "    <tr>\n",
       "      <td>75%</td>\n",
       "      <td>9.350243</td>\n",
       "    </tr>\n",
       "    <tr>\n",
       "      <td>max</td>\n",
       "      <td>17.500000</td>\n",
       "    </tr>\n",
       "  </tbody>\n",
       "</table>\n",
       "</div>"
      ],
      "text/plain": [
       "          summary\n",
       "count  947.000000\n",
       "mean     8.884253\n",
       "std      1.095982\n",
       "min      1.000000\n",
       "25%      8.429339\n",
       "50%      8.891892\n",
       "75%      9.350243\n",
       "max     17.500000"
      ]
     },
     "metadata": {},
     "output_type": "display_data"
    },
    {
     "name": "stdout",
     "output_type": "stream",
     "text": [
      "Таблица 17. Статистики средней продолжительности разговора пользователя тарифа ultra в месяц\n"
     ]
    },
    {
     "data": {
      "image/png": "[encoded data removed]",
      "text/plain": [
       "<Figure size 1440x720 with 2 Axes>"
      ]
     },
     "metadata": {
      "needs_background": "light"
     },
     "output_type": "display_data"
    },
    {
     "name": "stdout",
     "output_type": "stream",
     "text": [
      "Рисунок 10. Гистограмма распределения средней продолжительности разговора пользователя тарифа ultra в месяц\n"
     ]
    },
    {
     "data": {
      "text/html": [
       "<div>\n",
       "<style scoped>\n",
       "    .dataframe tbody tr th:only-of-type {\n",
       "        vertical-align: middle;\n",
       "    }\n",
       "\n",
       "    .dataframe tbody tr th {\n",
       "        vertical-align: top;\n",
       "    }\n",
       "\n",
       "    .dataframe thead th {\n",
       "        text-align: right;\n",
       "    }\n",
       "</style>\n",
       "<table border=\"1\" class=\"dataframe\">\n",
       "  <thead>\n",
       "    <tr style=\"text-align: right;\">\n",
       "      <th></th>\n",
       "      <th>summary</th>\n",
       "    </tr>\n",
       "  </thead>\n",
       "  <tbody>\n",
       "    <tr>\n",
       "      <td>count</td>\n",
       "      <td>947.000000</td>\n",
       "    </tr>\n",
       "    <tr>\n",
       "      <td>mean</td>\n",
       "      <td>61.613516</td>\n",
       "    </tr>\n",
       "    <tr>\n",
       "      <td>std</td>\n",
       "      <td>34.189197</td>\n",
       "    </tr>\n",
       "    <tr>\n",
       "      <td>min</td>\n",
       "      <td>1.000000</td>\n",
       "    </tr>\n",
       "    <tr>\n",
       "      <td>25%</td>\n",
       "      <td>35.000000</td>\n",
       "    </tr>\n",
       "    <tr>\n",
       "      <td>50%</td>\n",
       "      <td>61.000000</td>\n",
       "    </tr>\n",
       "    <tr>\n",
       "      <td>75%</td>\n",
       "      <td>84.000000</td>\n",
       "    </tr>\n",
       "    <tr>\n",
       "      <td>max</td>\n",
       "      <td>190.000000</td>\n",
       "    </tr>\n",
       "  </tbody>\n",
       "</table>\n",
       "</div>"
      ],
      "text/plain": [
       "          summary\n",
       "count  947.000000\n",
       "mean    61.613516\n",
       "std     34.189197\n",
       "min      1.000000\n",
       "25%     35.000000\n",
       "50%     61.000000\n",
       "75%     84.000000\n",
       "max    190.000000"
      ]
     },
     "metadata": {},
     "output_type": "display_data"
    },
    {
     "name": "stdout",
     "output_type": "stream",
     "text": [
      "Таблица 18. Статистики количества звонков пользователя тарифа ultra в месяц\n"
     ]
    },
    {
     "data": {
      "image/png": "[encoded data removed]",
      "text/plain": [
       "<Figure size 1440x720 with 2 Axes>"
      ]
     },
     "metadata": {
      "needs_background": "light"
     },
     "output_type": "display_data"
    },
    {
     "name": "stdout",
     "output_type": "stream",
     "text": [
      "Рисунок 11. Гистограмма распределения количества звонков пользователя тарифа ultra в месяц\n"
     ]
    },
    {
     "data": {
      "text/html": [
       "<div>\n",
       "<style scoped>\n",
       "    .dataframe tbody tr th:only-of-type {\n",
       "        vertical-align: middle;\n",
       "    }\n",
       "\n",
       "    .dataframe tbody tr th {\n",
       "        vertical-align: top;\n",
       "    }\n",
       "\n",
       "    .dataframe thead th {\n",
       "        text-align: right;\n",
       "    }\n",
       "</style>\n",
       "<table border=\"1\" class=\"dataframe\">\n",
       "  <thead>\n",
       "    <tr style=\"text-align: right;\">\n",
       "      <th></th>\n",
       "      <th>summary</th>\n",
       "    </tr>\n",
       "  </thead>\n",
       "  <tbody>\n",
       "    <tr>\n",
       "      <td>count</td>\n",
       "      <td>947.000000</td>\n",
       "    </tr>\n",
       "    <tr>\n",
       "      <td>mean</td>\n",
       "      <td>547.755016</td>\n",
       "    </tr>\n",
       "    <tr>\n",
       "      <td>std</td>\n",
       "      <td>305.513385</td>\n",
       "    </tr>\n",
       "    <tr>\n",
       "      <td>min</td>\n",
       "      <td>1.000000</td>\n",
       "    </tr>\n",
       "    <tr>\n",
       "      <td>25%</td>\n",
       "      <td>311.000000</td>\n",
       "    </tr>\n",
       "    <tr>\n",
       "      <td>50%</td>\n",
       "      <td>529.000000</td>\n",
       "    </tr>\n",
       "    <tr>\n",
       "      <td>75%</td>\n",
       "      <td>758.000000</td>\n",
       "    </tr>\n",
       "    <tr>\n",
       "      <td>max</td>\n",
       "      <td>1673.000000</td>\n",
       "    </tr>\n",
       "  </tbody>\n",
       "</table>\n",
       "</div>"
      ],
      "text/plain": [
       "           summary\n",
       "count   947.000000\n",
       "mean    547.755016\n",
       "std     305.513385\n",
       "min       1.000000\n",
       "25%     311.000000\n",
       "50%     529.000000\n",
       "75%     758.000000\n",
       "max    1673.000000"
      ]
     },
     "metadata": {},
     "output_type": "display_data"
    },
    {
     "name": "stdout",
     "output_type": "stream",
     "text": [
      "Таблица 19. Статистики использованных минут пользователем тарифа ultra в месяц\n"
     ]
    },
    {
     "data": {
      "image/png": "[encoded data removed]",
      "text/plain": [
       "<Figure size 1440x720 with 2 Axes>"
      ]
     },
     "metadata": {
      "needs_background": "light"
     },
     "output_type": "display_data"
    },
    {
     "name": "stdout",
     "output_type": "stream",
     "text": [
      "Рисунок 12. Гистограмма распределения количества использованных минут пользователем тарифа ultra в месяц\n"
     ]
    }
   ],
   "source": [
    "# расчет количества звонков, использованных минут, \n",
    "# средней продолжительности разговора пользователя тарифа ultra в месяц\n",
    "avg_min_per_month_ultra =(\n",
    "    calls[calls['tariff'] == 'ultra']\n",
    "    .groupby(['user_id', 'month'])\n",
    "    .agg(\n",
    "        min_per_month_ultra = ('duration_min', 'sum'), \n",
    "        calls_cnt_ultra = ('id', 'count')\n",
    " )\n",
    "    .reset_index()\n",
    "    .assign(avg_min_per_month_ultra = lambda x: x['min_per_month_ultra'] / x['calls_cnt_ultra'])\n",
    ")\n",
    "\n",
    "# отображение расчетной таблицы звонков пользователей тарифа ultra\n",
    "display(avg_min_per_month_ultra.sample(5))\n",
    "print('''Таблица 16. Количества звонков, использованных минут, средней продолжительности разговора \n",
    "пользователя тарифа ultra в месяц''')\n",
    "\n",
    "# отображение статистик средней продолжительности разговора пользователя тарифа ultra в месяц\n",
    "display(\n",
    "    avg_min_per_month_ultra['avg_min_per_month_ultra']\n",
    "    .describe()\n",
    "    .to_frame()\n",
    "    .rename(columns={'avg_min_per_month_ultra': 'summary'})\n",
    ")\n",
    "print('Таблица 17. Статистики средней продолжительности разговора пользователя тарифа ultra в месяц')\n",
    "\n",
    "# визуализация статистик средней продолжительности разговора пользователя тарифа ultra в месяц\n",
    "plt.figure(figsize=(20, 10))\n",
    "\n",
    "plt.subplot(2, 1, 1)\n",
    "avg_min_per_month_ultra['avg_min_per_month_ultra'].hist(bins=100)\n",
    "plt.title('Распределение средней продолжительности разговора пользователя тарифа ultra в месяц', fontsize=15)\n",
    "\n",
    "plt.subplot(2, 1, 2)\n",
    "sns.boxplot(avg_min_per_month_ultra['avg_min_per_month_ultra'])\n",
    "plt.xlabel('Минуты')\n",
    "\n",
    "plt.show()\n",
    "print('Рисунок 10. Гистограмма распределения средней продолжительности разговора пользователя тарифа ultra в месяц')\n",
    "\n",
    "# отображение статистик количества звонков пользователя тарифа ultra в месяц\n",
    "display(\n",
    "    avg_min_per_month_ultra['calls_cnt_ultra']\n",
    "    .describe()\n",
    "    .to_frame()\n",
    "    .rename(columns={'calls_cnt_ultra': 'summary'})\n",
    ")\n",
    "print('Таблица 18. Статистики количества звонков пользователя тарифа ultra в месяц')\n",
    "\n",
    "# визуализация статистик количества звонков пользователя тарифа ultra в месяц\n",
    "plt.figure(figsize=(20, 10))\n",
    "\n",
    "plt.subplot(2, 1, 1)\n",
    "avg_min_per_month_ultra['calls_cnt_ultra'].hist(bins=100)\n",
    "plt.title('Распределение количества звонков пользователя тарифа ultra в месяц', fontsize=15)\n",
    "\n",
    "plt.subplot(2, 1, 2)\n",
    "sns.boxplot(avg_min_per_month_ultra['calls_cnt_ultra'])\n",
    "plt.xlabel('Звонки')\n",
    "\n",
    "plt.show()\n",
    "print('Рисунок 11. Гистограмма распределения количества звонков пользователя тарифа ultra в месяц')\n",
    "\n",
    "# отображение статистик использованных минут пользователем тарифа ultra в месяц\n",
    "display(\n",
    "    avg_min_per_month_ultra['min_per_month_ultra']\n",
    "    .describe()\n",
    "    .to_frame()\n",
    "    .rename(columns={'min_per_month_ultra': 'summary'})\n",
    ")\n",
    "print('Таблица 19. Статистики использованных минут пользователем тарифа ultra в месяц')\n",
    "\n",
    "# визуализация статистик использованных минут пользователем тарифа ultra в месяц\n",
    "plt.figure(figsize=(20, 10))\n",
    "\n",
    "plt.subplot(2, 1, 1)\n",
    "avg_min_per_month_ultra['min_per_month_ultra'].hist(bins=100)\n",
    "plt.title('Распределение количества использованных минут пользователем тарифа ultra в месяц', fontsize=15)\n",
    "\n",
    "plt.subplot(2, 1, 2)\n",
    "sns.boxplot(avg_min_per_month_ultra['min_per_month_ultra'])\n",
    "plt.xlabel('Минуты')\n",
    "\n",
    "plt.show()\n",
    "print('Рисунок 12. Гистограмма распределения количества использованных минут пользователем тарифа ultra в месяц')"
   ]
  },
  {
   "cell_type": "markdown",
   "metadata": {},
   "source": [
    "Оценка телефонных разговоров пользователей тарифа ultra основа на 947 наблюдениях.\n",
    "\n",
    "Так, **средняя продолжительность телефонного разговора пользователя тарифа ultra в месяц** составляет 8,8 мин, равная медиане в 8,8 мин, что при стандартном отклонении в 1 мин говорит о достаточно крутом графике распределения. Данные о продолжительности телефонного разговора пользователя тарифа ultra распределены достаточно узко. 99% процентов всех наблюдений находятся на интревале от 6 до 12 мин.\n",
    "\n",
    "Размах выборке при минуме в 1 мин и максимуме в 17,5 мин составляет 16,5 мин. Межквартильный размах равен порядка 1 мин, что предполагает возможное признание выбросами значения превышающие 11 мин и меньше 7 мин.\n",
    "\n",
    "Распределение достаточно симметрично, унимодально. Близко к нормальному.\n",
    "\n",
    "**Среднее количетво телефонных звонков пользователя тарифа ultra в месяц** равно 62 звонкам, при схожей медиане в 61 звонок. Однако, в виду стандратного отклонения равного 34 звонкам, размаха выборки в 189 звонка и межкартильного размаха в 49 звонков, распределение носит достаточно пологий, широкий характер. И имеет всего два выброса: количество телефонных соединений более 158 за месяц. Кроме того, на интервалах от 25 до 50 звонков, от 50 до 75 звонков и от 75 до 100 звонков имеет несколько мод.\n",
    "\n",
    "Распределение скошено вправо, большая часть значений выборки тяготеет к меньшим значениям.\n",
    "\n",
    "**В среденем пользователи тарифа ultra в месяц** тратят 547 мин на телефонные разговоры, с несколько меньшей медианой в 529 мин. При этом распределение количество использованных минут хоть и тяготеет к нормальному, однако достаточно широкое с размахом от минимального в 1 минуту до максимальных значений в 1673 минуты (два пользователя более суток проводят в телефонных разговорах) и стандартном отклонении в 305 минут, что предполагает рефертное значение от 1 до 1157 минут."
   ]
  },
  {
   "cell_type": "markdown",
   "metadata": {},
   "source": [
    "### Сообщения"
   ]
  },
  {
   "cell_type": "markdown",
   "metadata": {},
   "source": [
    "#### Тарифный план smart"
   ]
  },
  {
   "cell_type": "code",
   "execution_count": 21,
   "metadata": {},
   "outputs": [
    {
     "data": {
      "text/html": [
       "<div>\n",
       "<style scoped>\n",
       "    .dataframe tbody tr th:only-of-type {\n",
       "        vertical-align: middle;\n",
       "    }\n",
       "\n",
       "    .dataframe tbody tr th {\n",
       "        vertical-align: top;\n",
       "    }\n",
       "\n",
       "    .dataframe thead th {\n",
       "        text-align: right;\n",
       "    }\n",
       "</style>\n",
       "<table border=\"1\" class=\"dataframe\">\n",
       "  <thead>\n",
       "    <tr style=\"text-align: right;\">\n",
       "      <th></th>\n",
       "      <th>user_id</th>\n",
       "      <th>month</th>\n",
       "      <th>messages_per_month_smart</th>\n",
       "    </tr>\n",
       "  </thead>\n",
       "  <tbody>\n",
       "    <tr>\n",
       "      <td>54</td>\n",
       "      <td>1012</td>\n",
       "      <td>8</td>\n",
       "      <td>23</td>\n",
       "    </tr>\n",
       "    <tr>\n",
       "      <td>376</td>\n",
       "      <td>1088</td>\n",
       "      <td>8</td>\n",
       "      <td>49</td>\n",
       "    </tr>\n",
       "    <tr>\n",
       "      <td>1248</td>\n",
       "      <td>1321</td>\n",
       "      <td>9</td>\n",
       "      <td>20</td>\n",
       "    </tr>\n",
       "    <tr>\n",
       "      <td>44</td>\n",
       "      <td>1011</td>\n",
       "      <td>8</td>\n",
       "      <td>15</td>\n",
       "    </tr>\n",
       "    <tr>\n",
       "      <td>1121</td>\n",
       "      <td>1286</td>\n",
       "      <td>11</td>\n",
       "      <td>12</td>\n",
       "    </tr>\n",
       "  </tbody>\n",
       "</table>\n",
       "</div>"
      ],
      "text/plain": [
       "      user_id  month  messages_per_month_smart\n",
       "54       1012      8                        23\n",
       "376      1088      8                        49\n",
       "1248     1321      9                        20\n",
       "44       1011      8                        15\n",
       "1121     1286     11                        12"
      ]
     },
     "metadata": {},
     "output_type": "display_data"
    },
    {
     "name": "stdout",
     "output_type": "stream",
     "text": [
      "Таблица 20. Количество сообщений, отправленных пользователем тарифа smart в месяц\n"
     ]
    },
    {
     "data": {
      "text/html": [
       "<div>\n",
       "<style scoped>\n",
       "    .dataframe tbody tr th:only-of-type {\n",
       "        vertical-align: middle;\n",
       "    }\n",
       "\n",
       "    .dataframe tbody tr th {\n",
       "        vertical-align: top;\n",
       "    }\n",
       "\n",
       "    .dataframe thead th {\n",
       "        text-align: right;\n",
       "    }\n",
       "</style>\n",
       "<table border=\"1\" class=\"dataframe\">\n",
       "  <thead>\n",
       "    <tr style=\"text-align: right;\">\n",
       "      <th></th>\n",
       "      <th>summary</th>\n",
       "    </tr>\n",
       "  </thead>\n",
       "  <tbody>\n",
       "    <tr>\n",
       "      <td>count</td>\n",
       "      <td>1922.000000</td>\n",
       "    </tr>\n",
       "    <tr>\n",
       "      <td>mean</td>\n",
       "      <td>38.716441</td>\n",
       "    </tr>\n",
       "    <tr>\n",
       "      <td>std</td>\n",
       "      <td>26.787949</td>\n",
       "    </tr>\n",
       "    <tr>\n",
       "      <td>min</td>\n",
       "      <td>1.000000</td>\n",
       "    </tr>\n",
       "    <tr>\n",
       "      <td>25%</td>\n",
       "      <td>17.000000</td>\n",
       "    </tr>\n",
       "    <tr>\n",
       "      <td>50%</td>\n",
       "      <td>34.000000</td>\n",
       "    </tr>\n",
       "    <tr>\n",
       "      <td>75%</td>\n",
       "      <td>55.000000</td>\n",
       "    </tr>\n",
       "    <tr>\n",
       "      <td>max</td>\n",
       "      <td>143.000000</td>\n",
       "    </tr>\n",
       "  </tbody>\n",
       "</table>\n",
       "</div>"
      ],
      "text/plain": [
       "           summary\n",
       "count  1922.000000\n",
       "mean     38.716441\n",
       "std      26.787949\n",
       "min       1.000000\n",
       "25%      17.000000\n",
       "50%      34.000000\n",
       "75%      55.000000\n",
       "max     143.000000"
      ]
     },
     "metadata": {},
     "output_type": "display_data"
    },
    {
     "name": "stdout",
     "output_type": "stream",
     "text": [
      "Таблица 21. Статистики количества сообщений, отправленных пользователем тарифа smart в месяц\n"
     ]
    },
    {
     "data": {
      "image/png": "[encoded data removed]",
      "text/plain": [
       "<Figure size 1440x720 with 2 Axes>"
      ]
     },
     "metadata": {
      "needs_background": "light"
     },
     "output_type": "display_data"
    },
    {
     "name": "stdout",
     "output_type": "stream",
     "text": [
      "Рисунок 13. Гистограмма распределения количества сообщений, отправленных пользователем тарифа smart в месяц\n"
     ]
    }
   ],
   "source": [
    "# обогащение фрейма с данными по сообщениям сведения об используемом тарифе\n",
    "messages = messages.merge(users[['user_id', 'tariff']], on='user_id')\n",
    "\n",
    "# расчет количества сообщений, отправленных пользователем тарифа smart в месяц\n",
    "messages_per_month_smart =(\n",
    "    messages[messages['tariff'] == 'smart']\n",
    "    .groupby(['user_id', 'month'])\n",
    "    .agg(\n",
    "        messages_per_month_smart = ('id', 'count')\n",
    "    )\n",
    "    .reset_index()\n",
    "                          )\n",
    "\n",
    "# отображение расчетной таблицы колиечтва сообщений пользователя тарифа smart\n",
    "display(messages_per_month_smart.sample(5))\n",
    "print('Таблица 20. Количество сообщений, отправленных пользователем тарифа smart в месяц')\n",
    "\n",
    "# отображение статистик количества сообщений, отправленных пользователем тарифа smart в месяц \n",
    "display(\n",
    "    messages_per_month_smart['messages_per_month_smart']\n",
    "    .describe()\n",
    "    .to_frame()\n",
    "    .rename(columns={'messages_per_month_smart': 'summary'})\n",
    ")\n",
    "print('Таблица 21. Статистики количества сообщений, отправленных пользователем тарифа smart в месяц')\n",
    "\n",
    "# визуализация статистик количества сообщений, отправленных пользователем тарифа smart в месяц\n",
    "plt.figure(figsize=(20, 10))\n",
    "\n",
    "plt.subplot(2, 1, 1)\n",
    "messages_per_month_smart['messages_per_month_smart'].hist(bins=100)\n",
    "plt.title('Распределение количества сообщений, отправленных пользователем тарифа smart в месяц', fontsize=15)\n",
    "\n",
    "plt.subplot(2, 1, 2)\n",
    "sns.boxplot(messages_per_month_smart['messages_per_month_smart'])\n",
    "plt.xlabel('Сообщения')\n",
    "\n",
    "plt.show()\n",
    "print('Рисунок 13. Гистограмма распределения количества сообщений, отправленных пользователем тарифа smart в месяц')"
   ]
  },
  {
   "cell_type": "markdown",
   "metadata": {},
   "source": [
    "1922 набледния за поведением пользователей тарифа smart, позволяют оценить статистики отправки сообщений.\n",
    "\n",
    "Так, **количество сообщений, отправленных пользователем тарифа smart в месяц** имеет среднее значение равное 39 и медиану равную 34. Таким образом, распределение смещено влево (имеет правосторонний скос).\n",
    "\n",
    "Стандратное отклоние равно 27 сообщениям, размах выборки 142 сообщения от минимального значения в одно сообщение в месяц до максимального 143 сообщения в месяц. Таким образом, распределение имеет относительно широкий, пологий вид; 99% всех значений выборки находиться на интервале от одного до 119 сообщений на пользователя в месяц.\n",
    "\n",
    "Первый квартиль равен 17 сообщениям, третий - 5 сообщениям. Таким образом, 25% пользоватлей отправлют в месяц до 17 сообщений, 75% - до 55 сообщений. Межквартильный размаз равен 38 сообщениям, значит число сообщений в месяц на одного пользователя, превышающее значение в 112 сообщений возможно признать выбросами.\n",
    "\n",
    "Распределение имеет вид схожий с распределением Пуассона, биномальным распределением."
   ]
  },
  {
   "cell_type": "markdown",
   "metadata": {},
   "source": [
    "#### Тарифный план ultra"
   ]
  },
  {
   "cell_type": "code",
   "execution_count": 22,
   "metadata": {},
   "outputs": [
    {
     "data": {
      "text/html": [
       "<div>\n",
       "<style scoped>\n",
       "    .dataframe tbody tr th:only-of-type {\n",
       "        vertical-align: middle;\n",
       "    }\n",
       "\n",
       "    .dataframe tbody tr th {\n",
       "        vertical-align: top;\n",
       "    }\n",
       "\n",
       "    .dataframe thead th {\n",
       "        text-align: right;\n",
       "    }\n",
       "</style>\n",
       "<table border=\"1\" class=\"dataframe\">\n",
       "  <thead>\n",
       "    <tr style=\"text-align: right;\">\n",
       "      <th></th>\n",
       "      <th>user_id</th>\n",
       "      <th>month</th>\n",
       "      <th>messages_per_month_ultra</th>\n",
       "    </tr>\n",
       "  </thead>\n",
       "  <tbody>\n",
       "    <tr>\n",
       "      <td>444</td>\n",
       "      <td>1330</td>\n",
       "      <td>12</td>\n",
       "      <td>69</td>\n",
       "    </tr>\n",
       "    <tr>\n",
       "      <td>87</td>\n",
       "      <td>1081</td>\n",
       "      <td>4</td>\n",
       "      <td>28</td>\n",
       "    </tr>\n",
       "    <tr>\n",
       "      <td>461</td>\n",
       "      <td>1335</td>\n",
       "      <td>9</td>\n",
       "      <td>77</td>\n",
       "    </tr>\n",
       "    <tr>\n",
       "      <td>432</td>\n",
       "      <td>1328</td>\n",
       "      <td>11</td>\n",
       "      <td>8</td>\n",
       "    </tr>\n",
       "    <tr>\n",
       "      <td>438</td>\n",
       "      <td>1330</td>\n",
       "      <td>6</td>\n",
       "      <td>78</td>\n",
       "    </tr>\n",
       "  </tbody>\n",
       "</table>\n",
       "</div>"
      ],
      "text/plain": [
       "     user_id  month  messages_per_month_ultra\n",
       "444     1330     12                        69\n",
       "87      1081      4                        28\n",
       "461     1335      9                        77\n",
       "432     1328     11                         8\n",
       "438     1330      6                        78"
      ]
     },
     "metadata": {},
     "output_type": "display_data"
    },
    {
     "name": "stdout",
     "output_type": "stream",
     "text": [
      "Таблица 22. Количество сообщений, отправленных пользователем тарифа ultra в месяц\n"
     ]
    },
    {
     "data": {
      "text/html": [
       "<div>\n",
       "<style scoped>\n",
       "    .dataframe tbody tr th:only-of-type {\n",
       "        vertical-align: middle;\n",
       "    }\n",
       "\n",
       "    .dataframe tbody tr th {\n",
       "        vertical-align: top;\n",
       "    }\n",
       "\n",
       "    .dataframe thead th {\n",
       "        text-align: right;\n",
       "    }\n",
       "</style>\n",
       "<table border=\"1\" class=\"dataframe\">\n",
       "  <thead>\n",
       "    <tr style=\"text-align: right;\">\n",
       "      <th></th>\n",
       "      <th>summary</th>\n",
       "    </tr>\n",
       "  </thead>\n",
       "  <tbody>\n",
       "    <tr>\n",
       "      <td>count</td>\n",
       "      <td>795.000000</td>\n",
       "    </tr>\n",
       "    <tr>\n",
       "      <td>mean</td>\n",
       "      <td>61.161006</td>\n",
       "    </tr>\n",
       "    <tr>\n",
       "      <td>std</td>\n",
       "      <td>45.931026</td>\n",
       "    </tr>\n",
       "    <tr>\n",
       "      <td>min</td>\n",
       "      <td>1.000000</td>\n",
       "    </tr>\n",
       "    <tr>\n",
       "      <td>25%</td>\n",
       "      <td>24.000000</td>\n",
       "    </tr>\n",
       "    <tr>\n",
       "      <td>50%</td>\n",
       "      <td>51.000000</td>\n",
       "    </tr>\n",
       "    <tr>\n",
       "      <td>75%</td>\n",
       "      <td>87.500000</td>\n",
       "    </tr>\n",
       "    <tr>\n",
       "      <td>max</td>\n",
       "      <td>224.000000</td>\n",
       "    </tr>\n",
       "  </tbody>\n",
       "</table>\n",
       "</div>"
      ],
      "text/plain": [
       "          summary\n",
       "count  795.000000\n",
       "mean    61.161006\n",
       "std     45.931026\n",
       "min      1.000000\n",
       "25%     24.000000\n",
       "50%     51.000000\n",
       "75%     87.500000\n",
       "max    224.000000"
      ]
     },
     "metadata": {},
     "output_type": "display_data"
    },
    {
     "name": "stdout",
     "output_type": "stream",
     "text": [
      "Таблица 23. Статистики количества сообщений, отправленных пользователем тарифа ultra в месяц\n"
     ]
    },
    {
     "data": {
      "image/png": "[encoded data removed]",
      "text/plain": [
       "<Figure size 1440x720 with 2 Axes>"
      ]
     },
     "metadata": {
      "needs_background": "light"
     },
     "output_type": "display_data"
    },
    {
     "name": "stdout",
     "output_type": "stream",
     "text": [
      "Рисунок 14. Гистограмма распределения количества сообщений, отправленных пользователем тарифа ultra в месяц\n"
     ]
    }
   ],
   "source": [
    "# расчет количества сообщений, отправленных пользователем тарифа ultra в месяц\n",
    "messages_per_month_ultra =(\n",
    "    messages[messages['tariff'] == 'ultra']\n",
    "    .groupby(['user_id', 'month'])\n",
    "    .agg(\n",
    "        messages_per_month_ultra = ('id', 'count')\n",
    "    )\n",
    "    .reset_index()\n",
    "                          )\n",
    "\n",
    "# отображение расчетной таблицы колиечтва сообщений пользователя тарифа ultra\n",
    "display(messages_per_month_ultra.sample(5))\n",
    "print('Таблица 22. Количество сообщений, отправленных пользователем тарифа ultra в месяц')\n",
    "\n",
    "# отображение статистик количества сообщений, отправленных пользователем тарифа ultra в месяц \n",
    "display(\n",
    "    messages_per_month_ultra['messages_per_month_ultra']\n",
    "    .describe()\n",
    "    .to_frame()\n",
    "    .rename(columns={'messages_per_month_ultra': 'summary'})\n",
    ")\n",
    "print('Таблица 23. Статистики количества сообщений, отправленных пользователем тарифа ultra в месяц')\n",
    "\n",
    "# визуализация статистик количества сообщений, отправленных пользователем тарифа ultra в месяц\n",
    "plt.figure(figsize=(20, 10))\n",
    "\n",
    "plt.subplot(2, 1, 1)\n",
    "messages_per_month_ultra['messages_per_month_ultra'].hist(bins=100)\n",
    "plt.title('Распределение количества сообщений, отправленных пользователем тарифа ultra в месяц', fontsize=15)\n",
    "\n",
    "plt.subplot(2, 1, 2)\n",
    "sns.boxplot(messages_per_month_ultra['messages_per_month_ultra'])\n",
    "plt.xlabel('Сообщения')\n",
    "\n",
    "plt.show()\n",
    "print('Рисунок 14. Гистограмма распределения количества сообщений, отправленных пользователем тарифа ultra в месяц')"
   ]
  },
  {
   "cell_type": "markdown",
   "metadata": {},
   "source": [
    "**Пользователь тарифного плана ultra в среднем отправлет** 62 сообщения в месяц, при медианном показателе равном 51 сообщенияю. Стандартное отклонение в 46 сообщений, наравне с неравенством мер центральной тенденции позволяет сделать вывод о широком, смещенном влево (правосторонний скос) распределении.\n",
    "\n",
    "Так, размах распределения 223 сообщения, межквартильный размах 64 ссобщения. Кроме того, в выборке имеються выбросы, пользователи отправляющие более 184 сообщений."
   ]
  },
  {
   "cell_type": "markdown",
   "metadata": {},
   "source": [
    "### Интернет-траффик"
   ]
  },
  {
   "cell_type": "markdown",
   "metadata": {},
   "source": [
    "«Мегалайн» всегда округляет мегабайты — до гигабайт.\n",
    "\n",
    "Для веб-трафика отдельные сессии не считаются. Вместо этого общая сумма за месяц округляется в бо́льшую сторону. Если абонент использует 1025 мегабайт в этом месяце, с него возьмут плату за 2 гигабайта.\n",
    "\n",
    "Реализуем поставленное условие функцией."
   ]
  },
  {
   "cell_type": "code",
   "execution_count": 23,
   "metadata": {},
   "outputs": [],
   "source": [
    "# функция принимает в качестве аргумента значения трафика в MB и возращает значение траффика в GB\n",
    "# согласно условиям тарфиного плана\n",
    "def convert_traffic(mb_used):\n",
    "    return int(np.ceil(mb_used / 1024.0))"
   ]
  },
  {
   "cell_type": "markdown",
   "metadata": {},
   "source": [
    "Для учета условий тарифа, функцию конвертации трафика будем применять к агрегированным по месячному периоду данным."
   ]
  },
  {
   "cell_type": "markdown",
   "metadata": {},
   "source": [
    "#### Тарифный план smart"
   ]
  },
  {
   "cell_type": "code",
   "execution_count": 24,
   "metadata": {
    "scrolled": false
   },
   "outputs": [
    {
     "data": {
      "text/html": [
       "<div>\n",
       "<style scoped>\n",
       "    .dataframe tbody tr th:only-of-type {\n",
       "        vertical-align: middle;\n",
       "    }\n",
       "\n",
       "    .dataframe tbody tr th {\n",
       "        vertical-align: top;\n",
       "    }\n",
       "\n",
       "    .dataframe thead th {\n",
       "        text-align: right;\n",
       "    }\n",
       "</style>\n",
       "<table border=\"1\" class=\"dataframe\">\n",
       "  <thead>\n",
       "    <tr style=\"text-align: right;\">\n",
       "      <th></th>\n",
       "      <th>user_id</th>\n",
       "      <th>month</th>\n",
       "      <th>mb_per_month_smart</th>\n",
       "      <th>session_cnt_per_month_smart</th>\n",
       "      <th>gb_per_month_smart</th>\n",
       "      <th>avg_mb_per_session_per_month_smart</th>\n",
       "    </tr>\n",
       "  </thead>\n",
       "  <tbody>\n",
       "    <tr>\n",
       "      <td>159</td>\n",
       "      <td>1033</td>\n",
       "      <td>9</td>\n",
       "      <td>25858.97</td>\n",
       "      <td>69</td>\n",
       "      <td>26</td>\n",
       "      <td>374.767681</td>\n",
       "    </tr>\n",
       "    <tr>\n",
       "      <td>1967</td>\n",
       "      <td>1439</td>\n",
       "      <td>10</td>\n",
       "      <td>16983.50</td>\n",
       "      <td>44</td>\n",
       "      <td>17</td>\n",
       "      <td>385.988636</td>\n",
       "    </tr>\n",
       "    <tr>\n",
       "      <td>365</td>\n",
       "      <td>1075</td>\n",
       "      <td>11</td>\n",
       "      <td>18239.34</td>\n",
       "      <td>50</td>\n",
       "      <td>18</td>\n",
       "      <td>364.786800</td>\n",
       "    </tr>\n",
       "    <tr>\n",
       "      <td>1391</td>\n",
       "      <td>1305</td>\n",
       "      <td>11</td>\n",
       "      <td>24529.88</td>\n",
       "      <td>59</td>\n",
       "      <td>24</td>\n",
       "      <td>415.760678</td>\n",
       "    </tr>\n",
       "    <tr>\n",
       "      <td>874</td>\n",
       "      <td>1187</td>\n",
       "      <td>10</td>\n",
       "      <td>19913.36</td>\n",
       "      <td>49</td>\n",
       "      <td>20</td>\n",
       "      <td>406.395102</td>\n",
       "    </tr>\n",
       "  </tbody>\n",
       "</table>\n",
       "</div>"
      ],
      "text/plain": [
       "      user_id  month  mb_per_month_smart  session_cnt_per_month_smart  \\\n",
       "159      1033      9            25858.97                           69   \n",
       "1967     1439     10            16983.50                           44   \n",
       "365      1075     11            18239.34                           50   \n",
       "1391     1305     11            24529.88                           59   \n",
       "874      1187     10            19913.36                           49   \n",
       "\n",
       "      gb_per_month_smart  avg_mb_per_session_per_month_smart  \n",
       "159                   26                          374.767681  \n",
       "1967                  17                          385.988636  \n",
       "365                   18                          364.786800  \n",
       "1391                  24                          415.760678  \n",
       "874                   20                          406.395102  "
      ]
     },
     "metadata": {},
     "output_type": "display_data"
    },
    {
     "name": "stdout",
     "output_type": "stream",
     "text": [
      "Таблица 25. Количество сессий, интернет-трафика, \n",
      "среднего количества МВ на одну сессию пользователя тарифа smart в месяц\n"
     ]
    },
    {
     "data": {
      "text/html": [
       "<div>\n",
       "<style scoped>\n",
       "    .dataframe tbody tr th:only-of-type {\n",
       "        vertical-align: middle;\n",
       "    }\n",
       "\n",
       "    .dataframe tbody tr th {\n",
       "        vertical-align: top;\n",
       "    }\n",
       "\n",
       "    .dataframe thead th {\n",
       "        text-align: right;\n",
       "    }\n",
       "</style>\n",
       "<table border=\"1\" class=\"dataframe\">\n",
       "  <thead>\n",
       "    <tr style=\"text-align: right;\">\n",
       "      <th></th>\n",
       "      <th>summary</th>\n",
       "    </tr>\n",
       "  </thead>\n",
       "  <tbody>\n",
       "    <tr>\n",
       "      <td>count</td>\n",
       "      <td>2227.000000</td>\n",
       "    </tr>\n",
       "    <tr>\n",
       "      <td>mean</td>\n",
       "      <td>386.158052</td>\n",
       "    </tr>\n",
       "    <tr>\n",
       "      <td>std</td>\n",
       "      <td>42.940972</td>\n",
       "    </tr>\n",
       "    <tr>\n",
       "      <td>min</td>\n",
       "      <td>185.030000</td>\n",
       "    </tr>\n",
       "    <tr>\n",
       "      <td>25%</td>\n",
       "      <td>360.666056</td>\n",
       "    </tr>\n",
       "    <tr>\n",
       "      <td>50%</td>\n",
       "      <td>384.329808</td>\n",
       "    </tr>\n",
       "    <tr>\n",
       "      <td>75%</td>\n",
       "      <td>410.161147</td>\n",
       "    </tr>\n",
       "    <tr>\n",
       "      <td>max</td>\n",
       "      <td>766.220000</td>\n",
       "    </tr>\n",
       "  </tbody>\n",
       "</table>\n",
       "</div>"
      ],
      "text/plain": [
       "           summary\n",
       "count  2227.000000\n",
       "mean    386.158052\n",
       "std      42.940972\n",
       "min     185.030000\n",
       "25%     360.666056\n",
       "50%     384.329808\n",
       "75%     410.161147\n",
       "max     766.220000"
      ]
     },
     "metadata": {},
     "output_type": "display_data"
    },
    {
     "name": "stdout",
     "output_type": "stream",
     "text": [
      "Таблица 26. Статистики средней емкости интернет-сессии пользователя тарифа smart в месяц, МВ\n"
     ]
    },
    {
     "data": {
      "image/png": "[encoded data removed]",
      "text/plain": [
       "<Figure size 1440x1080 with 2 Axes>"
      ]
     },
     "metadata": {
      "needs_background": "light"
     },
     "output_type": "display_data"
    },
    {
     "name": "stdout",
     "output_type": "stream",
     "text": [
      "Рисунок 15. Гистограмма распределения средней емкости интернет-сессии пользователя тарифа smart в месяц\n"
     ]
    },
    {
     "data": {
      "text/html": [
       "<div>\n",
       "<style scoped>\n",
       "    .dataframe tbody tr th:only-of-type {\n",
       "        vertical-align: middle;\n",
       "    }\n",
       "\n",
       "    .dataframe tbody tr th {\n",
       "        vertical-align: top;\n",
       "    }\n",
       "\n",
       "    .dataframe thead th {\n",
       "        text-align: right;\n",
       "    }\n",
       "</style>\n",
       "<table border=\"1\" class=\"dataframe\">\n",
       "  <thead>\n",
       "    <tr style=\"text-align: right;\">\n",
       "      <th></th>\n",
       "      <th>summary</th>\n",
       "    </tr>\n",
       "  </thead>\n",
       "  <tbody>\n",
       "    <tr>\n",
       "      <td>count</td>\n",
       "      <td>2227.000000</td>\n",
       "    </tr>\n",
       "    <tr>\n",
       "      <td>mean</td>\n",
       "      <td>42.081724</td>\n",
       "    </tr>\n",
       "    <tr>\n",
       "      <td>std</td>\n",
       "      <td>14.760428</td>\n",
       "    </tr>\n",
       "    <tr>\n",
       "      <td>min</td>\n",
       "      <td>1.000000</td>\n",
       "    </tr>\n",
       "    <tr>\n",
       "      <td>25%</td>\n",
       "      <td>34.000000</td>\n",
       "    </tr>\n",
       "    <tr>\n",
       "      <td>50%</td>\n",
       "      <td>43.000000</td>\n",
       "    </tr>\n",
       "    <tr>\n",
       "      <td>75%</td>\n",
       "      <td>51.000000</td>\n",
       "    </tr>\n",
       "    <tr>\n",
       "      <td>max</td>\n",
       "      <td>101.000000</td>\n",
       "    </tr>\n",
       "  </tbody>\n",
       "</table>\n",
       "</div>"
      ],
      "text/plain": [
       "           summary\n",
       "count  2227.000000\n",
       "mean     42.081724\n",
       "std      14.760428\n",
       "min       1.000000\n",
       "25%      34.000000\n",
       "50%      43.000000\n",
       "75%      51.000000\n",
       "max     101.000000"
      ]
     },
     "metadata": {},
     "output_type": "display_data"
    },
    {
     "name": "stdout",
     "output_type": "stream",
     "text": [
      "Таблица 27. Статистики количества интернет-сессий пользователя тарифа smart в месяц\n"
     ]
    },
    {
     "data": {
      "image/png": "[encoded data removed]",
      "text/plain": [
       "<Figure size 1440x720 with 2 Axes>"
      ]
     },
     "metadata": {
      "needs_background": "light"
     },
     "output_type": "display_data"
    },
    {
     "name": "stdout",
     "output_type": "stream",
     "text": [
      "Рисунок 16. Гистограмма распределения количества интернет-сессий пользователя тарифа smart в месяц\n"
     ]
    },
    {
     "data": {
      "text/html": [
       "<div>\n",
       "<style scoped>\n",
       "    .dataframe tbody tr th:only-of-type {\n",
       "        vertical-align: middle;\n",
       "    }\n",
       "\n",
       "    .dataframe tbody tr th {\n",
       "        vertical-align: top;\n",
       "    }\n",
       "\n",
       "    .dataframe thead th {\n",
       "        text-align: right;\n",
       "    }\n",
       "</style>\n",
       "<table border=\"1\" class=\"dataframe\">\n",
       "  <thead>\n",
       "    <tr style=\"text-align: right;\">\n",
       "      <th></th>\n",
       "      <th>summary</th>\n",
       "    </tr>\n",
       "  </thead>\n",
       "  <tbody>\n",
       "    <tr>\n",
       "      <td>count</td>\n",
       "      <td>2227.000000</td>\n",
       "    </tr>\n",
       "    <tr>\n",
       "      <td>mean</td>\n",
       "      <td>16.343511</td>\n",
       "    </tr>\n",
       "    <tr>\n",
       "      <td>std</td>\n",
       "      <td>5.728752</td>\n",
       "    </tr>\n",
       "    <tr>\n",
       "      <td>min</td>\n",
       "      <td>1.000000</td>\n",
       "    </tr>\n",
       "    <tr>\n",
       "      <td>25%</td>\n",
       "      <td>13.000000</td>\n",
       "    </tr>\n",
       "    <tr>\n",
       "      <td>50%</td>\n",
       "      <td>17.000000</td>\n",
       "    </tr>\n",
       "    <tr>\n",
       "      <td>75%</td>\n",
       "      <td>20.000000</td>\n",
       "    </tr>\n",
       "    <tr>\n",
       "      <td>max</td>\n",
       "      <td>38.000000</td>\n",
       "    </tr>\n",
       "  </tbody>\n",
       "</table>\n",
       "</div>"
      ],
      "text/plain": [
       "           summary\n",
       "count  2227.000000\n",
       "mean     16.343511\n",
       "std       5.728752\n",
       "min       1.000000\n",
       "25%      13.000000\n",
       "50%      17.000000\n",
       "75%      20.000000\n",
       "max      38.000000"
      ]
     },
     "metadata": {},
     "output_type": "display_data"
    },
    {
     "name": "stdout",
     "output_type": "stream",
     "text": [
      "Таблица 28. Статистики интернет-траффика пользователя тарифа smart в месяц, GB\n"
     ]
    },
    {
     "data": {
      "image/png": "[encoded data removed]",
      "text/plain": [
       "<Figure size 1440x720 with 2 Axes>"
      ]
     },
     "metadata": {
      "needs_background": "light"
     },
     "output_type": "display_data"
    },
    {
     "name": "stdout",
     "output_type": "stream",
     "text": [
      "Рисунок 17. Гистограмма распределения интернет-траффика пользователя тарифа smart в месяц\n"
     ]
    }
   ],
   "source": [
    "# обогащение фрейма с данными по траффику сведениями об используемом тарифе\n",
    "internet = internet.merge(users[['user_id', 'tariff']], on='user_id')\n",
    "\n",
    "# расчет количества сессий, интернет-трафика, \n",
    "# среднего количества МВ на одну сессию пользователя тарифа smart в месяц, \n",
    "# конвертация интернет-траффика из МВ в GB\n",
    "avg_mb_per_month_smart =(\n",
    "    internet[internet['tariff'] == 'smart']\n",
    "    .groupby(['user_id', 'month'])\n",
    "    .agg(\n",
    "        mb_per_month_smart = ('mb_used', 'sum'),\n",
    "        session_cnt_per_month_smart = ('id', 'count')\n",
    "    )\n",
    "    .reset_index()\n",
    "    .assign(\n",
    "        gb_per_month_smart = lambda x: x['mb_per_month_smart'].apply(convert_traffic),\n",
    "        avg_mb_per_session_per_month_smart = lambda x: x['mb_per_month_smart'] / x['session_cnt_per_month_smart']\n",
    "    )\n",
    ")\n",
    "\n",
    "# отображение расчетной таблица траффика тарифа smart\n",
    "display(avg_mb_per_month_smart.sample(5))\n",
    "print('''Таблица 25. Количество сессий, интернет-трафика, \n",
    "среднего количества МВ на одну сессию пользователя тарифа smart в месяц''')\n",
    "\n",
    "# отображение статистик средней емкости интернет-сессии пользователя тарифа smart в месяц\n",
    "display(\n",
    "    avg_mb_per_month_smart['avg_mb_per_session_per_month_smart']\n",
    "    .describe()\n",
    "    .to_frame()\n",
    "    .rename(columns={'avg_mb_per_session_per_month_smart': 'summary'})\n",
    ")\n",
    "print('Таблица 26. Статистики средней емкости интернет-сессии пользователя тарифа smart в месяц, МВ')\n",
    "\n",
    "# визуализация статистик средней емкости интернет-сессии пользователя тарифа smart в месяц\n",
    "plt.figure(figsize=(20, 15))\n",
    "\n",
    "plt.subplot(2, 1, 1)\n",
    "avg_mb_per_month_smart['avg_mb_per_session_per_month_smart'].hist(bins=100)\n",
    "plt.title('Распределение средней емкости интернет-сессии пользователя тарифа smart в месяц', fontsize=15)\n",
    "\n",
    "plt.subplot(2, 1, 2)\n",
    "sns.boxplot(avg_mb_per_month_smart['avg_mb_per_session_per_month_smart'])\n",
    "plt.xlabel('')\n",
    "\n",
    "plt.show()\n",
    "print('Рисунок 15. Гистограмма распределения средней емкости интернет-сессии пользователя тарифа smart в месяц')\n",
    "\n",
    "# отображение статистик количества интернет-сессий пользователя тарифа smart в месяц\n",
    "display(\n",
    "    avg_mb_per_month_smart['session_cnt_per_month_smart']\n",
    "    .describe()\n",
    "    .to_frame()\n",
    "    .rename(columns={'session_cnt_per_month_smart': 'summary'})\n",
    ")\n",
    "print('Таблица 27. Статистики количества интернет-сессий пользователя тарифа smart в месяц')\n",
    "\n",
    "# визуализация статистик количества интернет-сессий пользователя тарифа smart в месяц\n",
    "plt.figure(figsize=(20, 10))\n",
    "\n",
    "plt.subplot(2, 1, 1)\n",
    "avg_mb_per_month_smart['session_cnt_per_month_smart'].hist(bins=100)\n",
    "plt.title('Распределение количества интернет-сессий пользователя тарифа smart в месяц', fontsize=15)\n",
    "\n",
    "plt.subplot(2, 1, 2)\n",
    "sns.boxplot(avg_mb_per_month_smart['session_cnt_per_month_smart'])\n",
    "plt.xlabel('Сессии')\n",
    "\n",
    "plt.show()\n",
    "print('Рисунок 16. Гистограмма распределения количества интернет-сессий пользователя тарифа smart в месяц')\n",
    "\n",
    "# отображение статистик интернет-траффика пользователя тарифа smart в месяц\n",
    "display(\n",
    "    avg_mb_per_month_smart['gb_per_month_smart']\n",
    "    .describe()\n",
    "    .to_frame()\n",
    "    .rename(columns={'gb_per_month_smart': 'summary'})\n",
    ")\n",
    "print('Таблица 28. Статистики интернет-траффика пользователя тарифа smart в месяц, GB')\n",
    "\n",
    "# визуализация статистик интернет-траффика пользователя тарифа smart в месяц\n",
    "plt.figure(figsize=(20, 10))\n",
    "\n",
    "plt.subplot(2, 1, 1)\n",
    "avg_mb_per_month_smart['gb_per_month_smart'].hist(bins=100)\n",
    "plt.title('Распределение интернет-траффика пользователя тарифа smart в месяц', fontsize=15)\n",
    "\n",
    "plt.subplot(2, 1, 2)\n",
    "sns.boxplot(avg_mb_per_month_smart['gb_per_month_smart'])\n",
    "plt.xlabel('GВ')\n",
    "\n",
    "plt.show()\n",
    "print('Рисунок 17. Гистограмма распределения интернет-траффика пользователя тарифа smart в месяц')"
   ]
  },
  {
   "cell_type": "markdown",
   "metadata": {},
   "source": [
    "Поведение пользователя по направлению интернет-трафиика характеризуется, как минимум тремя доступными, исходя из имеющися данных, метриками: общий используемый месячный трафик пользователем, количество совершенных сессий в месяц и средняя емкость одной интернет-сессии в месяц на одного пользователя. Далее рассмотрим каждый из имеющися в распоряжении расчетных показателей в разрезе тарифов.\n",
    "\n",
    "2227 наблюдения позволяют сформировать представление о пользователях тарифа smart в разрезе пользования услогами траффика.\n",
    "\n",
    "Так, **средняя емкость интернет-сессии пользователя тарифа smart в месяц** характеризуется слдующими мерами центральной тенденции: средним значением в 386 МВ, медианой в 384 МВ, стандартным отклонением в 43 МВ свидетельствует о достаточно узком, симметричном распределении. Однако, размах выборке от минимума в 185 МВ до максимум в 766 МВ и несопоставими узком межквартильном размахе от первого квартиля в 360 МВ и третьего квартиля в 410 МВ свидетельствует о наличии значительного числа выбросов: значения превышающие 485 МВ и значения меньше 285 МВ на одну сессию. При этом, участок в три сигмы покрывает значения от 257 МВ до 515 МВ.\n",
    "\n",
    "Распределение **количества интернет-сессий пользователя тарифа smart в месяц** имеет вид близкий к нормальному, широкой, пологой формы со средним значением в 42 сессий, медианой в 43 сессиий, стандартным отклонением в 15 сессий, минимумов в 1 сессию и максимум в 101 сессию. 25% пользователей произвели до 34 сессий за месяц, половина пользоватлей - до 43 сессий, 75% - до 51 сессии, 99% выборки заключено в интервал от одной до 87 сессии, а выбросами можно признать количество сессий менее восьми и более в 96 сессий в месяц.\n",
    "\n",
    "Суммарный **интернет-траффик пользователя тарифа smart в месяц** распределен нормальным образом со средним значением в 16,34 GВ, медианой равной 17 GВ и стандарным отклонием в 5,72 GВ. \n",
    "\n",
    "Размах выборки равен 37 GВ, распределение широкое, пологое.\n",
    "\n",
    "99% всех наблюдений находиться в интревали от 0 МВ до 33,50 GВ, выбросы выборки находятся за пределами менее 2,5 GВ и более 30,5 GB."
   ]
  },
  {
   "cell_type": "markdown",
   "metadata": {},
   "source": [
    "#### Тарифный план ultra"
   ]
  },
  {
   "cell_type": "code",
   "execution_count": 25,
   "metadata": {
    "scrolled": false
   },
   "outputs": [
    {
     "data": {
      "text/html": [
       "<div>\n",
       "<style scoped>\n",
       "    .dataframe tbody tr th:only-of-type {\n",
       "        vertical-align: middle;\n",
       "    }\n",
       "\n",
       "    .dataframe tbody tr th {\n",
       "        vertical-align: top;\n",
       "    }\n",
       "\n",
       "    .dataframe thead th {\n",
       "        text-align: right;\n",
       "    }\n",
       "</style>\n",
       "<table border=\"1\" class=\"dataframe\">\n",
       "  <thead>\n",
       "    <tr style=\"text-align: right;\">\n",
       "      <th></th>\n",
       "      <th>user_id</th>\n",
       "      <th>month</th>\n",
       "      <th>mb_per_month_ultra</th>\n",
       "      <th>session_cnt_per_month_ultra</th>\n",
       "      <th>gb_per_month_ultra</th>\n",
       "      <th>avg_mb_per_session_per_month_ultra</th>\n",
       "    </tr>\n",
       "  </thead>\n",
       "  <tbody>\n",
       "    <tr>\n",
       "      <td>419</td>\n",
       "      <td>1243</td>\n",
       "      <td>12</td>\n",
       "      <td>30550.26</td>\n",
       "      <td>56</td>\n",
       "      <td>30</td>\n",
       "      <td>545.540357</td>\n",
       "    </tr>\n",
       "    <tr>\n",
       "      <td>161</td>\n",
       "      <td>1094</td>\n",
       "      <td>8</td>\n",
       "      <td>21323.07</td>\n",
       "      <td>43</td>\n",
       "      <td>21</td>\n",
       "      <td>495.885349</td>\n",
       "    </tr>\n",
       "    <tr>\n",
       "      <td>74</td>\n",
       "      <td>1049</td>\n",
       "      <td>10</td>\n",
       "      <td>3345.75</td>\n",
       "      <td>11</td>\n",
       "      <td>4</td>\n",
       "      <td>304.159091</td>\n",
       "    </tr>\n",
       "    <tr>\n",
       "      <td>287</td>\n",
       "      <td>1166</td>\n",
       "      <td>10</td>\n",
       "      <td>13679.07</td>\n",
       "      <td>28</td>\n",
       "      <td>14</td>\n",
       "      <td>488.538214</td>\n",
       "    </tr>\n",
       "    <tr>\n",
       "      <td>721</td>\n",
       "      <td>1380</td>\n",
       "      <td>7</td>\n",
       "      <td>37962.28</td>\n",
       "      <td>66</td>\n",
       "      <td>38</td>\n",
       "      <td>575.186061</td>\n",
       "    </tr>\n",
       "  </tbody>\n",
       "</table>\n",
       "</div>"
      ],
      "text/plain": [
       "     user_id  month  mb_per_month_ultra  session_cnt_per_month_ultra  \\\n",
       "419     1243     12            30550.26                           56   \n",
       "161     1094      8            21323.07                           43   \n",
       "74      1049     10             3345.75                           11   \n",
       "287     1166     10            13679.07                           28   \n",
       "721     1380      7            37962.28                           66   \n",
       "\n",
       "     gb_per_month_ultra  avg_mb_per_session_per_month_ultra  \n",
       "419                  30                          545.540357  \n",
       "161                  21                          495.885349  \n",
       "74                    4                          304.159091  \n",
       "287                  14                          488.538214  \n",
       "721                  38                          575.186061  "
      ]
     },
     "metadata": {},
     "output_type": "display_data"
    },
    {
     "name": "stdout",
     "output_type": "stream",
     "text": [
      "Таблица 29. Количество сессий, интернет-трафика, \n",
      "среднего количества МВ на одну сессию пользователя тарифа ultra в месяц\n"
     ]
    },
    {
     "data": {
      "text/html": [
       "<div>\n",
       "<style scoped>\n",
       "    .dataframe tbody tr th:only-of-type {\n",
       "        vertical-align: middle;\n",
       "    }\n",
       "\n",
       "    .dataframe tbody tr th {\n",
       "        vertical-align: top;\n",
       "    }\n",
       "\n",
       "    .dataframe thead th {\n",
       "        text-align: right;\n",
       "    }\n",
       "</style>\n",
       "<table border=\"1\" class=\"dataframe\">\n",
       "  <thead>\n",
       "    <tr style=\"text-align: right;\">\n",
       "      <th></th>\n",
       "      <th>summary</th>\n",
       "    </tr>\n",
       "  </thead>\n",
       "  <tbody>\n",
       "    <tr>\n",
       "      <td>count</td>\n",
       "      <td>974.000000</td>\n",
       "    </tr>\n",
       "    <tr>\n",
       "      <td>mean</td>\n",
       "      <td>530.959384</td>\n",
       "    </tr>\n",
       "    <tr>\n",
       "      <td>std</td>\n",
       "      <td>56.636880</td>\n",
       "    </tr>\n",
       "    <tr>\n",
       "      <td>min</td>\n",
       "      <td>240.801667</td>\n",
       "    </tr>\n",
       "    <tr>\n",
       "      <td>25%</td>\n",
       "      <td>498.070746</td>\n",
       "    </tr>\n",
       "    <tr>\n",
       "      <td>50%</td>\n",
       "      <td>531.748072</td>\n",
       "    </tr>\n",
       "    <tr>\n",
       "      <td>75%</td>\n",
       "      <td>565.418867</td>\n",
       "    </tr>\n",
       "    <tr>\n",
       "      <td>max</td>\n",
       "      <td>730.872500</td>\n",
       "    </tr>\n",
       "  </tbody>\n",
       "</table>\n",
       "</div>"
      ],
      "text/plain": [
       "          summary\n",
       "count  974.000000\n",
       "mean   530.959384\n",
       "std     56.636880\n",
       "min    240.801667\n",
       "25%    498.070746\n",
       "50%    531.748072\n",
       "75%    565.418867\n",
       "max    730.872500"
      ]
     },
     "metadata": {},
     "output_type": "display_data"
    },
    {
     "name": "stdout",
     "output_type": "stream",
     "text": [
      "Таблица 30. Статистики средней емкости интернет-сессии пользователя тарифа ultra в месяц, МВ\n"
     ]
    },
    {
     "data": {
      "image/png": "[encoded data removed]",
      "text/plain": [
       "<Figure size 1440x1080 with 2 Axes>"
      ]
     },
     "metadata": {
      "needs_background": "light"
     },
     "output_type": "display_data"
    },
    {
     "name": "stdout",
     "output_type": "stream",
     "text": [
      "Рисунок 18. Гистограмма распределения средней емкости интернет-сессии пользователя тарифа ultra в месяц\n"
     ]
    },
    {
     "data": {
      "text/html": [
       "<div>\n",
       "<style scoped>\n",
       "    .dataframe tbody tr th:only-of-type {\n",
       "        vertical-align: middle;\n",
       "    }\n",
       "\n",
       "    .dataframe tbody tr th {\n",
       "        vertical-align: top;\n",
       "    }\n",
       "\n",
       "    .dataframe thead th {\n",
       "        text-align: right;\n",
       "    }\n",
       "</style>\n",
       "<table border=\"1\" class=\"dataframe\">\n",
       "  <thead>\n",
       "    <tr style=\"text-align: right;\">\n",
       "      <th></th>\n",
       "      <th>summary</th>\n",
       "    </tr>\n",
       "  </thead>\n",
       "  <tbody>\n",
       "    <tr>\n",
       "      <td>count</td>\n",
       "      <td>974.000000</td>\n",
       "    </tr>\n",
       "    <tr>\n",
       "      <td>mean</td>\n",
       "      <td>37.045175</td>\n",
       "    </tr>\n",
       "    <tr>\n",
       "      <td>std</td>\n",
       "      <td>18.473336</td>\n",
       "    </tr>\n",
       "    <tr>\n",
       "      <td>min</td>\n",
       "      <td>1.000000</td>\n",
       "    </tr>\n",
       "    <tr>\n",
       "      <td>25%</td>\n",
       "      <td>23.000000</td>\n",
       "    </tr>\n",
       "    <tr>\n",
       "      <td>50%</td>\n",
       "      <td>36.500000</td>\n",
       "    </tr>\n",
       "    <tr>\n",
       "      <td>75%</td>\n",
       "      <td>50.000000</td>\n",
       "    </tr>\n",
       "    <tr>\n",
       "      <td>max</td>\n",
       "      <td>94.000000</td>\n",
       "    </tr>\n",
       "  </tbody>\n",
       "</table>\n",
       "</div>"
      ],
      "text/plain": [
       "          summary\n",
       "count  974.000000\n",
       "mean    37.045175\n",
       "std     18.473336\n",
       "min      1.000000\n",
       "25%     23.000000\n",
       "50%     36.500000\n",
       "75%     50.000000\n",
       "max     94.000000"
      ]
     },
     "metadata": {},
     "output_type": "display_data"
    },
    {
     "name": "stdout",
     "output_type": "stream",
     "text": [
      "Таблица 31. Статистики количества интернет-сессий пользователя тарифа ultra в месяц\n"
     ]
    },
    {
     "data": {
      "image/png": "[encoded data removed]",
      "text/plain": [
       "<Figure size 1440x720 with 2 Axes>"
      ]
     },
     "metadata": {
      "needs_background": "light"
     },
     "output_type": "display_data"
    },
    {
     "name": "stdout",
     "output_type": "stream",
     "text": [
      "Рисунок 19. Гистограмма распределения количества интернет-сессий пользователя тарифа ultra в месяц\n"
     ]
    },
    {
     "data": {
      "text/html": [
       "<div>\n",
       "<style scoped>\n",
       "    .dataframe tbody tr th:only-of-type {\n",
       "        vertical-align: middle;\n",
       "    }\n",
       "\n",
       "    .dataframe tbody tr th {\n",
       "        vertical-align: top;\n",
       "    }\n",
       "\n",
       "    .dataframe thead th {\n",
       "        text-align: right;\n",
       "    }\n",
       "</style>\n",
       "<table border=\"1\" class=\"dataframe\">\n",
       "  <thead>\n",
       "    <tr style=\"text-align: right;\">\n",
       "      <th></th>\n",
       "      <th>summary</th>\n",
       "    </tr>\n",
       "  </thead>\n",
       "  <tbody>\n",
       "    <tr>\n",
       "      <td>count</td>\n",
       "      <td>974.000000</td>\n",
       "    </tr>\n",
       "    <tr>\n",
       "      <td>mean</td>\n",
       "      <td>19.714579</td>\n",
       "    </tr>\n",
       "    <tr>\n",
       "      <td>std</td>\n",
       "      <td>9.687335</td>\n",
       "    </tr>\n",
       "    <tr>\n",
       "      <td>min</td>\n",
       "      <td>1.000000</td>\n",
       "    </tr>\n",
       "    <tr>\n",
       "      <td>25%</td>\n",
       "      <td>12.000000</td>\n",
       "    </tr>\n",
       "    <tr>\n",
       "      <td>50%</td>\n",
       "      <td>19.000000</td>\n",
       "    </tr>\n",
       "    <tr>\n",
       "      <td>75%</td>\n",
       "      <td>27.000000</td>\n",
       "    </tr>\n",
       "    <tr>\n",
       "      <td>max</td>\n",
       "      <td>49.000000</td>\n",
       "    </tr>\n",
       "  </tbody>\n",
       "</table>\n",
       "</div>"
      ],
      "text/plain": [
       "          summary\n",
       "count  974.000000\n",
       "mean    19.714579\n",
       "std      9.687335\n",
       "min      1.000000\n",
       "25%     12.000000\n",
       "50%     19.000000\n",
       "75%     27.000000\n",
       "max     49.000000"
      ]
     },
     "metadata": {},
     "output_type": "display_data"
    },
    {
     "name": "stdout",
     "output_type": "stream",
     "text": [
      "Таблица 32. Статистики интернет-траффика пользователя тарифа ultra в месяц, GB\n"
     ]
    },
    {
     "data": {
      "image/png": "[encoded data removed]",
      "text/plain": [
       "<Figure size 1440x720 with 2 Axes>"
      ]
     },
     "metadata": {
      "needs_background": "light"
     },
     "output_type": "display_data"
    },
    {
     "name": "stdout",
     "output_type": "stream",
     "text": [
      "Рисунок 20. Гистограмма распределения интернет-траффика пользователя тарифа ultra в месяц\n"
     ]
    }
   ],
   "source": [
    "# расчет количества сессий, интернет-трафика, \n",
    "# среднего количества МВ на одну сессию пользователя тарифа ultra в месяц, \n",
    "# конвертация интернет-траффика из МВ в GB\n",
    "avg_mb_per_month_ultra =(\n",
    "    internet[internet['tariff'] == 'ultra']\n",
    "    .groupby(['user_id', 'month'])\n",
    "    .agg(\n",
    "        mb_per_month_ultra = ('mb_used', 'sum'),\n",
    "        session_cnt_per_month_ultra = ('id', 'count')\n",
    "    )\n",
    "    .reset_index()\n",
    "    .assign(\n",
    "        gb_per_month_ultra = lambda x: x['mb_per_month_ultra'].apply(convert_traffic),\n",
    "        avg_mb_per_session_per_month_ultra = lambda x: x['mb_per_month_ultra'] / x['session_cnt_per_month_ultra']\n",
    "    )\n",
    ")\n",
    "\n",
    "# отображение расчетной таблица траффика тарифа ultra\n",
    "display(avg_mb_per_month_ultra.sample(5))\n",
    "print('''Таблица 29. Количество сессий, интернет-трафика, \n",
    "среднего количества МВ на одну сессию пользователя тарифа ultra в месяц''')\n",
    "\n",
    "# отображение статистик средней емкости интернет-сессии пользователя тарифа ultra в месяц\n",
    "display(\n",
    "    avg_mb_per_month_ultra['avg_mb_per_session_per_month_ultra']\n",
    "    .describe()\n",
    "    .to_frame()\n",
    "    .rename(columns={'avg_mb_per_session_per_month_ultra': 'summary'})\n",
    ")\n",
    "print('Таблица 30. Статистики средней емкости интернет-сессии пользователя тарифа ultra в месяц, МВ')\n",
    "\n",
    "# визуализация статистик средней емкости интернет-сессии пользователя тарифа ultra в месяц\n",
    "plt.figure(figsize=(20, 15))\n",
    "\n",
    "plt.subplot(2, 1, 1)\n",
    "avg_mb_per_month_ultra['avg_mb_per_session_per_month_ultra'].hist(bins=100)\n",
    "plt.title('Распределение средней емкости интернет-сессии пользователя тарифа ultra в месяц', fontsize=15)\n",
    "\n",
    "plt.subplot(2, 1, 2)\n",
    "sns.boxplot(avg_mb_per_month_ultra['avg_mb_per_session_per_month_ultra'])\n",
    "plt.xlabel('')\n",
    "\n",
    "plt.show()\n",
    "print('Рисунок 18. Гистограмма распределения средней емкости интернет-сессии пользователя тарифа ultra в месяц')\n",
    "\n",
    "# отображение статистик количества интернет-сессий пользователя тарифа ultra в месяц\n",
    "display(\n",
    "    avg_mb_per_month_ultra['session_cnt_per_month_ultra']\n",
    "    .describe()\n",
    "    .to_frame()\n",
    "    .rename(columns={'session_cnt_per_month_ultra': 'summary'})\n",
    ")\n",
    "print('Таблица 31. Статистики количества интернет-сессий пользователя тарифа ultra в месяц')\n",
    "\n",
    "# визуализация статистик количества интернет-сессий пользователя тарифа ultra в месяц\n",
    "plt.figure(figsize=(20, 10))\n",
    "\n",
    "plt.subplot(2, 1, 1)\n",
    "avg_mb_per_month_ultra['session_cnt_per_month_ultra'].hist(bins=100)\n",
    "plt.title('Распределение количества интернет-сессий пользователя тарифа ultra в месяц', fontsize=15)\n",
    "\n",
    "plt.subplot(2, 1, 2)\n",
    "sns.boxplot(avg_mb_per_month_ultra['session_cnt_per_month_ultra'])\n",
    "plt.xlabel('Сессии')\n",
    "\n",
    "plt.show()\n",
    "print('Рисунок 19. Гистограмма распределения количества интернет-сессий пользователя тарифа ultra в месяц')\n",
    "\n",
    "# отображение статистик интернет-траффика пользователя тарифа ultra в месяц\n",
    "display(\n",
    "    avg_mb_per_month_ultra['gb_per_month_ultra']\n",
    "    .describe()\n",
    "    .to_frame()\n",
    "    .rename(columns={'gb_per_month_ultra': 'summary'})\n",
    ")\n",
    "print('Таблица 32. Статистики интернет-траффика пользователя тарифа ultra в месяц, GB')\n",
    "\n",
    "# визуализация статистик интернет-траффика пользователя тарифа ultra в месяц\n",
    "plt.figure(figsize=(20, 10))\n",
    "\n",
    "plt.subplot(2, 1, 1)\n",
    "avg_mb_per_month_ultra['gb_per_month_ultra'].hist(bins=100)\n",
    "plt.title('Распределение интернет-траффика пользователя тарифа ultra в месяц', fontsize=15)\n",
    "\n",
    "plt.subplot(2, 1, 2)\n",
    "sns.boxplot(avg_mb_per_month_ultra['gb_per_month_ultra'])\n",
    "plt.xlabel('GВ')\n",
    "\n",
    "plt.show()\n",
    "print('Рисунок 20. Гистограмма распределения интернет-траффика пользователя тарифа ultra в месяц')"
   ]
  },
  {
   "cell_type": "markdown",
   "metadata": {},
   "source": [
    "Из 974 элементов состоит выборка траффика пользователей тарифа ultra. По указанному объему данных оценим поведение клиентов указанной категории в разрезе пользования сетью Интренет.\n",
    "\n",
    "**Средняя емкость интернет-сессии пользователя тарифа ultra в месяц** составляет 530 МВ, практически равна медине в 531 МВ. Стандартное отклонение в 56 МВ, при размахе выборке в 490 МВ и межквартильном размахе в 167 МВ свидетельствует о достаточно узком и симметричном, близком к нормальному распределению, с референтным значением в интервал от 418 МВ до 643 МВ и выбросами за пределами менее 398 МВ и более 665 МВ.\n",
    "\n",
    "**Среденее количество интернет-сессиий польователя тарифа ultra в месяц** равно 37 сессиям, при идентичной медиане.Однако, распределение хоть и семметричное и унимодальное, тяготеющее к нормальному, достаточно широкое от 1 сессии до 94 сессии, при двух выбросах: значениях более 91 сессии и пологое от 23 сессий первого квартиля до 50 сессиий тертьего квартиля.\n",
    "\n",
    "Таким же широким и пологим явлеться распределение **суммарного объема интернет-траффика пользователя тарифа ultra в месяц** со средним в 19,71 GB, медианой в 19 GB, стандартным отклонением в 9,68 GB минимумом в 1 GB, максимумов в 49 GB. Межквартильный размах в 15 GB покрывает максимумы и минимумы выборки - выбросов нет. "
   ]
  },
  {
   "cell_type": "markdown",
   "metadata": {},
   "source": [
    "**Вывод**\n",
    "\n",
    "Таким образом, поведения клиентов разных тарифов достаточно вариативны и отличны друг от друга. Клиенты тарифных планов адоптируют выбираемые тарифы под свои потребности и за редким исключением выходят за пределы лимитов тарифов. Что было отмечено автором, при анализе выручки тарифных планов.\n",
    "\n",
    "Так, превышение лимита в 3000 мин в месяц на тарифном плане ultra не допускает ни один из представленной в выборке пользователь; на тарифном плане smart лимит в 500 мин в месяц превышает порядка 15% пользователей.\n",
    "\n",
    "Превышение лимита в 1000 сообщений в месяц на тарифном плане ultra не допускает ни один из представленной в выборке пользователь; на тарифном плане smart лимит в 50 сообщений в месяц превышает порядка 25% пользователей.\n",
    "\n",
    "Превышение лимита на 30 GB в месяц на тарифе ultra  допускают порядка 15% пользователей; на тарифе smart лимит в 15 GB в месяц превышают половина пользователей.\n",
    "\n",
    "Превышение лимитов формируют дополнительную выручку опреатора. При этом выручка тарифа ultra более стабильна на всем временном периоде анализа, а ее дополнительная часть формируется лишь малой долей пользователей за счет превышение лимита на интренет-траффик. Пользователи тарифа smart допускают превышение по всем позициям поведения клиента на всем исследуемом временном промежутке, при постоянном увелеичении пределов указанного превышения, в связи с чем выручка растет линейно.\n",
    "\n",
    "Данные обстоятельства были описаны автором в разделе анализа выручке. В данном разделе выводы дополнитлеьно подтверждают декмопозицией по составляющим частям выручки."
   ]
  },
  {
   "cell_type": "markdown",
   "metadata": {},
   "source": [
    "## Проверка гипотез"
   ]
  },
  {
   "cell_type": "markdown",
   "metadata": {},
   "source": [
    "### Cредняя выручка пользователей тарифов «Ультра» и «Смарт» различаются"
   ]
  },
  {
   "cell_type": "markdown",
   "metadata": {},
   "source": [
    "Сформулируем \"нулевую\" и \"альтернативную\" гипотезы. Н0: средняя выручка пользователей тарифа \"Ультра\" равна средней выручке пользователей тарифа \"Смарт\". Н1: средняя выручка пользователей тарифа \"Ультра\" не равна средней выручке пользователей тарифа \"Смарт\".\n",
    "\n",
    "Таким образом, проверки подлежит гипотеза о равенстве средних двух генеральных совокупностей.\n",
    "\n",
    "Далее исходим из предположений, что во-первых, популяция пользователей тарифов значительны и рассчитать среднее генеральной совакупности не представляется возможным, во-вторых, представленные на анализ данные явлются сами по себе ограниченной выборкой за период 2018 года (вопросы формирования, представленной на анализ выборке находятся вне рамок настоящего исследования).\n",
    "\n",
    "Таким образом, проверки обозначенной гипотезы представлятся возможным использовать t-критерий Стьюдента.\n",
    "\n",
    "Опишем условия применения параметрического теста:\n",
    "\n",
    "- независимость популяций;\n",
    "\n",
    "Для целей настоящего исследования будем исходить из предположения, что пользователи тарифовного плана \"Ультра\" ранее не пользовались тарифным планом \"Смарт\" и наоборот. Данную предпосылку автор связывает во-первых, отсутсвия сведений о таком условии в задании к Проекту, во-вторых ограниченности данных - анализируемый период 2018 года, представлены сведения (выборка) о пятиста уникальных пользователях, каждый из которых применяет уникальный тариф - \"Смарт\" или \"Ультра\". Таким образом, пользователи явлются взаимоисключаемыми (пользователь примеяет или тариф \"Смарт\" или тариф \"Ультра\" и исчерпывающими (пользователь обязательно применят один из двух представленных тарифов).\n",
    "\n",
    "- выборочные средние нормально распределены;\n",
    "\n",
    "Согласно Теореме центрального предела не зависимо о типа (вида, формы) распределения генеральной совокупности, распределения средних значений достаточно большого числа выборок, состоящих из достаточно большого числа элементов будет распределено \"нормально\", относительно \"истинного\" среднего популяции. Эмпирическим путем доказано, что достаточно выборки в 30 элементов, чтобы распределение Стьюденты было ассимптотически эквивалентно стандартному нормальному распределению. При этом, на выборках доверительные интервалы распределения Стьюдента шире и надёжнее. В рамках настоящего Исследования, представлется возможным извлеч в выборку в 500 наблюдений. Таким образом, требование нормальности распределения данных для точного t-теста выполняются.\n",
    "\n",
    "- равенство дисперсий популяций;\n",
    "\n",
    "t-статистика строится обычно по следующему общему принципу: в числителе — случайная величина с нулевым математическим ожиданием (при выполнении \"нулевой\" гипотезы), а в знаменателе — выборочное стандартное отклонение этой случайной величины, получаемое как квадратный корень из несмещённой оценки дисперсии. В условиях проекта подробно описаны тарифы, которые в превую очередь отличаються между собой ценой (проверке подлежат \"денежные\" гипотезы) и другими параметрами, в связи с чем есть основания полагать, что пользователи тарифов \"пришли\" из разных генеральных совакупностей, поэтому утверждать равенство дисперсий сомнительно в данном случае. \"Сгладить\" параметр неравенста дисперсий поможет достаточное количество наблюдений (986 и 2230 соответсвенно).\n",
    "\n",
    "Рассчитаем t-статистику, р-уровень значимости и примем решение по гипотезам.\n",
    "\n",
    "\n",
    "\n"
   ]
  },
  {
   "cell_type": "code",
   "execution_count": 26,
   "metadata": {},
   "outputs": [
    {
     "data": {
      "text/html": [
       "<div>\n",
       "<style scoped>\n",
       "    .dataframe tbody tr th:only-of-type {\n",
       "        vertical-align: middle;\n",
       "    }\n",
       "\n",
       "    .dataframe tbody tr th {\n",
       "        vertical-align: top;\n",
       "    }\n",
       "\n",
       "    .dataframe thead th {\n",
       "        text-align: right;\n",
       "    }\n",
       "</style>\n",
       "<table border=\"1\" class=\"dataframe\">\n",
       "  <thead>\n",
       "    <tr style=\"text-align: right;\">\n",
       "      <th></th>\n",
       "      <th>summary</th>\n",
       "    </tr>\n",
       "  </thead>\n",
       "  <tbody>\n",
       "    <tr>\n",
       "      <td>count</td>\n",
       "      <td>986.000000</td>\n",
       "    </tr>\n",
       "    <tr>\n",
       "      <td>mean</td>\n",
       "      <td>2070.030426</td>\n",
       "    </tr>\n",
       "    <tr>\n",
       "      <td>std</td>\n",
       "      <td>376.015578</td>\n",
       "    </tr>\n",
       "    <tr>\n",
       "      <td>min</td>\n",
       "      <td>1950.000000</td>\n",
       "    </tr>\n",
       "    <tr>\n",
       "      <td>25%</td>\n",
       "      <td>1950.000000</td>\n",
       "    </tr>\n",
       "    <tr>\n",
       "      <td>50%</td>\n",
       "      <td>1950.000000</td>\n",
       "    </tr>\n",
       "    <tr>\n",
       "      <td>75%</td>\n",
       "      <td>1950.000000</td>\n",
       "    </tr>\n",
       "    <tr>\n",
       "      <td>max</td>\n",
       "      <td>4800.000000</td>\n",
       "    </tr>\n",
       "  </tbody>\n",
       "</table>\n",
       "</div>"
      ],
      "text/plain": [
       "           summary\n",
       "count   986.000000\n",
       "mean   2070.030426\n",
       "std     376.015578\n",
       "min    1950.000000\n",
       "25%    1950.000000\n",
       "50%    1950.000000\n",
       "75%    1950.000000\n",
       "max    4800.000000"
      ]
     },
     "metadata": {},
     "output_type": "display_data"
    },
    {
     "name": "stdout",
     "output_type": "stream",
     "text": [
      "Таблица 33. Статистики выборки месячной выручки тарифа ultra\n"
     ]
    },
    {
     "data": {
      "text/html": [
       "<div>\n",
       "<style scoped>\n",
       "    .dataframe tbody tr th:only-of-type {\n",
       "        vertical-align: middle;\n",
       "    }\n",
       "\n",
       "    .dataframe tbody tr th {\n",
       "        vertical-align: top;\n",
       "    }\n",
       "\n",
       "    .dataframe thead th {\n",
       "        text-align: right;\n",
       "    }\n",
       "</style>\n",
       "<table border=\"1\" class=\"dataframe\">\n",
       "  <thead>\n",
       "    <tr style=\"text-align: right;\">\n",
       "      <th></th>\n",
       "      <th>summary</th>\n",
       "    </tr>\n",
       "  </thead>\n",
       "  <tbody>\n",
       "    <tr>\n",
       "      <td>count</td>\n",
       "      <td>2230.000000</td>\n",
       "    </tr>\n",
       "    <tr>\n",
       "      <td>mean</td>\n",
       "      <td>1289.641704</td>\n",
       "    </tr>\n",
       "    <tr>\n",
       "      <td>std</td>\n",
       "      <td>818.370799</td>\n",
       "    </tr>\n",
       "    <tr>\n",
       "      <td>min</td>\n",
       "      <td>550.000000</td>\n",
       "    </tr>\n",
       "    <tr>\n",
       "      <td>25%</td>\n",
       "      <td>550.000000</td>\n",
       "    </tr>\n",
       "    <tr>\n",
       "      <td>50%</td>\n",
       "      <td>1021.000000</td>\n",
       "    </tr>\n",
       "    <tr>\n",
       "      <td>75%</td>\n",
       "      <td>1750.000000</td>\n",
       "    </tr>\n",
       "    <tr>\n",
       "      <td>max</td>\n",
       "      <td>6770.000000</td>\n",
       "    </tr>\n",
       "  </tbody>\n",
       "</table>\n",
       "</div>"
      ],
      "text/plain": [
       "           summary\n",
       "count  2230.000000\n",
       "mean   1289.641704\n",
       "std     818.370799\n",
       "min     550.000000\n",
       "25%     550.000000\n",
       "50%    1021.000000\n",
       "75%    1750.000000\n",
       "max    6770.000000"
      ]
     },
     "metadata": {},
     "output_type": "display_data"
    },
    {
     "name": "stdout",
     "output_type": "stream",
     "text": [
      "Таблица 34. Статистики выборки месячной выручки тарифа smart\n"
     ]
    },
    {
     "data": {
      "image/png": "[encoded data removed]",
      "text/plain": [
       "<Figure size 864x360 with 1 Axes>"
      ]
     },
     "metadata": {
      "needs_background": "light"
     },
     "output_type": "display_data"
    },
    {
     "name": "stdout",
     "output_type": "stream",
     "text": [
      "Рисунок 21. Гистограммы распределений выборок месячных выручек тарифов ultra, smart\n",
      "\n",
      "Проверка гипотезы о равенстве средних двух генеральных совокупностей\n",
      "\n",
      "p-значение:  1.927011394420941e-250\n",
      "Есть основания отвергнуть Н0\n"
     ]
    }
   ],
   "source": [
    "# отбор данных для проверки гипотезы\n",
    "month_revenue_ultra = month_revenue[month_revenue['tariff'] == 'ultra']['total_revenue_per_month']\n",
    "\n",
    "month_revenue_smart = month_revenue[month_revenue['tariff'] == 'smart']['total_revenue_per_month']\n",
    "\n",
    "# статистики выборок\n",
    "display(month_revenue_ultra\n",
    "        .describe()\n",
    "        .to_frame()\n",
    "        .rename(columns={'total_revenue_per_month': 'summary'}))\n",
    "print('Таблица 33. Статистики выборки месячной выручки тарифа ultra')\n",
    "\n",
    "display(month_revenue_smart\n",
    "        .describe()\n",
    "        .to_frame()\n",
    "        .rename(columns={'total_revenue_per_month': 'summary'}))\n",
    "print('Таблица 34. Статистики выборки месячной выручки тарифа smart')\n",
    "\n",
    "# визуализация распределений выборок\n",
    "plt.figure(figsize=(12, 5))\n",
    "\n",
    "month_revenue_ultra.hist(bins=30)\n",
    "month_revenue_smart.hist(bins=30, alpha=.5)\n",
    "\n",
    "plt.title('Распределение выборок месячных выручек тарифов ultra, smart')\n",
    "plt.show()\n",
    "print('Рисунок 21. Гистограммы распределений выборок месячных выручек тарифов ultra, smart')\n",
    "\n",
    "# проверка гипотезы о равенстве средних двух генеральных совокупностей\n",
    "alpha = .05\n",
    "\n",
    "results = st.ttest_ind(\n",
    "    month_revenue_ultra, \n",
    "    month_revenue_smart,\n",
    "    equal_var = False\n",
    ")\n",
    "\n",
    "print()\n",
    "print('Проверка гипотезы о равенстве средних двух генеральных совокупностей')\n",
    "print()\n",
    "print('p-значение: ', results.pvalue)\n",
    "\n",
    "if results.pvalue < alpha:\n",
    "    print(\"Есть основания отвергнуть Н0\")\n",
    "else:\n",
    "    print(\"Оснований отвергнуть Н0 - нет\")\n"
   ]
  },
  {
   "cell_type": "markdown",
   "metadata": {},
   "source": [
    "**Вывод**\n",
    "\n",
    "Таким образом, значение p-value явно меньше порогового значения в 0.05, есть основания отвернуть \"нулевую\" гипотезу, т.е. есть основания считать, что средняя выручка пользователей тарифа \"Ультра\" не равна средней выручке пользователей тарифа \"Смарт\".\n",
    "\n",
    "Стоит отметить, во-первых нет возможности абсолютно точно утверждать что средняя выручка пользователей тарифа \"Ультра\" не равна средней выручке пользователей тарифа \"Смарт\", в связи недостатком данных, либо до тех пор, пока не будет доказано обратное. Представляется вожность указать лиь на то, что имеются статистически значимые различия. \n",
    "\n",
    "Во-вторых, в настоящем Исследовании не рассматриваются вопросы ошибок первого и второго рода и соответсвенно точность и мощность тестов.\n",
    "\n",
    "Пороговое значение \"альфы\", как вероятность ошибки первого рода (точность теста) будем устанавливать в текущем Проекте, как 0.05, а пороговое значение \"бета\", как вероятность ошибки второго рода и соответсвенно мощность теста, как 1-\"бета\" вообще не учитывать не будем, т.е. Исследование не ставит целью рассчитывать размер (объем) необходимой выборки и критериев точности и мощности применяемого теста.\n",
    "\n",
    "Резюмируя. Выборки уже даны (рассчитывать их не надо), эффект наблюдаем, делаем вывод только о том, является он случайным или нет."
   ]
  },
  {
   "cell_type": "markdown",
   "metadata": {},
   "source": [
    "### Cредняя выручка пользователей из Москвы отличается от выручки пользователей из других регионов"
   ]
  },
  {
   "cell_type": "markdown",
   "metadata": {},
   "source": [
    "Автор использует аналогичные рассуждения и в рамках проверки текущей гипотезы.\n",
    "\n",
    "Н0: средняя выручка пользователей из Москвы равна средней выручке пользователей из других регионов;\n",
    "\n",
    "Н1: средняя выручка пользователей из Москвы не равна средней выручке пользователей из других регионов.\n",
    "\n",
    "Проверки подлежит о равенстве средних двух генеральных совокупностей.\n",
    "\n",
    "Популяции независимы (пользователи из Москвы ранее не проживали в других регионах и наоборот); выборочные среднее распределены нормально (ЦПТ); дисперсии не равны (популяция пользоватлей из Москвы достаточно отличается по покупальско способности от пользователей из других регионов).\n",
    "\n",
    "Рассчитаем t-статистику, р-уровень значимости и примем решение по гипотезам."
   ]
  },
  {
   "cell_type": "code",
   "execution_count": 27,
   "metadata": {},
   "outputs": [
    {
     "data": {
      "text/html": [
       "<div>\n",
       "<style scoped>\n",
       "    .dataframe tbody tr th:only-of-type {\n",
       "        vertical-align: middle;\n",
       "    }\n",
       "\n",
       "    .dataframe tbody tr th {\n",
       "        vertical-align: top;\n",
       "    }\n",
       "\n",
       "    .dataframe thead th {\n",
       "        text-align: right;\n",
       "    }\n",
       "</style>\n",
       "<table border=\"1\" class=\"dataframe\">\n",
       "  <thead>\n",
       "    <tr style=\"text-align: right;\">\n",
       "      <th></th>\n",
       "      <th>summary</th>\n",
       "    </tr>\n",
       "  </thead>\n",
       "  <tbody>\n",
       "    <tr>\n",
       "      <td>count</td>\n",
       "      <td>611.000000</td>\n",
       "    </tr>\n",
       "    <tr>\n",
       "      <td>mean</td>\n",
       "      <td>1546.713584</td>\n",
       "    </tr>\n",
       "    <tr>\n",
       "      <td>std</td>\n",
       "      <td>752.088071</td>\n",
       "    </tr>\n",
       "    <tr>\n",
       "      <td>min</td>\n",
       "      <td>550.000000</td>\n",
       "    </tr>\n",
       "    <tr>\n",
       "      <td>25%</td>\n",
       "      <td>780.500000</td>\n",
       "    </tr>\n",
       "    <tr>\n",
       "      <td>50%</td>\n",
       "      <td>1750.000000</td>\n",
       "    </tr>\n",
       "    <tr>\n",
       "      <td>75%</td>\n",
       "      <td>1950.000000</td>\n",
       "    </tr>\n",
       "    <tr>\n",
       "      <td>max</td>\n",
       "      <td>5321.000000</td>\n",
       "    </tr>\n",
       "  </tbody>\n",
       "</table>\n",
       "</div>"
      ],
      "text/plain": [
       "           summary\n",
       "count   611.000000\n",
       "mean   1546.713584\n",
       "std     752.088071\n",
       "min     550.000000\n",
       "25%     780.500000\n",
       "50%    1750.000000\n",
       "75%    1950.000000\n",
       "max    5321.000000"
      ]
     },
     "metadata": {},
     "output_type": "display_data"
    },
    {
     "name": "stdout",
     "output_type": "stream",
     "text": [
      "Таблица 35. Статистики выборки месячной выручки пользователей из Москвы\n"
     ]
    },
    {
     "data": {
      "text/html": [
       "<div>\n",
       "<style scoped>\n",
       "    .dataframe tbody tr th:only-of-type {\n",
       "        vertical-align: middle;\n",
       "    }\n",
       "\n",
       "    .dataframe tbody tr th {\n",
       "        vertical-align: top;\n",
       "    }\n",
       "\n",
       "    .dataframe thead th {\n",
       "        text-align: right;\n",
       "    }\n",
       "</style>\n",
       "<table border=\"1\" class=\"dataframe\">\n",
       "  <thead>\n",
       "    <tr style=\"text-align: right;\">\n",
       "      <th></th>\n",
       "      <th>summary</th>\n",
       "    </tr>\n",
       "  </thead>\n",
       "  <tbody>\n",
       "    <tr>\n",
       "      <td>count</td>\n",
       "      <td>2605.000000</td>\n",
       "    </tr>\n",
       "    <tr>\n",
       "      <td>mean</td>\n",
       "      <td>1524.725144</td>\n",
       "    </tr>\n",
       "    <tr>\n",
       "      <td>std</td>\n",
       "      <td>808.745680</td>\n",
       "    </tr>\n",
       "    <tr>\n",
       "      <td>min</td>\n",
       "      <td>550.000000</td>\n",
       "    </tr>\n",
       "    <tr>\n",
       "      <td>25%</td>\n",
       "      <td>750.000000</td>\n",
       "    </tr>\n",
       "    <tr>\n",
       "      <td>50%</td>\n",
       "      <td>1583.000000</td>\n",
       "    </tr>\n",
       "    <tr>\n",
       "      <td>75%</td>\n",
       "      <td>1950.000000</td>\n",
       "    </tr>\n",
       "    <tr>\n",
       "      <td>max</td>\n",
       "      <td>6770.000000</td>\n",
       "    </tr>\n",
       "  </tbody>\n",
       "</table>\n",
       "</div>"
      ],
      "text/plain": [
       "           summary\n",
       "count  2605.000000\n",
       "mean   1524.725144\n",
       "std     808.745680\n",
       "min     550.000000\n",
       "25%     750.000000\n",
       "50%    1583.000000\n",
       "75%    1950.000000\n",
       "max    6770.000000"
      ]
     },
     "metadata": {},
     "output_type": "display_data"
    },
    {
     "name": "stdout",
     "output_type": "stream",
     "text": [
      "Таблица 36. Статистики выборки месячной выручки пользователей из других регионов\n"
     ]
    },
    {
     "data": {
      "image/png": "[encoded data removed]",
      "text/plain": [
       "<Figure size 864x360 with 1 Axes>"
      ]
     },
     "metadata": {
      "needs_background": "light"
     },
     "output_type": "display_data"
    },
    {
     "name": "stdout",
     "output_type": "stream",
     "text": [
      "Рисунок 22. Гистограммы распределений выборок месячных выручек пользователей из Москвы, \n",
      "пользователей из других регионов\n",
      "\n",
      "Проверка гипотезы о равенстве средних двух генеральных совокупностей\n",
      "\n",
      "p-значение:  0.5216952110000278\n",
      "Оснований отвергнуть Н0 - нет\n"
     ]
    }
   ],
   "source": [
    "# отбор данных для проверки гипотезы\n",
    "month_revenue_moscow = month_revenue[month_revenue['city'] == 'Москва']['total_revenue_per_month']\n",
    "\n",
    "month_revenue_other = month_revenue[month_revenue['city'] != 'Москва']['total_revenue_per_month']\n",
    "\n",
    "# статистики выборок\n",
    "display(month_revenue_moscow\n",
    "        .describe()\n",
    "        .to_frame()\n",
    "        .rename(columns={'total_revenue_per_month': 'summary'}))\n",
    "print('Таблица 35. Статистики выборки месячной выручки пользователей из Москвы')\n",
    "\n",
    "display(month_revenue_other\n",
    "        .describe()\n",
    "        .to_frame()\n",
    "        .rename(columns={'total_revenue_per_month': 'summary'}))\n",
    "print('Таблица 36. Статистики выборки месячной выручки пользователей из других регионов')\n",
    "\n",
    "# визуализация распределений выборок\n",
    "plt.figure(figsize=(12, 5))\n",
    "\n",
    "month_revenue_moscow.hist(bins=30)\n",
    "month_revenue_other.hist(bins=30, alpha=.5)\n",
    "\n",
    "plt.title('Распределение выборок месячных выручек пользователей из Москвы, пользователей из других регионов')\n",
    "plt.show()\n",
    "print('''Рисунок 22. Гистограммы распределений выборок месячных выручек пользователей из Москвы, \n",
    "пользователей из других регионов''')\n",
    "\n",
    "# проверка гипотезы о равенстве средних двух генеральных совокупностей\n",
    "alpha = .05\n",
    "\n",
    "results = st.ttest_ind(\n",
    "    month_revenue_moscow, \n",
    "    month_revenue_other,\n",
    "    equal_var = False\n",
    ")\n",
    "\n",
    "print()\n",
    "print('Проверка гипотезы о равенстве средних двух генеральных совокупностей')\n",
    "print()\n",
    "print('p-значение: ', results.pvalue)\n",
    "\n",
    "if results.pvalue < alpha:\n",
    "    print(\"Есть основания отвергнуть Н0\")\n",
    "else:\n",
    "    print(\"Оснований отвергнуть Н0 - нет\")"
   ]
  },
  {
   "cell_type": "markdown",
   "metadata": {},
   "source": [
    "**Вывод**\n",
    "\n",
    "Таким образом, p-value превышает заданное пороговое значение. Оснований отвергнуть НО: средняя выручка пользователей из Москвы равна средней выручке пользователей из других регионов, - нет. "
   ]
  },
  {
   "cell_type": "markdown",
   "metadata": {},
   "source": [
    "## Выводы"
   ]
  },
  {
   "cell_type": "markdown",
   "metadata": {},
   "source": [
    "1. На исследование представлено два тарифных плана: «Смарт» и «Ультра» телеком-компании «Мегалайна». Чтобы скорректировать рекламный бюджет, коммерческий департамент хочет понять, какой тариф приносит больше денег.\n",
    "\n",
    "Предстоит сделать предварительный анализ тарифов на небольшой выборке клиентов. \n",
    "\n",
    "В распоряжении данные 500 пользователей «Мегалайна»: кто они, откуда, каким тарифом пользуются, сколько звонков и сообщений каждый отправил за 2018 год. Требуется проанализировать поведение клиентов и сделать вывод — какой тариф лучше.\n",
    "\n",
    "Тариф *«Смарт»*\n",
    "\n",
    "Ежемесячная плата: 550 рублей\n",
    "\n",
    "Включено 500 минут разговора, 50 сообщений и 15 Гб интернет-трафика\n",
    "\n",
    "Стоимость услуг сверх тарифного пакета: 1. минута разговора: 3 рубля («Мегалайн» всегда округляет вверх значения минут и мегабайтов. Если пользователь проговорил всего 1 секунду, в тарифе засчитывается целая минута); 2. сообщение: 3 рубля; 3. 1 Гб интернет-трафика: 200 рублей.\n",
    "\n",
    "Тариф *«Ультра»*\n",
    "\n",
    "Ежемесячная плата: 1950 рублей\n",
    "\n",
    "Включено 3000 минут разговора, 1000 сообщений и 30 Гб интернет-трафика\n",
    "\n",
    "Стоимость услуг сверх тарифного пакета: 1. минута разговора: 1 рубль; 2. сообщение: 1 рубль; 3. 1 Гб интернет-трафика: 150 рублей.\n",
    "\n",
    "Лучшим тарифом следует признать тариф, приносящий наибольшую выручку оператору. Таким образом, в ходе исследования будет определено количество минут разговора, отправленных сообщений и интернет-траффика типичного пользователя тарифа, учтены включенные лимиты пакетов тарифов и определена средняя выручка по пользователю в месяц.\n",
    "\n",
    "2. «Мегалайн» всегда округляет секунды до минут, а мегабайты — до гигабайт. Каждый звонок округляется отдельно: даже если он длился всего 1 секунду, будет засчитан как 1 минута.\n",
    "\n",
    "Для веб-трафика отдельные сессии не считаются. Вместо этого общая сумма за месяц округляется в бо́льшую сторону. Если абонент использует 1025 мегабайт в этом месяце, с него возьмут плату за 2 гигабайта.\n",
    "\n",
    "Фрейм со звонками пользователей содержит 202607 записи (наблюдений) в категории звонки абонетов, сгруппированные по четерем признакам: уникальный номер записи, дата и продолжительность звонка (в том числе округленная, согласно условиям тарифа), уникальный номер абонента.\n",
    "\n",
    "Файл со сведениями по интернет-трафику содержит информацию о количестве переданных по-средствам сети Internet данных. Всего 149396 записей (наблюдений) сгруппированных по пяти признакам: уникальный номер записи, количество использованных MB траффика, дата сессии, уникальный идентификатор пользователя, количество использованных GB траффика.\n",
    "\n",
    "Файл с информацией о сообщениях пользователей содержит 123036 записи (наблюдения) содержание сведения об уникальном номере записи, дате отправке сообщения и уникальном идентификаторе абонента.\n",
    "\n",
    "3. За анализируемый период количество звонков и продолжительность разговоров возрастают линейно на протяжении всего исследуемого отрезка времени, начиная с 1164 звонков в января и заканчивая 27385 звонками на пике в декабре; начиная с 10206 минут разговоров в январе и заканчивая 230010 минут разговоров в декабре.\n",
    "\n",
    "При этом, растет и средняя продолжительность расзговора (растояние между графиками количества звонков и продолжительности разговоров увеличиваеться ближе к концу анализируемого периода, значит продолжительноть разговоров растет быстерее, чем количество звонков, кроме того, угол графика продолжительности разговоров больше угла наклона графика количства звонков, значит скороть события, описывемого график быстрее).\n",
    "\n",
    "Аналогично статистки по звонкам, количество соообщений отправленых по месячно растет линейно на протяжении всего анализируемого периода, начиная с 924 сообщений в января, заканчивая пиком в 20555 сообщений в декабре.\n",
    "\n",
    "И количество сессий и объем интернет траффика на протяжении всего анализируемого периода растут линенйно, начиная с 407732 МВ в январе, заканчивая 9133555 МВ на пике в декабре; начиная с 966 сессий в январе, заканчивая 24478 сессиями в декабре. \n",
    "\n",
    "При этом, возрастает и средняя продолжительность одной сессии (расстояние между графиками интернет-трафиика и количества сессий увеличивает, значит трафиик растет быстрее, чем число сессий).\n",
    "\n",
    "4. Средняя помесячная выручка тарифа ultra с каждого абонента, начиная с марта 2018 года стабильно превышает отметку в 2000 рублей на протяжении всего исследуемого периода с провалом в апреле 2018 года в значение 2001 рублей и пиками в июле 2018 года и декабре 2018 года в значениях 2118 рублей и 2138 рублей. Что обуславливается стоимостью тарифного плана в 1965 рублей и выхода в сверхлимитные значения по звонкам, сообщениям и интернет-траффику пользователей тарифа, таким образом, формировая дополнительную выручка от использования тарифного плана.\n",
    "\n",
    "Средняя помесячная выручка тарифа \"Смарт\" с каждого абонента стартует в январе 2018 года с отметки в 550 рублей и ростом в четыре пика в марте 2018 года (1164 рубля), июне 2018 года (1223 рублей), августе 2018 года (1320 рубля) и октябре 2018 года (1364 рубля) завершает рост отметкой 1578 рубля в декабре 2028 года. Стоимость пакета \"Смарт\" составлет 550 рублей, добавочная выручка образуеться за счет перерасхода лимитов по пакету услуг.\n",
    "\n",
    "Далее проанализиуем поведение клиентов, с целью определения оптимальных параметров тарифов по количеству минут, сообщений и интренет-траффику.\n",
    "\n",
    "Итак, помесячная выручка растет вследствии роста потребности киентов в минутах разговора, количестве сообщений и МВ траффика.\n",
    "\n",
    "5. Представленные на исследование данные о телефонных соединениях пользователей позволяют оценить общую продолжительность телефонных разговоров в месяц, количество телефонных звонков, в том числе и не состоявшиеся разговоры, в месяц и среднюю продолжительность одного разговора пользователя в месяц, а также количество отправленных сообщений и интрернет-соединения, как в единичных емкостях сессий и количеств сессий в месяц, так и сумаррно объема траффика. Все в разрезе тарифной сетки.\n",
    "\n",
    "Так, поведения клиентов разных тарифов достаточно вариативны и отличны друг от друга. Клиенты тарифных планов адоптируют выбираемые тарифы под свои потребности и за редким исключением выходят за пределы лимитов тарифов. Что было отмечено автором, при анализе выручки тарифных планов.\n",
    "\n",
    "Так, превышение лимита в 3000 мин в месяц на тарифном плане ultra не допускает ни один из представленной в выборке пользователь; на тарифном плане smart лимит в 500 мин в месяц превышает порядка 15% пользователей.\n",
    "\n",
    "Превышение лимита в 1000 сообщений в месяц на тарифном плане ultra не допускает ни один из представленной в выборке пользователь; на тарифном плане smart лимит в 50 сообщений в месяц превышает порядка 25% пользователей.\n",
    "\n",
    "Превышение лимита на 30 GB в месяц на тарифе ultra  допускают порядка 15% пользователей; на тарифе smart лимит в 15 GB в месяц превышают половина пользователей.\n",
    "\n",
    "Превышение лимитов формируют дополнительную выручку опреатора. При этом выручка тарифа ultra более стабильна на всем временном периоде анализа, а ее дополнительная часть формируется лишь малой долей пользователей за счет превышение лимита на интренет-траффик. Пользователи тарифа smart допускают превышение по всем позициям поведения клиента на всем исследуемом временном промежутке, при постоянном увелеичении пределов указанного превышения, в связи с чем выручка растет линейно.\n",
    "\n",
    "Данные обстоятельства были описаны автором в разделе анализа выручке. В данном разделе выводы дополнитлеьно подтверждают декмопозицией по составляющим частям выручки.\n",
    "\n",
    "6. В ходе Исследования проверены две гипотезы.\n",
    "\n",
    "Первая. Н0: средняя выручка пользователей тарифа \"Ультра\" равна средней выручке пользователей тарифа \"Смарт\". Н1: средняя выручка пользователей тарифа \"Ультра\" не равна средней выручке пользователей тарифа \"Смарт\".\n",
    "\n",
    "Таким образом, проверки подлежит гипотеза о равенстве средних двух генеральных совокупностей.\n",
    "\n",
    "Рассчитанное значение p-value не первышает порогового значения в 0.05, есть основания отвернуть \"нулевую\" гипотезу, т.е. есть основания считать, что средняя выручка пользователей тарифа \"Ультра\" не равна средней выручке пользователей тарифа \"Смарт\".\n",
    "\n",
    "Стоит отметить, во-первых нет возможности абсолютно точно утверждать что средняя выручка пользователей тарифа \"Ультра\" не равна средней выручке пользователей тарифа \"Смарт\", в связи недостатком данных, либо до тех пор, пока не будет доказано обратное. Представляется вожность указать лиь на то, что имеются статистически значимые различия. \n",
    "\n",
    "Во-вторых, в настоящем Исследовании не рассматриваются вопросы ошибок первого и второго рода и соответсвенно точность и мощность тестов.\n",
    "\n",
    "Пороговое значение \"альфы\", как вероятность ошибки первого рода (точность теста) будем устанавливать в текущем Проекте, как 0.05, а пороговое значение \"бета\", как вероятность ошибки второго рода и соответсвенно мощность теста, как 1-\"бета\" вообще не учитывать не будем, т.е. Исследование не ставит целью рассчитывать размер (объем) необходимой выборки и критериев точности и мощности применяемого теста.\n",
    "\n",
    "Вторая гипотеза.\n",
    "\n",
    "Н0: средняя выручка пользователей из Москвы равна средней выручке пользователей из других регионов;\n",
    "\n",
    "Н1: средняя выручка пользователей из Москвы не равна средней выручке пользователей из других регионов.\n",
    "\n",
    "\n",
    "Проверки подлежит о равенстве средних двух генеральных совокупностей.\n",
    "\n",
    "Рассчитанное значение p-value превышает заданное пороговое значение. Оснований отвергнуть НО: средняя выручка пользователей из Москвы равна средней выручке пользователей из других регионов, - нет. "
   ]
  }
 ],
 "metadata": {
  "ExecuteTimeLog": [
   {
    "duration": 1366,
    "start_time": "2022-02-07T09:31:04.942Z"
   },
   {
    "duration": 1799,
    "start_time": "2022-02-07T09:31:41.047Z"
   },
   {
    "duration": 3,
    "start_time": "2022-02-07T09:32:37.266Z"
   },
   {
    "duration": 1869,
    "start_time": "2022-02-07T09:32:37.270Z"
   },
   {
    "duration": 167,
    "start_time": "2022-02-07T09:32:49.384Z"
   },
   {
    "duration": 13,
    "start_time": "2022-02-07T09:32:59.039Z"
   },
   {
    "duration": 9,
    "start_time": "2022-02-07T09:34:28.253Z"
   },
   {
    "duration": 224,
    "start_time": "2022-02-07T09:35:17.693Z"
   },
   {
    "duration": 297,
    "start_time": "2022-02-07T09:35:28.551Z"
   },
   {
    "duration": 15,
    "start_time": "2022-02-07T09:35:28.850Z"
   },
   {
    "duration": 375,
    "start_time": "2022-02-07T09:36:33.689Z"
   },
   {
    "duration": 15,
    "start_time": "2022-02-07T09:36:34.066Z"
   },
   {
    "duration": 18,
    "start_time": "2022-02-07T09:36:52.327Z"
   },
   {
    "duration": 404,
    "start_time": "2022-02-07T09:39:52.013Z"
   },
   {
    "duration": 24,
    "start_time": "2022-02-07T09:39:52.419Z"
   },
   {
    "duration": 424,
    "start_time": "2022-02-07T09:40:39.397Z"
   },
   {
    "duration": 36,
    "start_time": "2022-02-07T09:40:50.045Z"
   },
   {
    "duration": 28,
    "start_time": "2022-02-07T09:44:26.001Z"
   },
   {
    "duration": 26,
    "start_time": "2022-02-07T09:44:56.673Z"
   },
   {
    "duration": 244,
    "start_time": "2022-02-07T09:45:41.606Z"
   },
   {
    "duration": 33,
    "start_time": "2022-02-07T09:45:48.165Z"
   },
   {
    "duration": 15,
    "start_time": "2022-02-07T09:45:58.657Z"
   },
   {
    "duration": 26,
    "start_time": "2022-02-07T09:47:24.509Z"
   },
   {
    "duration": 13,
    "start_time": "2022-02-07T09:54:35.877Z"
   },
   {
    "duration": 9,
    "start_time": "2022-02-07T09:54:36.167Z"
   },
   {
    "duration": 21,
    "start_time": "2022-02-07T09:58:45.230Z"
   },
   {
    "duration": 10,
    "start_time": "2022-02-07T10:00:14.280Z"
   },
   {
    "duration": 231,
    "start_time": "2022-02-07T10:01:13.569Z"
   },
   {
    "duration": 9,
    "start_time": "2022-02-07T10:01:14.132Z"
   },
   {
    "duration": 227,
    "start_time": "2022-02-07T10:01:29.088Z"
   },
   {
    "duration": 9,
    "start_time": "2022-02-07T10:01:42.167Z"
   },
   {
    "duration": 9,
    "start_time": "2022-02-07T10:01:43.823Z"
   },
   {
    "duration": 16,
    "start_time": "2022-02-07T10:02:04.700Z"
   },
   {
    "duration": 24,
    "start_time": "2022-02-07T10:02:37.434Z"
   },
   {
    "duration": 18,
    "start_time": "2022-02-07T10:03:15.990Z"
   },
   {
    "duration": 24,
    "start_time": "2022-02-07T10:03:29.377Z"
   },
   {
    "duration": 30,
    "start_time": "2022-02-07T10:04:17.582Z"
   },
   {
    "duration": 19,
    "start_time": "2022-02-07T10:04:18.756Z"
   },
   {
    "duration": 16,
    "start_time": "2022-02-07T10:22:45.166Z"
   },
   {
    "duration": 6352,
    "start_time": "2022-02-07T10:24:17.883Z"
   },
   {
    "duration": 19,
    "start_time": "2022-02-07T10:24:35.467Z"
   },
   {
    "duration": 5793,
    "start_time": "2022-02-07T10:24:36.264Z"
   },
   {
    "duration": 44,
    "start_time": "2022-02-07T10:25:03.050Z"
   },
   {
    "duration": 32,
    "start_time": "2022-02-07T10:25:07.915Z"
   },
   {
    "duration": 14,
    "start_time": "2022-02-07T10:25:38.231Z"
   },
   {
    "duration": 1042,
    "start_time": "2022-02-07T10:25:38.688Z"
   },
   {
    "duration": -9,
    "start_time": "2022-02-07T10:25:39.741Z"
   },
   {
    "duration": 4,
    "start_time": "2022-02-07T10:25:52.310Z"
   },
   {
    "duration": 454,
    "start_time": "2022-02-07T10:25:52.316Z"
   },
   {
    "duration": 33,
    "start_time": "2022-02-07T10:25:52.773Z"
   },
   {
    "duration": 23,
    "start_time": "2022-02-07T10:25:52.809Z"
   },
   {
    "duration": 52,
    "start_time": "2022-02-07T10:25:52.834Z"
   },
   {
    "duration": 52,
    "start_time": "2022-02-07T10:25:52.888Z"
   },
   {
    "duration": 28,
    "start_time": "2022-02-07T10:25:52.942Z"
   },
   {
    "duration": 174,
    "start_time": "2022-02-07T10:26:18.389Z"
   },
   {
    "duration": 13,
    "start_time": "2022-02-07T10:26:38.581Z"
   },
   {
    "duration": 1185,
    "start_time": "2022-02-07T10:26:39.090Z"
   },
   {
    "duration": -69,
    "start_time": "2022-02-07T10:26:40.347Z"
   },
   {
    "duration": 190,
    "start_time": "2022-02-07T10:26:43.109Z"
   },
   {
    "duration": 23,
    "start_time": "2022-02-07T10:26:53.216Z"
   },
   {
    "duration": 179,
    "start_time": "2022-02-07T10:26:53.561Z"
   },
   {
    "duration": 4,
    "start_time": "2022-02-07T10:26:59.603Z"
   },
   {
    "duration": 580,
    "start_time": "2022-02-07T10:26:59.610Z"
   },
   {
    "duration": 31,
    "start_time": "2022-02-07T10:27:00.193Z"
   },
   {
    "duration": 39,
    "start_time": "2022-02-07T10:27:00.226Z"
   },
   {
    "duration": 60,
    "start_time": "2022-02-07T10:27:00.267Z"
   },
   {
    "duration": 21,
    "start_time": "2022-02-07T10:27:00.328Z"
   },
   {
    "duration": 235,
    "start_time": "2022-02-07T10:27:00.351Z"
   },
   {
    "duration": 42,
    "start_time": "2022-02-07T10:29:05.697Z"
   },
   {
    "duration": 34,
    "start_time": "2022-02-07T10:29:06.990Z"
   },
   {
    "duration": 174,
    "start_time": "2022-02-07T10:29:11.491Z"
   },
   {
    "duration": 3,
    "start_time": "2022-02-07T10:30:51.587Z"
   },
   {
    "duration": 1157,
    "start_time": "2022-02-07T10:30:52.065Z"
   },
   {
    "duration": -28,
    "start_time": "2022-02-07T10:30:53.253Z"
   },
   {
    "duration": 4,
    "start_time": "2022-02-07T10:30:59.109Z"
   },
   {
    "duration": 471,
    "start_time": "2022-02-07T10:30:59.116Z"
   },
   {
    "duration": 41,
    "start_time": "2022-02-07T10:30:59.590Z"
   },
   {
    "duration": 39,
    "start_time": "2022-02-07T10:30:59.633Z"
   },
   {
    "duration": 95,
    "start_time": "2022-02-07T10:30:59.674Z"
   },
   {
    "duration": 4,
    "start_time": "2022-02-07T10:30:59.771Z"
   },
   {
    "duration": 77,
    "start_time": "2022-02-07T10:30:59.778Z"
   },
   {
    "duration": 20,
    "start_time": "2022-02-07T10:30:59.857Z"
   },
   {
    "duration": 232,
    "start_time": "2022-02-07T10:30:59.879Z"
   },
   {
    "duration": 76,
    "start_time": "2022-02-07T10:33:21.121Z"
   },
   {
    "duration": 3,
    "start_time": "2022-02-07T10:40:53.166Z"
   },
   {
    "duration": 1075,
    "start_time": "2022-02-07T10:41:02.555Z"
   },
   {
    "duration": 3,
    "start_time": "2022-02-07T10:41:14.661Z"
   },
   {
    "duration": 294,
    "start_time": "2022-02-07T10:41:15.233Z"
   },
   {
    "duration": 22,
    "start_time": "2022-02-07T10:41:17.579Z"
   },
   {
    "duration": 268,
    "start_time": "2022-02-07T10:41:23.007Z"
   },
   {
    "duration": 19,
    "start_time": "2022-02-07T10:55:44.196Z"
   },
   {
    "duration": 244,
    "start_time": "2022-02-07T10:58:25.820Z"
   },
   {
    "duration": 16,
    "start_time": "2022-02-07T10:58:26.511Z"
   },
   {
    "duration": 17,
    "start_time": "2022-02-07T11:01:19.394Z"
   },
   {
    "duration": 7,
    "start_time": "2022-02-07T11:01:58.707Z"
   },
   {
    "duration": 227,
    "start_time": "2022-02-07T11:03:08.481Z"
   },
   {
    "duration": 14,
    "start_time": "2022-02-07T11:03:25.485Z"
   },
   {
    "duration": 210,
    "start_time": "2022-02-07T11:03:35.812Z"
   },
   {
    "duration": 15,
    "start_time": "2022-02-07T11:03:36.747Z"
   },
   {
    "duration": 221,
    "start_time": "2022-02-07T11:04:29.715Z"
   },
   {
    "duration": 24,
    "start_time": "2022-02-07T11:04:30.252Z"
   },
   {
    "duration": 16,
    "start_time": "2022-02-07T11:17:17.922Z"
   },
   {
    "duration": 16,
    "start_time": "2022-02-07T11:17:27.241Z"
   },
   {
    "duration": 26,
    "start_time": "2022-02-07T11:18:35.461Z"
   },
   {
    "duration": 216,
    "start_time": "2022-02-07T11:21:59.037Z"
   },
   {
    "duration": 88,
    "start_time": "2022-02-07T11:23:10.800Z"
   },
   {
    "duration": 4,
    "start_time": "2022-02-07T11:23:47.678Z"
   },
   {
    "duration": 74,
    "start_time": "2022-02-07T11:24:06.128Z"
   },
   {
    "duration": 3,
    "start_time": "2022-02-07T11:24:45.801Z"
   },
   {
    "duration": 25,
    "start_time": "2022-02-07T11:24:46.937Z"
   },
   {
    "duration": 4,
    "start_time": "2022-02-07T11:25:15.803Z"
   },
   {
    "duration": 26,
    "start_time": "2022-02-07T11:25:16.933Z"
   },
   {
    "duration": 4,
    "start_time": "2022-02-07T11:26:00.376Z"
   },
   {
    "duration": 28,
    "start_time": "2022-02-07T11:26:02.024Z"
   },
   {
    "duration": 4,
    "start_time": "2022-02-07T11:26:33.242Z"
   },
   {
    "duration": 33,
    "start_time": "2022-02-07T11:26:33.595Z"
   },
   {
    "duration": 4,
    "start_time": "2022-02-07T11:26:55.792Z"
   },
   {
    "duration": 32,
    "start_time": "2022-02-07T11:26:56.460Z"
   },
   {
    "duration": 4,
    "start_time": "2022-02-07T11:27:45.502Z"
   },
   {
    "duration": 647,
    "start_time": "2022-02-07T11:27:46.009Z"
   },
   {
    "duration": 3,
    "start_time": "2022-02-07T11:27:54.995Z"
   },
   {
    "duration": 114,
    "start_time": "2022-02-07T11:27:55.368Z"
   },
   {
    "duration": 4,
    "start_time": "2022-02-07T11:28:10.882Z"
   },
   {
    "duration": 142,
    "start_time": "2022-02-07T11:28:11.311Z"
   },
   {
    "duration": 4,
    "start_time": "2022-02-07T11:28:46.016Z"
   },
   {
    "duration": 126,
    "start_time": "2022-02-07T11:28:46.536Z"
   },
   {
    "duration": 53,
    "start_time": "2022-02-07T11:34:02.417Z"
   },
   {
    "duration": 66,
    "start_time": "2022-02-07T11:39:34.878Z"
   },
   {
    "duration": 115,
    "start_time": "2022-02-07T11:39:56.481Z"
   },
   {
    "duration": 133,
    "start_time": "2022-02-07T11:40:15.932Z"
   },
   {
    "duration": 599,
    "start_time": "2022-02-07T11:40:33.851Z"
   },
   {
    "duration": 368,
    "start_time": "2022-02-07T11:40:50.475Z"
   },
   {
    "duration": 134,
    "start_time": "2022-02-07T11:41:02.264Z"
   },
   {
    "duration": 3,
    "start_time": "2022-02-07T11:42:05.146Z"
   },
   {
    "duration": 333,
    "start_time": "2022-02-07T11:42:49.109Z"
   },
   {
    "duration": 3,
    "start_time": "2022-02-07T11:43:22.437Z"
   },
   {
    "duration": 431,
    "start_time": "2022-02-07T11:43:22.443Z"
   },
   {
    "duration": 31,
    "start_time": "2022-02-07T11:43:22.876Z"
   },
   {
    "duration": 258,
    "start_time": "2022-02-07T11:43:22.910Z"
   },
   {
    "duration": 3,
    "start_time": "2022-02-07T11:43:23.170Z"
   },
   {
    "duration": 342,
    "start_time": "2022-02-07T11:43:23.175Z"
   },
   {
    "duration": 32,
    "start_time": "2022-02-07T11:43:23.487Z"
   },
   {
    "duration": 258,
    "start_time": "2022-02-07T11:44:44.260Z"
   },
   {
    "duration": 63,
    "start_time": "2022-02-07T11:45:32.762Z"
   },
   {
    "duration": 166,
    "start_time": "2022-02-07T11:46:19.802Z"
   },
   {
    "duration": 3,
    "start_time": "2022-02-07T11:47:11.266Z"
   },
   {
    "duration": 430,
    "start_time": "2022-02-07T11:47:11.271Z"
   },
   {
    "duration": 31,
    "start_time": "2022-02-07T11:47:11.703Z"
   },
   {
    "duration": 274,
    "start_time": "2022-02-07T11:47:11.736Z"
   },
   {
    "duration": 6,
    "start_time": "2022-02-07T11:47:12.012Z"
   },
   {
    "duration": 270,
    "start_time": "2022-02-07T11:47:12.020Z"
   },
   {
    "duration": 163,
    "start_time": "2022-02-07T11:47:12.293Z"
   },
   {
    "duration": 3,
    "start_time": "2022-02-07T11:48:17.990Z"
   },
   {
    "duration": 430,
    "start_time": "2022-02-07T11:48:17.995Z"
   },
   {
    "duration": 31,
    "start_time": "2022-02-07T11:48:18.427Z"
   },
   {
    "duration": 273,
    "start_time": "2022-02-07T11:48:18.460Z"
   },
   {
    "duration": 3,
    "start_time": "2022-02-07T11:48:18.735Z"
   },
   {
    "duration": 281,
    "start_time": "2022-02-07T11:48:18.740Z"
   },
   {
    "duration": 183,
    "start_time": "2022-02-07T11:48:19.023Z"
   },
   {
    "duration": 57,
    "start_time": "2022-02-07T11:56:20.602Z"
   },
   {
    "duration": 143,
    "start_time": "2022-02-07T11:57:17.297Z"
   },
   {
    "duration": 86,
    "start_time": "2022-02-07T16:34:03.809Z"
   },
   {
    "duration": 281,
    "start_time": "2022-02-07T16:39:13.550Z"
   },
   {
    "duration": 1077,
    "start_time": "2022-02-07T16:39:18.873Z"
   },
   {
    "duration": 378,
    "start_time": "2022-02-07T16:39:19.951Z"
   },
   {
    "duration": 34,
    "start_time": "2022-02-07T16:39:20.331Z"
   },
   {
    "duration": 279,
    "start_time": "2022-02-07T16:39:20.367Z"
   },
   {
    "duration": 3,
    "start_time": "2022-02-07T16:39:20.648Z"
   },
   {
    "duration": 259,
    "start_time": "2022-02-07T16:39:20.653Z"
   },
   {
    "duration": 175,
    "start_time": "2022-02-07T16:39:20.914Z"
   },
   {
    "duration": 149,
    "start_time": "2022-02-07T16:39:21.092Z"
   },
   {
    "duration": 11,
    "start_time": "2022-02-07T16:39:21.243Z"
   },
   {
    "duration": 13,
    "start_time": "2022-02-07T16:40:17.781Z"
   },
   {
    "duration": 1505,
    "start_time": "2022-02-08T08:50:56.165Z"
   },
   {
    "duration": 518,
    "start_time": "2022-02-08T08:50:57.673Z"
   },
   {
    "duration": 52,
    "start_time": "2022-02-08T08:50:58.194Z"
   },
   {
    "duration": 744,
    "start_time": "2022-02-08T08:50:58.250Z"
   },
   {
    "duration": 6,
    "start_time": "2022-02-08T08:50:58.998Z"
   },
   {
    "duration": 549,
    "start_time": "2022-02-08T08:50:59.007Z"
   },
   {
    "duration": 260,
    "start_time": "2022-02-08T08:50:59.559Z"
   },
   {
    "duration": 223,
    "start_time": "2022-02-08T08:50:59.822Z"
   },
   {
    "duration": 30,
    "start_time": "2022-02-08T08:51:00.049Z"
   },
   {
    "duration": 12,
    "start_time": "2022-02-08T08:51:11.732Z"
   },
   {
    "duration": 5,
    "start_time": "2022-02-08T08:51:53.282Z"
   },
   {
    "duration": 515,
    "start_time": "2022-02-08T08:51:53.290Z"
   },
   {
    "duration": 44,
    "start_time": "2022-02-08T08:51:53.808Z"
   },
   {
    "duration": 406,
    "start_time": "2022-02-08T08:51:53.854Z"
   },
   {
    "duration": 5,
    "start_time": "2022-02-08T08:51:54.263Z"
   },
   {
    "duration": 393,
    "start_time": "2022-02-08T08:51:54.270Z"
   },
   {
    "duration": 277,
    "start_time": "2022-02-08T08:51:54.665Z"
   },
   {
    "duration": 214,
    "start_time": "2022-02-08T08:51:54.944Z"
   },
   {
    "duration": 20,
    "start_time": "2022-02-08T08:51:55.162Z"
   },
   {
    "duration": 13,
    "start_time": "2022-02-08T08:51:55.184Z"
   },
   {
    "duration": 42,
    "start_time": "2022-02-08T08:53:59.519Z"
   },
   {
    "duration": 62,
    "start_time": "2022-02-08T09:00:04.693Z"
   },
   {
    "duration": 458,
    "start_time": "2022-02-08T09:02:31.461Z"
   },
   {
    "duration": 419,
    "start_time": "2022-02-08T09:03:54.081Z"
   },
   {
    "duration": 413,
    "start_time": "2022-02-08T09:04:15.085Z"
   },
   {
    "duration": 322,
    "start_time": "2022-02-08T09:04:57.676Z"
   },
   {
    "duration": 400,
    "start_time": "2022-02-08T09:05:23.274Z"
   },
   {
    "duration": 292,
    "start_time": "2022-02-08T09:05:33.483Z"
   },
   {
    "duration": 384,
    "start_time": "2022-02-08T09:05:49.437Z"
   },
   {
    "duration": 4,
    "start_time": "2022-02-08T09:06:30.548Z"
   },
   {
    "duration": 519,
    "start_time": "2022-02-08T09:06:30.554Z"
   },
   {
    "duration": 44,
    "start_time": "2022-02-08T09:06:31.076Z"
   },
   {
    "duration": 415,
    "start_time": "2022-02-08T09:06:31.123Z"
   },
   {
    "duration": 5,
    "start_time": "2022-02-08T09:06:31.540Z"
   },
   {
    "duration": 386,
    "start_time": "2022-02-08T09:06:31.547Z"
   },
   {
    "duration": 254,
    "start_time": "2022-02-08T09:06:31.936Z"
   },
   {
    "duration": 212,
    "start_time": "2022-02-08T09:06:32.193Z"
   },
   {
    "duration": 30,
    "start_time": "2022-02-08T09:06:32.408Z"
   },
   {
    "duration": 297,
    "start_time": "2022-02-08T09:06:32.441Z"
   },
   {
    "duration": 416,
    "start_time": "2022-02-08T09:07:20.089Z"
   },
   {
    "duration": 397,
    "start_time": "2022-02-08T09:10:21.925Z"
   },
   {
    "duration": 480,
    "start_time": "2022-02-08T09:11:27.011Z"
   },
   {
    "duration": 346,
    "start_time": "2022-02-08T09:11:54.002Z"
   },
   {
    "duration": 355,
    "start_time": "2022-02-08T09:12:14.863Z"
   },
   {
    "duration": 6951,
    "start_time": "2022-02-08T09:15:10.201Z"
   },
   {
    "duration": 480,
    "start_time": "2022-02-08T09:15:53.909Z"
   },
   {
    "duration": 414,
    "start_time": "2022-02-08T09:16:02.956Z"
   },
   {
    "duration": 422,
    "start_time": "2022-02-08T09:16:19.585Z"
   },
   {
    "duration": 440,
    "start_time": "2022-02-08T09:17:19.274Z"
   },
   {
    "duration": 738,
    "start_time": "2022-02-08T09:17:57.082Z"
   },
   {
    "duration": 717,
    "start_time": "2022-02-08T09:18:10.760Z"
   },
   {
    "duration": 4,
    "start_time": "2022-02-08T09:18:34.085Z"
   },
   {
    "duration": 508,
    "start_time": "2022-02-08T09:18:34.091Z"
   },
   {
    "duration": 45,
    "start_time": "2022-02-08T09:18:34.602Z"
   },
   {
    "duration": 557,
    "start_time": "2022-02-08T09:18:34.651Z"
   },
   {
    "duration": 5,
    "start_time": "2022-02-08T09:18:35.210Z"
   },
   {
    "duration": 429,
    "start_time": "2022-02-08T09:18:35.217Z"
   },
   {
    "duration": 249,
    "start_time": "2022-02-08T09:18:35.649Z"
   },
   {
    "duration": 221,
    "start_time": "2022-02-08T09:18:35.901Z"
   },
   {
    "duration": 21,
    "start_time": "2022-02-08T09:18:36.133Z"
   },
   {
    "duration": 746,
    "start_time": "2022-02-08T09:18:36.156Z"
   },
   {
    "duration": 450,
    "start_time": "2022-02-08T09:18:50.675Z"
   },
   {
    "duration": 518,
    "start_time": "2022-02-08T09:19:50.607Z"
   },
   {
    "duration": 512,
    "start_time": "2022-02-08T09:20:03.096Z"
   },
   {
    "duration": 11,
    "start_time": "2022-02-08T09:41:31.424Z"
   },
   {
    "duration": 417,
    "start_time": "2022-02-08T09:41:39.187Z"
   },
   {
    "duration": 431,
    "start_time": "2022-02-08T09:44:23.877Z"
   },
   {
    "duration": 416,
    "start_time": "2022-02-08T09:45:15.044Z"
   },
   {
    "duration": 442,
    "start_time": "2022-02-08T09:46:56.302Z"
   },
   {
    "duration": 105,
    "start_time": "2022-02-08T09:47:15.811Z"
   },
   {
    "duration": 435,
    "start_time": "2022-02-08T09:47:21.897Z"
   },
   {
    "duration": 13,
    "start_time": "2022-02-08T09:52:01.327Z"
   },
   {
    "duration": 643,
    "start_time": "2022-02-08T09:53:08.426Z"
   },
   {
    "duration": 561,
    "start_time": "2022-02-08T09:56:27.279Z"
   },
   {
    "duration": 419,
    "start_time": "2022-02-08T09:57:05.644Z"
   },
   {
    "duration": 418,
    "start_time": "2022-02-08T09:57:54.338Z"
   },
   {
    "duration": 413,
    "start_time": "2022-02-08T09:58:20.886Z"
   },
   {
    "duration": 500,
    "start_time": "2022-02-08T09:59:07.547Z"
   },
   {
    "duration": 324,
    "start_time": "2022-02-08T10:02:56.568Z"
   },
   {
    "duration": 427,
    "start_time": "2022-02-08T10:03:23.189Z"
   },
   {
    "duration": 516,
    "start_time": "2022-02-08T10:05:35.130Z"
   },
   {
    "duration": 643,
    "start_time": "2022-02-08T10:06:32.521Z"
   },
   {
    "duration": 4,
    "start_time": "2022-02-08T10:07:05.123Z"
   },
   {
    "duration": 503,
    "start_time": "2022-02-08T10:07:05.129Z"
   },
   {
    "duration": 47,
    "start_time": "2022-02-08T10:07:05.635Z"
   },
   {
    "duration": 460,
    "start_time": "2022-02-08T10:07:05.685Z"
   },
   {
    "duration": 5,
    "start_time": "2022-02-08T10:07:06.147Z"
   },
   {
    "duration": 392,
    "start_time": "2022-02-08T10:07:06.154Z"
   },
   {
    "duration": 252,
    "start_time": "2022-02-08T10:07:06.549Z"
   },
   {
    "duration": 212,
    "start_time": "2022-02-08T10:07:06.804Z"
   },
   {
    "duration": 28,
    "start_time": "2022-02-08T10:07:07.018Z"
   },
   {
    "duration": 544,
    "start_time": "2022-02-08T10:07:07.049Z"
   },
   {
    "duration": 133,
    "start_time": "2022-02-08T10:07:07.464Z"
   },
   {
    "duration": 130,
    "start_time": "2022-02-08T10:07:07.468Z"
   },
   {
    "duration": 433,
    "start_time": "2022-02-08T10:08:58.611Z"
   },
   {
    "duration": 415,
    "start_time": "2022-02-08T10:10:07.744Z"
   },
   {
    "duration": 509,
    "start_time": "2022-02-08T10:11:36.788Z"
   },
   {
    "duration": 455,
    "start_time": "2022-02-08T10:11:52.993Z"
   },
   {
    "duration": 8,
    "start_time": "2022-02-08T10:12:31.767Z"
   },
   {
    "duration": 525,
    "start_time": "2022-02-08T10:13:14.460Z"
   },
   {
    "duration": 457,
    "start_time": "2022-02-08T10:17:16.790Z"
   },
   {
    "duration": 417,
    "start_time": "2022-02-08T10:17:47.121Z"
   },
   {
    "duration": 23,
    "start_time": "2022-02-08T10:36:59.714Z"
   },
   {
    "duration": 7,
    "start_time": "2022-02-08T10:39:35.578Z"
   },
   {
    "duration": 22,
    "start_time": "2022-02-08T10:40:06.990Z"
   },
   {
    "duration": 37,
    "start_time": "2022-02-08T10:41:34.970Z"
   },
   {
    "duration": 12,
    "start_time": "2022-02-08T10:42:04.964Z"
   },
   {
    "duration": 37,
    "start_time": "2022-02-08T10:42:42.279Z"
   },
   {
    "duration": 412,
    "start_time": "2022-02-08T10:54:25.152Z"
   },
   {
    "duration": 12,
    "start_time": "2022-02-08T10:54:32.783Z"
   },
   {
    "duration": 37,
    "start_time": "2022-02-08T10:55:55.349Z"
   },
   {
    "duration": 59,
    "start_time": "2022-02-08T10:57:34.973Z"
   },
   {
    "duration": 97,
    "start_time": "2022-02-08T10:59:05.965Z"
   },
   {
    "duration": 37,
    "start_time": "2022-02-08T10:59:14.606Z"
   },
   {
    "duration": 37,
    "start_time": "2022-02-08T10:59:22.820Z"
   },
   {
    "duration": 37,
    "start_time": "2022-02-08T10:59:31.384Z"
   },
   {
    "duration": 341,
    "start_time": "2022-02-08T11:00:39.994Z"
   },
   {
    "duration": 446,
    "start_time": "2022-02-08T11:01:21.624Z"
   },
   {
    "duration": 434,
    "start_time": "2022-02-08T11:01:39.363Z"
   },
   {
    "duration": 427,
    "start_time": "2022-02-08T11:01:53.325Z"
   },
   {
    "duration": 64,
    "start_time": "2022-02-08T11:02:22.828Z"
   },
   {
    "duration": 13,
    "start_time": "2022-02-08T11:24:16.470Z"
   },
   {
    "duration": 4,
    "start_time": "2022-02-08T11:24:24.317Z"
   },
   {
    "duration": 500,
    "start_time": "2022-02-08T11:24:24.323Z"
   },
   {
    "duration": 43,
    "start_time": "2022-02-08T11:24:24.826Z"
   },
   {
    "duration": 417,
    "start_time": "2022-02-08T11:24:24.872Z"
   },
   {
    "duration": 5,
    "start_time": "2022-02-08T11:24:25.292Z"
   },
   {
    "duration": 385,
    "start_time": "2022-02-08T11:24:25.299Z"
   },
   {
    "duration": 339,
    "start_time": "2022-02-08T11:24:25.686Z"
   },
   {
    "duration": 211,
    "start_time": "2022-02-08T11:24:26.033Z"
   },
   {
    "duration": 20,
    "start_time": "2022-02-08T11:24:26.246Z"
   },
   {
    "duration": 445,
    "start_time": "2022-02-08T11:24:26.268Z"
   },
   {
    "duration": 537,
    "start_time": "2022-02-08T11:24:26.715Z"
   },
   {
    "duration": 433,
    "start_time": "2022-02-08T11:24:27.255Z"
   },
   {
    "duration": 12,
    "start_time": "2022-02-08T11:24:27.690Z"
   },
   {
    "duration": 55,
    "start_time": "2022-02-08T11:24:27.704Z"
   },
   {
    "duration": 79,
    "start_time": "2022-02-08T11:24:27.761Z"
   },
   {
    "duration": 3,
    "start_time": "2022-02-08T11:24:27.842Z"
   },
   {
    "duration": 37,
    "start_time": "2022-02-08T11:26:31.566Z"
   },
   {
    "duration": 94,
    "start_time": "2022-02-08T11:27:21.809Z"
   },
   {
    "duration": 16,
    "start_time": "2022-02-08T11:28:26.295Z"
   },
   {
    "duration": 391,
    "start_time": "2022-02-08T11:29:48.689Z"
   },
   {
    "duration": 99,
    "start_time": "2022-02-08T11:30:47.915Z"
   },
   {
    "duration": 11,
    "start_time": "2022-02-08T11:32:55.464Z"
   },
   {
    "duration": 121,
    "start_time": "2022-02-08T11:33:29.645Z"
   },
   {
    "duration": 374,
    "start_time": "2022-02-08T11:35:54.271Z"
   },
   {
    "duration": 181,
    "start_time": "2022-02-08T11:36:09.750Z"
   },
   {
    "duration": 96,
    "start_time": "2022-02-08T11:37:09.309Z"
   },
   {
    "duration": 97,
    "start_time": "2022-02-08T11:38:49.474Z"
   },
   {
    "duration": 94,
    "start_time": "2022-02-08T11:39:24.769Z"
   },
   {
    "duration": 357,
    "start_time": "2022-02-08T11:41:13.250Z"
   },
   {
    "duration": 398,
    "start_time": "2022-02-08T11:41:30.815Z"
   },
   {
    "duration": 520,
    "start_time": "2022-02-08T11:42:25.741Z"
   },
   {
    "duration": 105,
    "start_time": "2022-02-08T11:42:45.941Z"
   },
   {
    "duration": 98,
    "start_time": "2022-02-08T11:42:51.967Z"
   },
   {
    "duration": 14,
    "start_time": "2022-02-08T11:46:47.245Z"
   },
   {
    "duration": 275,
    "start_time": "2022-02-08T11:47:04.887Z"
   },
   {
    "duration": 12,
    "start_time": "2022-02-08T11:47:09.563Z"
   },
   {
    "duration": 14,
    "start_time": "2022-02-08T11:47:19.591Z"
   },
   {
    "duration": 99,
    "start_time": "2022-02-08T12:03:57.638Z"
   },
   {
    "duration": 722,
    "start_time": "2022-02-08T12:06:01.041Z"
   },
   {
    "duration": 392,
    "start_time": "2022-02-08T12:08:10.353Z"
   },
   {
    "duration": 1477,
    "start_time": "2022-02-08T12:08:16.144Z"
   },
   {
    "duration": 486,
    "start_time": "2022-02-08T12:08:17.624Z"
   },
   {
    "duration": 50,
    "start_time": "2022-02-08T12:08:18.114Z"
   },
   {
    "duration": 388,
    "start_time": "2022-02-08T12:08:18.167Z"
   },
   {
    "duration": 5,
    "start_time": "2022-02-08T12:08:18.557Z"
   },
   {
    "duration": 366,
    "start_time": "2022-02-08T12:08:18.564Z"
   },
   {
    "duration": 248,
    "start_time": "2022-02-08T12:08:18.933Z"
   },
   {
    "duration": 208,
    "start_time": "2022-02-08T12:08:19.184Z"
   },
   {
    "duration": 38,
    "start_time": "2022-02-08T12:08:19.394Z"
   },
   {
    "duration": 442,
    "start_time": "2022-02-08T12:08:19.435Z"
   },
   {
    "duration": 418,
    "start_time": "2022-02-08T12:08:19.879Z"
   },
   {
    "duration": 435,
    "start_time": "2022-02-08T12:08:20.300Z"
   },
   {
    "duration": 13,
    "start_time": "2022-02-08T12:08:20.737Z"
   },
   {
    "duration": 25,
    "start_time": "2022-02-08T12:08:20.752Z"
   },
   {
    "duration": 12,
    "start_time": "2022-02-08T12:08:20.779Z"
   },
   {
    "duration": 41,
    "start_time": "2022-02-08T12:08:20.793Z"
   },
   {
    "duration": 340,
    "start_time": "2022-02-08T12:08:33.826Z"
   },
   {
    "duration": 1458,
    "start_time": "2022-02-08T12:08:38.644Z"
   },
   {
    "duration": 527,
    "start_time": "2022-02-08T12:08:40.105Z"
   },
   {
    "duration": 49,
    "start_time": "2022-02-08T12:08:40.634Z"
   },
   {
    "duration": 414,
    "start_time": "2022-02-08T12:08:40.685Z"
   },
   {
    "duration": 5,
    "start_time": "2022-02-08T12:08:41.101Z"
   },
   {
    "duration": 374,
    "start_time": "2022-02-08T12:08:41.108Z"
   },
   {
    "duration": 255,
    "start_time": "2022-02-08T12:08:41.484Z"
   },
   {
    "duration": 208,
    "start_time": "2022-02-08T12:08:41.743Z"
   },
   {
    "duration": 18,
    "start_time": "2022-02-08T12:08:41.954Z"
   },
   {
    "duration": 483,
    "start_time": "2022-02-08T12:08:41.974Z"
   },
   {
    "duration": 418,
    "start_time": "2022-02-08T12:08:42.460Z"
   },
   {
    "duration": 452,
    "start_time": "2022-02-08T12:08:42.880Z"
   },
   {
    "duration": 13,
    "start_time": "2022-02-08T12:08:43.334Z"
   },
   {
    "duration": 17,
    "start_time": "2022-02-08T12:08:43.349Z"
   },
   {
    "duration": 13,
    "start_time": "2022-02-08T12:08:43.369Z"
   },
   {
    "duration": 50,
    "start_time": "2022-02-08T12:08:43.384Z"
   },
   {
    "duration": 1510,
    "start_time": "2022-02-08T12:09:09.434Z"
   },
   {
    "duration": 562,
    "start_time": "2022-02-08T12:09:10.947Z"
   },
   {
    "duration": 51,
    "start_time": "2022-02-08T12:09:11.512Z"
   },
   {
    "duration": 397,
    "start_time": "2022-02-08T12:09:11.566Z"
   },
   {
    "duration": 5,
    "start_time": "2022-02-08T12:09:11.966Z"
   },
   {
    "duration": 417,
    "start_time": "2022-02-08T12:09:11.973Z"
   },
   {
    "duration": 252,
    "start_time": "2022-02-08T12:09:12.392Z"
   },
   {
    "duration": 208,
    "start_time": "2022-02-08T12:09:12.647Z"
   },
   {
    "duration": 22,
    "start_time": "2022-02-08T12:09:12.858Z"
   },
   {
    "duration": 469,
    "start_time": "2022-02-08T12:09:12.882Z"
   },
   {
    "duration": 454,
    "start_time": "2022-02-08T12:09:13.353Z"
   },
   {
    "duration": 437,
    "start_time": "2022-02-08T12:09:13.809Z"
   },
   {
    "duration": 12,
    "start_time": "2022-02-08T12:09:14.249Z"
   },
   {
    "duration": 15,
    "start_time": "2022-02-08T12:09:14.263Z"
   },
   {
    "duration": 15,
    "start_time": "2022-02-08T12:09:14.281Z"
   },
   {
    "duration": 40,
    "start_time": "2022-02-08T12:09:14.298Z"
   },
   {
    "duration": 338,
    "start_time": "2022-02-08T12:11:20.973Z"
   },
   {
    "duration": 1494,
    "start_time": "2022-02-08T12:11:30.222Z"
   },
   {
    "duration": 491,
    "start_time": "2022-02-08T12:11:31.719Z"
   },
   {
    "duration": 50,
    "start_time": "2022-02-08T12:11:32.213Z"
   },
   {
    "duration": 399,
    "start_time": "2022-02-08T12:11:32.266Z"
   },
   {
    "duration": 5,
    "start_time": "2022-02-08T12:11:32.668Z"
   },
   {
    "duration": 377,
    "start_time": "2022-02-08T12:11:32.676Z"
   },
   {
    "duration": 246,
    "start_time": "2022-02-08T12:11:33.055Z"
   },
   {
    "duration": 203,
    "start_time": "2022-02-08T12:11:33.306Z"
   },
   {
    "duration": 33,
    "start_time": "2022-02-08T12:11:33.513Z"
   },
   {
    "duration": 447,
    "start_time": "2022-02-08T12:11:33.549Z"
   },
   {
    "duration": 519,
    "start_time": "2022-02-08T12:11:33.998Z"
   },
   {
    "duration": 531,
    "start_time": "2022-02-08T12:11:34.519Z"
   },
   {
    "duration": 12,
    "start_time": "2022-02-08T12:11:35.052Z"
   },
   {
    "duration": 16,
    "start_time": "2022-02-08T12:11:35.067Z"
   },
   {
    "duration": 14,
    "start_time": "2022-02-08T12:11:35.085Z"
   },
   {
    "duration": 14,
    "start_time": "2022-02-08T12:11:35.132Z"
   },
   {
    "duration": 447,
    "start_time": "2022-02-08T12:11:35.149Z"
   },
   {
    "duration": -29,
    "start_time": "2022-02-08T12:11:35.627Z"
   },
   {
    "duration": -35,
    "start_time": "2022-02-08T12:11:35.635Z"
   },
   {
    "duration": 327,
    "start_time": "2022-02-08T13:14:29.473Z"
   },
   {
    "duration": 1521,
    "start_time": "2022-02-08T13:14:36.201Z"
   },
   {
    "duration": 499,
    "start_time": "2022-02-08T13:14:37.725Z"
   },
   {
    "duration": 53,
    "start_time": "2022-02-08T13:14:38.228Z"
   },
   {
    "duration": 609,
    "start_time": "2022-02-08T13:14:38.284Z"
   },
   {
    "duration": 5,
    "start_time": "2022-02-08T13:14:38.896Z"
   },
   {
    "duration": 369,
    "start_time": "2022-02-08T13:14:38.903Z"
   },
   {
    "duration": 238,
    "start_time": "2022-02-08T13:14:39.275Z"
   },
   {
    "duration": 204,
    "start_time": "2022-02-08T13:14:39.517Z"
   },
   {
    "duration": 24,
    "start_time": "2022-02-08T13:14:39.724Z"
   },
   {
    "duration": 438,
    "start_time": "2022-02-08T13:14:39.750Z"
   },
   {
    "duration": 418,
    "start_time": "2022-02-08T13:14:40.190Z"
   },
   {
    "duration": 436,
    "start_time": "2022-02-08T13:14:40.610Z"
   },
   {
    "duration": 11,
    "start_time": "2022-02-08T13:14:41.049Z"
   },
   {
    "duration": 17,
    "start_time": "2022-02-08T13:14:41.062Z"
   },
   {
    "duration": 12,
    "start_time": "2022-02-08T13:14:41.081Z"
   },
   {
    "duration": 43,
    "start_time": "2022-02-08T13:14:41.095Z"
   },
   {
    "duration": 111,
    "start_time": "2022-02-08T13:14:41.140Z"
   },
   {
    "duration": 3,
    "start_time": "2022-02-08T13:14:41.253Z"
   },
   {
    "duration": 112,
    "start_time": "2022-02-08T13:14:53.583Z"
   },
   {
    "duration": 120,
    "start_time": "2022-02-08T13:15:58.761Z"
   },
   {
    "duration": 449,
    "start_time": "2022-02-08T13:48:24.431Z"
   },
   {
    "duration": 102,
    "start_time": "2022-02-08T13:50:08.890Z"
   },
   {
    "duration": 101,
    "start_time": "2022-02-08T13:50:45.705Z"
   },
   {
    "duration": 318,
    "start_time": "2022-02-08T13:50:50.360Z"
   },
   {
    "duration": 335,
    "start_time": "2022-02-08T14:37:33.405Z"
   },
   {
    "duration": 588,
    "start_time": "2022-02-08T14:51:39.144Z"
   },
   {
    "duration": 425,
    "start_time": "2022-02-08T14:52:02.377Z"
   },
   {
    "duration": 14,
    "start_time": "2022-02-08T14:52:38.532Z"
   },
   {
    "duration": 38,
    "start_time": "2022-02-08T14:57:19.782Z"
   },
   {
    "duration": 50,
    "start_time": "2022-02-08T14:57:50.840Z"
   },
   {
    "duration": 54,
    "start_time": "2022-02-08T14:58:00.832Z"
   },
   {
    "duration": 55,
    "start_time": "2022-02-08T14:59:47.214Z"
   },
   {
    "duration": 48,
    "start_time": "2022-02-08T15:00:59.031Z"
   },
   {
    "duration": 351,
    "start_time": "2022-02-08T15:01:17.768Z"
   },
   {
    "duration": 55,
    "start_time": "2022-02-08T15:01:44.451Z"
   },
   {
    "duration": 59,
    "start_time": "2022-02-08T15:02:03.935Z"
   },
   {
    "duration": 59,
    "start_time": "2022-02-08T15:02:36.706Z"
   },
   {
    "duration": 62,
    "start_time": "2022-02-08T15:03:39.301Z"
   },
   {
    "duration": 58,
    "start_time": "2022-02-08T15:03:43.716Z"
   },
   {
    "duration": 848,
    "start_time": "2022-02-08T15:05:27.594Z"
   },
   {
    "duration": 1134,
    "start_time": "2022-02-08T15:05:53.384Z"
   },
   {
    "duration": 1039,
    "start_time": "2022-02-08T15:07:19.213Z"
   },
   {
    "duration": 1322,
    "start_time": "2022-02-08T15:07:32.643Z"
   },
   {
    "duration": 1081,
    "start_time": "2022-02-08T15:08:18.125Z"
   },
   {
    "duration": 1035,
    "start_time": "2022-02-08T15:08:39.347Z"
   },
   {
    "duration": 1223,
    "start_time": "2022-02-08T15:08:45.525Z"
   },
   {
    "duration": 15,
    "start_time": "2022-02-08T15:12:40.775Z"
   },
   {
    "duration": 984,
    "start_time": "2022-02-08T15:26:09.453Z"
   },
   {
    "duration": 1009,
    "start_time": "2022-02-08T15:27:25.904Z"
   },
   {
    "duration": 1122,
    "start_time": "2022-02-08T15:28:17.010Z"
   },
   {
    "duration": 14,
    "start_time": "2022-02-08T15:28:57.423Z"
   },
   {
    "duration": 2039,
    "start_time": "2022-02-08T15:34:24.386Z"
   },
   {
    "duration": 2780,
    "start_time": "2022-02-08T15:34:57.243Z"
   },
   {
    "duration": 2157,
    "start_time": "2022-02-08T15:36:08.127Z"
   },
   {
    "duration": 2193,
    "start_time": "2022-02-08T15:36:27.171Z"
   },
   {
    "duration": 2079,
    "start_time": "2022-02-08T15:37:47.100Z"
   },
   {
    "duration": 2025,
    "start_time": "2022-02-08T15:39:17.749Z"
   },
   {
    "duration": 2298,
    "start_time": "2022-02-08T15:43:31.725Z"
   },
   {
    "duration": 3070,
    "start_time": "2022-02-08T15:47:03.989Z"
   },
   {
    "duration": 3204,
    "start_time": "2022-02-08T15:49:05.215Z"
   },
   {
    "duration": 3086,
    "start_time": "2022-02-08T15:49:34.584Z"
   },
   {
    "duration": 3174,
    "start_time": "2022-02-08T15:49:55.835Z"
   },
   {
    "duration": 990,
    "start_time": "2022-02-08T15:52:07.784Z"
   },
   {
    "duration": 49,
    "start_time": "2022-02-08T15:55:35.656Z"
   },
   {
    "duration": 51,
    "start_time": "2022-02-08T15:56:46.085Z"
   },
   {
    "duration": 3170,
    "start_time": "2022-02-08T16:09:49.856Z"
   },
   {
    "duration": 3104,
    "start_time": "2022-02-08T16:11:22.909Z"
   },
   {
    "duration": 288,
    "start_time": "2022-02-09T07:18:04.829Z"
   },
   {
    "duration": 1655,
    "start_time": "2022-02-09T07:18:10.466Z"
   },
   {
    "duration": 496,
    "start_time": "2022-02-09T07:18:12.124Z"
   },
   {
    "duration": 53,
    "start_time": "2022-02-09T07:18:26.277Z"
   },
   {
    "duration": 55,
    "start_time": "2022-02-09T07:19:56.126Z"
   },
   {
    "duration": 55,
    "start_time": "2022-02-09T07:20:16.717Z"
   },
   {
    "duration": 373,
    "start_time": "2022-02-09T07:22:37.015Z"
   },
   {
    "duration": 4,
    "start_time": "2022-02-09T07:22:42.722Z"
   },
   {
    "duration": 512,
    "start_time": "2022-02-09T07:22:42.729Z"
   },
   {
    "duration": 56,
    "start_time": "2022-02-09T07:22:43.244Z"
   },
   {
    "duration": 436,
    "start_time": "2022-02-09T07:22:43.303Z"
   },
   {
    "duration": 13,
    "start_time": "2022-02-09T07:22:43.741Z"
   },
   {
    "duration": 384,
    "start_time": "2022-02-09T07:22:43.756Z"
   },
   {
    "duration": 275,
    "start_time": "2022-02-09T07:22:44.143Z"
   },
   {
    "duration": 260,
    "start_time": "2022-02-09T07:22:44.420Z"
   },
   {
    "duration": 21,
    "start_time": "2022-02-09T07:22:44.683Z"
   },
   {
    "duration": 464,
    "start_time": "2022-02-09T07:22:50.097Z"
   },
   {
    "duration": 445,
    "start_time": "2022-02-09T07:24:16.150Z"
   },
   {
    "duration": 444,
    "start_time": "2022-02-09T07:26:03.278Z"
   },
   {
    "duration": 454,
    "start_time": "2022-02-09T07:26:17.129Z"
   },
   {
    "duration": 102,
    "start_time": "2022-02-09T07:27:21.850Z"
   },
   {
    "duration": 109,
    "start_time": "2022-02-09T07:27:34.416Z"
   },
   {
    "duration": 18,
    "start_time": "2022-02-09T07:29:45.977Z"
   },
   {
    "duration": 24,
    "start_time": "2022-02-09T07:30:02.682Z"
   },
   {
    "duration": 31,
    "start_time": "2022-02-09T07:32:30.401Z"
   },
   {
    "duration": 248,
    "start_time": "2022-02-09T07:34:23.860Z"
   },
   {
    "duration": 36,
    "start_time": "2022-02-09T07:34:46.933Z"
   },
   {
    "duration": 56,
    "start_time": "2022-02-09T07:35:34.307Z"
   },
   {
    "duration": 41,
    "start_time": "2022-02-09T07:38:17.806Z"
   },
   {
    "duration": 105,
    "start_time": "2022-02-09T07:39:04.610Z"
   },
   {
    "duration": 61,
    "start_time": "2022-02-09T07:41:19.320Z"
   },
   {
    "duration": 54,
    "start_time": "2022-02-09T07:42:38.954Z"
   },
   {
    "duration": 4,
    "start_time": "2022-02-09T07:42:58.910Z"
   },
   {
    "duration": 476,
    "start_time": "2022-02-09T07:42:58.917Z"
   },
   {
    "duration": 67,
    "start_time": "2022-02-09T07:42:59.396Z"
   },
   {
    "duration": 396,
    "start_time": "2022-02-09T07:42:59.468Z"
   },
   {
    "duration": 5,
    "start_time": "2022-02-09T07:42:59.866Z"
   },
   {
    "duration": 362,
    "start_time": "2022-02-09T07:42:59.873Z"
   },
   {
    "duration": 245,
    "start_time": "2022-02-09T07:43:00.238Z"
   },
   {
    "duration": 208,
    "start_time": "2022-02-09T07:43:00.486Z"
   },
   {
    "duration": 21,
    "start_time": "2022-02-09T07:43:00.698Z"
   },
   {
    "duration": 482,
    "start_time": "2022-02-09T07:43:00.722Z"
   },
   {
    "duration": 441,
    "start_time": "2022-02-09T07:43:01.207Z"
   },
   {
    "duration": 532,
    "start_time": "2022-02-09T07:43:01.651Z"
   },
   {
    "duration": 126,
    "start_time": "2022-02-09T07:43:02.188Z"
   },
   {
    "duration": 70,
    "start_time": "2022-02-09T07:43:02.317Z"
   },
   {
    "duration": 3408,
    "start_time": "2022-02-09T07:43:02.389Z"
   },
   {
    "duration": 1052,
    "start_time": "2022-02-09T07:43:05.800Z"
   },
   {
    "duration": 14,
    "start_time": "2022-02-09T07:43:06.856Z"
   },
   {
    "duration": 4648,
    "start_time": "2022-02-09T07:43:06.874Z"
   },
   {
    "duration": 25,
    "start_time": "2022-02-09T07:44:43.522Z"
   },
   {
    "duration": 41,
    "start_time": "2022-02-09T07:44:57.375Z"
   },
   {
    "duration": 5,
    "start_time": "2022-02-09T08:43:57.617Z"
   },
   {
    "duration": 481,
    "start_time": "2022-02-09T08:43:57.625Z"
   },
   {
    "duration": 54,
    "start_time": "2022-02-09T08:43:58.108Z"
   },
   {
    "duration": 436,
    "start_time": "2022-02-09T08:43:58.165Z"
   },
   {
    "duration": 4,
    "start_time": "2022-02-09T08:43:58.604Z"
   },
   {
    "duration": 378,
    "start_time": "2022-02-09T08:43:58.611Z"
   },
   {
    "duration": 256,
    "start_time": "2022-02-09T08:43:58.993Z"
   },
   {
    "duration": 201,
    "start_time": "2022-02-09T08:43:59.252Z"
   },
   {
    "duration": 20,
    "start_time": "2022-02-09T08:43:59.456Z"
   },
   {
    "duration": 470,
    "start_time": "2022-02-09T08:43:59.478Z"
   },
   {
    "duration": 645,
    "start_time": "2022-02-09T08:43:59.950Z"
   },
   {
    "duration": 450,
    "start_time": "2022-02-09T08:44:00.598Z"
   },
   {
    "duration": 117,
    "start_time": "2022-02-09T08:44:01.051Z"
   },
   {
    "duration": 43,
    "start_time": "2022-02-09T08:44:01.171Z"
   },
   {
    "duration": 3139,
    "start_time": "2022-02-09T08:44:01.216Z"
   },
   {
    "duration": 1002,
    "start_time": "2022-02-09T08:44:04.358Z"
   },
   {
    "duration": 15,
    "start_time": "2022-02-09T08:44:05.362Z"
   },
   {
    "duration": 3130,
    "start_time": "2022-02-09T08:44:05.379Z"
   },
   {
    "duration": 3420,
    "start_time": "2022-02-09T08:55:41.928Z"
   },
   {
    "duration": 1111,
    "start_time": "2022-02-09T08:59:10.933Z"
   },
   {
    "duration": 3036,
    "start_time": "2022-02-09T09:01:04.152Z"
   },
   {
    "duration": 3155,
    "start_time": "2022-02-09T09:07:31.548Z"
   },
   {
    "duration": 3279,
    "start_time": "2022-02-09T09:07:42.781Z"
   },
   {
    "duration": 3126,
    "start_time": "2022-02-09T09:08:13.234Z"
   },
   {
    "duration": 3,
    "start_time": "2022-02-09T09:12:20.375Z"
   },
   {
    "duration": 41,
    "start_time": "2022-02-09T09:14:17.138Z"
   },
   {
    "duration": 104,
    "start_time": "2022-02-09T09:16:14.809Z"
   },
   {
    "duration": 46,
    "start_time": "2022-02-09T09:16:30.663Z"
   },
   {
    "duration": 5,
    "start_time": "2022-02-09T09:16:41.111Z"
   },
   {
    "duration": 452,
    "start_time": "2022-02-09T09:16:41.118Z"
   },
   {
    "duration": 50,
    "start_time": "2022-02-09T09:16:41.573Z"
   },
   {
    "duration": 388,
    "start_time": "2022-02-09T09:16:41.625Z"
   },
   {
    "duration": 6,
    "start_time": "2022-02-09T09:16:42.016Z"
   },
   {
    "duration": 378,
    "start_time": "2022-02-09T09:16:42.025Z"
   },
   {
    "duration": 247,
    "start_time": "2022-02-09T09:16:42.409Z"
   },
   {
    "duration": 208,
    "start_time": "2022-02-09T09:16:42.660Z"
   },
   {
    "duration": 20,
    "start_time": "2022-02-09T09:16:42.870Z"
   },
   {
    "duration": 470,
    "start_time": "2022-02-09T09:16:42.892Z"
   },
   {
    "duration": 445,
    "start_time": "2022-02-09T09:16:43.365Z"
   },
   {
    "duration": 549,
    "start_time": "2022-02-09T09:16:43.813Z"
   },
   {
    "duration": 129,
    "start_time": "2022-02-09T09:16:44.366Z"
   },
   {
    "duration": 65,
    "start_time": "2022-02-09T09:16:44.498Z"
   },
   {
    "duration": 3193,
    "start_time": "2022-02-09T09:16:44.567Z"
   },
   {
    "duration": 1112,
    "start_time": "2022-02-09T09:16:47.764Z"
   },
   {
    "duration": 3044,
    "start_time": "2022-02-09T09:16:48.879Z"
   },
   {
    "duration": 3267,
    "start_time": "2022-02-09T09:47:25.646Z"
   },
   {
    "duration": 411,
    "start_time": "2022-02-09T11:25:30.153Z"
   },
   {
    "duration": 3758,
    "start_time": "2022-02-09T11:26:51.090Z"
   },
   {
    "duration": 3725,
    "start_time": "2022-02-09T11:27:26.805Z"
   },
   {
    "duration": 3700,
    "start_time": "2022-02-09T11:27:58.849Z"
   },
   {
    "duration": 1927,
    "start_time": "2022-02-10T08:34:29.905Z"
   },
   {
    "duration": 617,
    "start_time": "2022-02-10T08:34:31.835Z"
   },
   {
    "duration": 61,
    "start_time": "2022-02-10T08:34:32.455Z"
   },
   {
    "duration": 402,
    "start_time": "2022-02-10T08:34:32.519Z"
   },
   {
    "duration": 7,
    "start_time": "2022-02-10T08:34:32.923Z"
   },
   {
    "duration": 391,
    "start_time": "2022-02-10T08:34:32.933Z"
   },
   {
    "duration": 250,
    "start_time": "2022-02-10T08:34:33.326Z"
   },
   {
    "duration": 226,
    "start_time": "2022-02-10T08:34:33.580Z"
   },
   {
    "duration": 21,
    "start_time": "2022-02-10T08:34:33.809Z"
   },
   {
    "duration": 512,
    "start_time": "2022-02-10T08:34:33.833Z"
   },
   {
    "duration": 476,
    "start_time": "2022-02-10T08:34:34.348Z"
   },
   {
    "duration": 456,
    "start_time": "2022-02-10T08:34:34.827Z"
   },
   {
    "duration": 121,
    "start_time": "2022-02-10T08:34:35.285Z"
   },
   {
    "duration": 61,
    "start_time": "2022-02-10T08:34:35.408Z"
   },
   {
    "duration": 3459,
    "start_time": "2022-02-10T08:34:35.471Z"
   },
   {
    "duration": 1242,
    "start_time": "2022-02-10T08:34:38.933Z"
   },
   {
    "duration": 3625,
    "start_time": "2022-02-10T08:34:40.178Z"
   },
   {
    "duration": 23,
    "start_time": "2022-02-10T09:02:00.361Z"
   },
   {
    "duration": 10,
    "start_time": "2022-02-10T09:03:59.695Z"
   },
   {
    "duration": 9,
    "start_time": "2022-02-10T09:04:18.735Z"
   },
   {
    "duration": 34,
    "start_time": "2022-02-10T09:04:34.373Z"
   },
   {
    "duration": 34,
    "start_time": "2022-02-10T09:04:48.005Z"
   },
   {
    "duration": 10,
    "start_time": "2022-02-10T09:04:57.245Z"
   },
   {
    "duration": 29,
    "start_time": "2022-02-10T09:05:17.855Z"
   },
   {
    "duration": 8,
    "start_time": "2022-02-10T09:05:45.886Z"
   },
   {
    "duration": 300,
    "start_time": "2022-02-10T09:06:22.348Z"
   },
   {
    "duration": 304,
    "start_time": "2022-02-10T09:06:48.976Z"
   },
   {
    "duration": 320,
    "start_time": "2022-02-10T09:07:11.766Z"
   },
   {
    "duration": 431,
    "start_time": "2022-02-10T09:08:07.060Z"
   },
   {
    "duration": 336,
    "start_time": "2022-02-10T09:08:17.210Z"
   },
   {
    "duration": 340,
    "start_time": "2022-02-10T09:08:49.881Z"
   },
   {
    "duration": 341,
    "start_time": "2022-02-10T09:09:34.050Z"
   },
   {
    "duration": 324,
    "start_time": "2022-02-10T09:09:48.781Z"
   },
   {
    "duration": 1047,
    "start_time": "2022-02-10T09:10:11.756Z"
   },
   {
    "duration": 554,
    "start_time": "2022-02-10T09:10:23.112Z"
   },
   {
    "duration": 441,
    "start_time": "2022-02-10T09:10:32.484Z"
   },
   {
    "duration": 667,
    "start_time": "2022-02-10T09:10:57.234Z"
   },
   {
    "duration": 512,
    "start_time": "2022-02-10T09:11:04.774Z"
   },
   {
    "duration": 506,
    "start_time": "2022-02-10T09:11:31.909Z"
   },
   {
    "duration": 559,
    "start_time": "2022-02-10T09:11:52.746Z"
   },
   {
    "duration": 519,
    "start_time": "2022-02-10T09:12:22.839Z"
   },
   {
    "duration": 491,
    "start_time": "2022-02-10T09:12:34.032Z"
   },
   {
    "duration": 494,
    "start_time": "2022-02-10T09:13:44.023Z"
   },
   {
    "duration": 559,
    "start_time": "2022-02-10T09:23:32.535Z"
   },
   {
    "duration": 567,
    "start_time": "2022-02-10T09:25:03.975Z"
   },
   {
    "duration": 561,
    "start_time": "2022-02-10T09:25:23.754Z"
   },
   {
    "duration": 665,
    "start_time": "2022-02-10T09:56:07.816Z"
   },
   {
    "duration": 510,
    "start_time": "2022-02-10T09:56:45.028Z"
   },
   {
    "duration": 604,
    "start_time": "2022-02-10T09:58:30.842Z"
   },
   {
    "duration": 548,
    "start_time": "2022-02-10T09:59:00.401Z"
   },
   {
    "duration": 537,
    "start_time": "2022-02-10T10:00:17.599Z"
   },
   {
    "duration": 26,
    "start_time": "2022-02-10T10:07:21.337Z"
   },
   {
    "duration": 9,
    "start_time": "2022-02-10T10:08:30.172Z"
   },
   {
    "duration": 12,
    "start_time": "2022-02-10T10:08:42.323Z"
   },
   {
    "duration": 46,
    "start_time": "2022-02-10T10:08:56.330Z"
   },
   {
    "duration": 13,
    "start_time": "2022-02-10T10:09:08.469Z"
   },
   {
    "duration": 46,
    "start_time": "2022-02-10T10:09:15.569Z"
   },
   {
    "duration": 45,
    "start_time": "2022-02-10T10:09:29.996Z"
   },
   {
    "duration": 618,
    "start_time": "2022-02-10T10:25:57.984Z"
   },
   {
    "duration": 552,
    "start_time": "2022-02-10T10:31:09.841Z"
   },
   {
    "duration": 529,
    "start_time": "2022-02-10T10:31:31.785Z"
   },
   {
    "duration": 538,
    "start_time": "2022-02-10T10:31:46.840Z"
   },
   {
    "duration": 546,
    "start_time": "2022-02-10T10:32:56.034Z"
   },
   {
    "duration": 603,
    "start_time": "2022-02-10T11:47:45.935Z"
   },
   {
    "duration": 4,
    "start_time": "2022-02-10T11:49:26.103Z"
   },
   {
    "duration": 510,
    "start_time": "2022-02-10T11:49:26.110Z"
   },
   {
    "duration": 52,
    "start_time": "2022-02-10T11:49:26.623Z"
   },
   {
    "duration": 381,
    "start_time": "2022-02-10T11:49:26.678Z"
   },
   {
    "duration": 5,
    "start_time": "2022-02-10T11:49:27.061Z"
   },
   {
    "duration": 354,
    "start_time": "2022-02-10T11:49:27.069Z"
   },
   {
    "duration": 240,
    "start_time": "2022-02-10T11:49:27.425Z"
   },
   {
    "duration": 207,
    "start_time": "2022-02-10T11:49:27.669Z"
   },
   {
    "duration": 24,
    "start_time": "2022-02-10T11:49:27.879Z"
   },
   {
    "duration": 468,
    "start_time": "2022-02-10T11:49:27.905Z"
   },
   {
    "duration": 437,
    "start_time": "2022-02-10T11:49:28.376Z"
   },
   {
    "duration": 575,
    "start_time": "2022-02-10T11:49:28.815Z"
   },
   {
    "duration": 120,
    "start_time": "2022-02-10T11:49:29.393Z"
   },
   {
    "duration": 59,
    "start_time": "2022-02-10T11:49:29.516Z"
   },
   {
    "duration": 3045,
    "start_time": "2022-02-10T11:49:29.577Z"
   },
   {
    "duration": 1164,
    "start_time": "2022-02-10T11:49:32.624Z"
   },
   {
    "duration": 3789,
    "start_time": "2022-02-10T11:49:33.791Z"
   },
   {
    "duration": 554,
    "start_time": "2022-02-10T11:49:37.583Z"
   },
   {
    "duration": 551,
    "start_time": "2022-02-10T11:49:38.140Z"
   },
   {
    "duration": 62,
    "start_time": "2022-02-10T13:44:50.065Z"
   },
   {
    "duration": 306,
    "start_time": "2022-02-10T13:45:05.756Z"
   },
   {
    "duration": 794,
    "start_time": "2022-02-10T13:45:16.380Z"
   },
   {
    "duration": 336,
    "start_time": "2022-02-10T13:45:35.817Z"
   },
   {
    "duration": 68,
    "start_time": "2022-02-10T13:45:59.510Z"
   },
   {
    "duration": 503,
    "start_time": "2022-02-10T13:48:22.446Z"
   },
   {
    "duration": 71,
    "start_time": "2022-02-10T13:48:29.545Z"
   },
   {
    "duration": 377,
    "start_time": "2022-02-10T13:48:40.716Z"
   },
   {
    "duration": 69,
    "start_time": "2022-02-10T13:49:00.639Z"
   },
   {
    "duration": 64,
    "start_time": "2022-02-10T13:50:00.737Z"
   },
   {
    "duration": 71,
    "start_time": "2022-02-10T13:50:17.537Z"
   },
   {
    "duration": 8,
    "start_time": "2022-02-10T13:51:12.396Z"
   },
   {
    "duration": 109,
    "start_time": "2022-02-10T13:51:23.484Z"
   },
   {
    "duration": 420,
    "start_time": "2022-02-10T13:51:57.260Z"
   },
   {
    "duration": 487,
    "start_time": "2022-02-10T13:52:35.313Z"
   },
   {
    "duration": 450,
    "start_time": "2022-02-10T13:54:33.099Z"
   },
   {
    "duration": 4,
    "start_time": "2022-02-10T14:20:19.084Z"
   },
   {
    "duration": 569,
    "start_time": "2022-02-10T14:20:19.091Z"
   },
   {
    "duration": 97,
    "start_time": "2022-02-10T14:20:19.664Z"
   },
   {
    "duration": 669,
    "start_time": "2022-02-10T14:20:19.765Z"
   },
   {
    "duration": 7,
    "start_time": "2022-02-10T14:20:20.437Z"
   },
   {
    "duration": 411,
    "start_time": "2022-02-10T14:20:20.459Z"
   },
   {
    "duration": 263,
    "start_time": "2022-02-10T14:20:20.872Z"
   },
   {
    "duration": 286,
    "start_time": "2022-02-10T14:20:21.140Z"
   },
   {
    "duration": 35,
    "start_time": "2022-02-10T14:20:21.429Z"
   },
   {
    "duration": 712,
    "start_time": "2022-02-10T14:20:21.468Z"
   },
   {
    "duration": 708,
    "start_time": "2022-02-10T14:20:22.184Z"
   },
   {
    "duration": 469,
    "start_time": "2022-02-10T14:20:22.895Z"
   },
   {
    "duration": 127,
    "start_time": "2022-02-10T14:20:23.367Z"
   },
   {
    "duration": 501,
    "start_time": "2022-02-10T14:20:23.497Z"
   },
   {
    "duration": 3412,
    "start_time": "2022-02-10T14:20:24.002Z"
   },
   {
    "duration": 1124,
    "start_time": "2022-02-10T14:20:27.417Z"
   },
   {
    "duration": 5043,
    "start_time": "2022-02-10T14:20:28.544Z"
   },
   {
    "duration": 584,
    "start_time": "2022-02-10T14:20:33.589Z"
   },
   {
    "duration": 606,
    "start_time": "2022-02-10T14:20:34.177Z"
   },
   {
    "duration": 1181,
    "start_time": "2022-02-16T14:03:22.724Z"
   },
   {
    "duration": 458,
    "start_time": "2022-02-16T14:03:23.907Z"
   },
   {
    "duration": 40,
    "start_time": "2022-02-16T14:03:24.367Z"
   },
   {
    "duration": 310,
    "start_time": "2022-02-16T14:03:24.409Z"
   },
   {
    "duration": 3,
    "start_time": "2022-02-16T14:03:24.721Z"
   },
   {
    "duration": 304,
    "start_time": "2022-02-16T14:03:24.727Z"
   },
   {
    "duration": 187,
    "start_time": "2022-02-16T14:03:25.033Z"
   },
   {
    "duration": 173,
    "start_time": "2022-02-16T14:03:25.222Z"
   },
   {
    "duration": 15,
    "start_time": "2022-02-16T14:03:25.399Z"
   },
   {
    "duration": 360,
    "start_time": "2022-02-16T14:03:25.417Z"
   },
   {
    "duration": 332,
    "start_time": "2022-02-16T14:03:25.779Z"
   },
   {
    "duration": 353,
    "start_time": "2022-02-16T14:03:26.113Z"
   },
   {
    "duration": 100,
    "start_time": "2022-02-16T14:03:26.470Z"
   },
   {
    "duration": 376,
    "start_time": "2022-02-16T14:03:26.572Z"
   },
   {
    "duration": 2319,
    "start_time": "2022-02-16T14:03:26.950Z"
   },
   {
    "duration": 782,
    "start_time": "2022-02-16T14:03:29.271Z"
   },
   {
    "duration": 2620,
    "start_time": "2022-02-16T14:03:30.055Z"
   },
   {
    "duration": 395,
    "start_time": "2022-02-16T14:03:32.677Z"
   },
   {
    "duration": 410,
    "start_time": "2022-02-16T14:03:33.074Z"
   },
   {
    "duration": 31,
    "start_time": "2022-02-16T14:07:11.414Z"
   },
   {
    "duration": 31,
    "start_time": "2022-02-16T14:08:29.603Z"
   },
   {
    "duration": 130,
    "start_time": "2022-02-17T07:55:01.223Z"
   },
   {
    "duration": 90,
    "start_time": "2022-02-17T07:55:32.609Z"
   },
   {
    "duration": 112,
    "start_time": "2022-02-17T07:56:12.075Z"
   },
   {
    "duration": 95,
    "start_time": "2022-02-17T07:56:37.024Z"
   },
   {
    "duration": 379,
    "start_time": "2022-02-17T08:16:36.660Z"
   },
   {
    "duration": 1427,
    "start_time": "2022-02-17T08:16:45.770Z"
   },
   {
    "duration": 481,
    "start_time": "2022-02-17T08:16:47.200Z"
   },
   {
    "duration": 63,
    "start_time": "2022-02-17T08:16:47.685Z"
   },
   {
    "duration": 403,
    "start_time": "2022-02-17T08:16:47.752Z"
   },
   {
    "duration": 6,
    "start_time": "2022-02-17T08:16:48.158Z"
   },
   {
    "duration": 377,
    "start_time": "2022-02-17T08:16:48.166Z"
   },
   {
    "duration": 247,
    "start_time": "2022-02-17T08:16:48.545Z"
   },
   {
    "duration": 194,
    "start_time": "2022-02-17T08:16:48.795Z"
   },
   {
    "duration": 19,
    "start_time": "2022-02-17T08:16:48.992Z"
   },
   {
    "duration": 18,
    "start_time": "2022-02-17T08:16:49.032Z"
   },
   {
    "duration": 352,
    "start_time": "2022-02-17T08:17:02.754Z"
   },
   {
    "duration": 18,
    "start_time": "2022-02-17T08:17:28.036Z"
   },
   {
    "duration": 310,
    "start_time": "2022-02-17T08:17:53.498Z"
   },
   {
    "duration": 16,
    "start_time": "2022-02-17T08:18:59.917Z"
   },
   {
    "duration": 317,
    "start_time": "2022-02-17T08:20:01.883Z"
   },
   {
    "duration": 18,
    "start_time": "2022-02-17T08:20:20.794Z"
   },
   {
    "duration": 13,
    "start_time": "2022-02-17T08:20:36.385Z"
   },
   {
    "duration": 13,
    "start_time": "2022-02-17T08:20:46.933Z"
   },
   {
    "duration": 300,
    "start_time": "2022-02-17T08:22:32.741Z"
   },
   {
    "duration": 320,
    "start_time": "2022-02-17T08:23:18.634Z"
   },
   {
    "duration": 25,
    "start_time": "2022-02-17T08:23:50.941Z"
   },
   {
    "duration": 678,
    "start_time": "2022-02-17T08:29:28.978Z"
   },
   {
    "duration": 615,
    "start_time": "2022-02-17T08:29:49.646Z"
   },
   {
    "duration": 877,
    "start_time": "2022-02-17T08:33:14.340Z"
   },
   {
    "duration": 596,
    "start_time": "2022-02-17T08:33:27.484Z"
   },
   {
    "duration": 637,
    "start_time": "2022-02-17T08:33:58.421Z"
   },
   {
    "duration": 840,
    "start_time": "2022-02-17T08:35:01.708Z"
   },
   {
    "duration": 640,
    "start_time": "2022-02-17T08:35:42.292Z"
   },
   {
    "duration": 689,
    "start_time": "2022-02-17T08:37:35.896Z"
   },
   {
    "duration": 643,
    "start_time": "2022-02-17T08:43:02.451Z"
   },
   {
    "duration": 440,
    "start_time": "2022-02-17T08:48:39.210Z"
   },
   {
    "duration": 425,
    "start_time": "2022-02-17T08:48:49.434Z"
   },
   {
    "duration": 4,
    "start_time": "2022-02-17T08:50:29.780Z"
   },
   {
    "duration": 507,
    "start_time": "2022-02-17T08:50:29.787Z"
   },
   {
    "duration": 54,
    "start_time": "2022-02-17T08:50:30.298Z"
   },
   {
    "duration": 130,
    "start_time": "2022-02-17T08:50:30.355Z"
   },
   {
    "duration": 5,
    "start_time": "2022-02-17T08:50:30.488Z"
   },
   {
    "duration": 427,
    "start_time": "2022-02-17T08:50:30.495Z"
   },
   {
    "duration": 254,
    "start_time": "2022-02-17T08:50:30.925Z"
   },
   {
    "duration": 211,
    "start_time": "2022-02-17T08:50:31.181Z"
   },
   {
    "duration": 37,
    "start_time": "2022-02-17T08:50:31.395Z"
   },
   {
    "duration": 645,
    "start_time": "2022-02-17T08:50:31.435Z"
   },
   {
    "duration": 755,
    "start_time": "2022-02-17T08:50:32.082Z"
   },
   {
    "duration": 451,
    "start_time": "2022-02-17T08:50:32.839Z"
   },
   {
    "duration": 424,
    "start_time": "2022-02-17T08:50:33.293Z"
   },
   {
    "duration": 426,
    "start_time": "2022-02-17T08:50:49.206Z"
   },
   {
    "duration": 408,
    "start_time": "2022-02-17T08:54:08.793Z"
   },
   {
    "duration": 350,
    "start_time": "2022-02-17T08:54:28.054Z"
   },
   {
    "duration": 441,
    "start_time": "2022-02-17T08:54:40.492Z"
   },
   {
    "duration": 448,
    "start_time": "2022-02-17T08:56:23.312Z"
   },
   {
    "duration": 699,
    "start_time": "2022-02-17T08:58:12.244Z"
   },
   {
    "duration": 722,
    "start_time": "2022-02-17T08:59:05.638Z"
   },
   {
    "duration": 23,
    "start_time": "2022-02-17T09:45:26.705Z"
   },
   {
    "duration": 308,
    "start_time": "2022-02-17T09:46:09.658Z"
   },
   {
    "duration": 15,
    "start_time": "2022-02-17T09:46:20.007Z"
   },
   {
    "duration": 290,
    "start_time": "2022-02-17T10:05:37.002Z"
   },
   {
    "duration": 97,
    "start_time": "2022-02-17T10:07:45.041Z"
   },
   {
    "duration": 230,
    "start_time": "2022-02-17T10:14:38.703Z"
   },
   {
    "duration": 384,
    "start_time": "2022-02-17T10:15:28.008Z"
   },
   {
    "duration": 4,
    "start_time": "2022-02-17T10:15:42.949Z"
   },
   {
    "duration": 510,
    "start_time": "2022-02-17T10:15:42.956Z"
   },
   {
    "duration": 51,
    "start_time": "2022-02-17T10:15:43.469Z"
   },
   {
    "duration": 126,
    "start_time": "2022-02-17T10:15:43.523Z"
   },
   {
    "duration": 6,
    "start_time": "2022-02-17T10:15:43.651Z"
   },
   {
    "duration": 388,
    "start_time": "2022-02-17T10:15:43.660Z"
   },
   {
    "duration": 273,
    "start_time": "2022-02-17T10:15:44.053Z"
   },
   {
    "duration": 212,
    "start_time": "2022-02-17T10:15:44.329Z"
   },
   {
    "duration": 21,
    "start_time": "2022-02-17T10:15:44.544Z"
   },
   {
    "duration": 725,
    "start_time": "2022-02-17T10:15:44.568Z"
   },
   {
    "duration": 892,
    "start_time": "2022-02-17T10:15:45.296Z"
   },
   {
    "duration": 497,
    "start_time": "2022-02-17T10:15:46.190Z"
   },
   {
    "duration": 458,
    "start_time": "2022-02-17T10:15:46.694Z"
   },
   {
    "duration": 760,
    "start_time": "2022-02-17T10:15:47.155Z"
   },
   {
    "duration": 22,
    "start_time": "2022-02-17T10:15:47.917Z"
   },
   {
    "duration": 266,
    "start_time": "2022-02-17T10:15:47.943Z"
   },
   {
    "duration": 393,
    "start_time": "2022-02-17T10:15:48.212Z"
   },
   {
    "duration": 114,
    "start_time": "2022-02-17T10:18:06.693Z"
   },
   {
    "duration": 466,
    "start_time": "2022-02-17T10:18:16.883Z"
   },
   {
    "duration": 108,
    "start_time": "2022-02-17T10:20:03.715Z"
   },
   {
    "duration": 118,
    "start_time": "2022-02-17T10:21:35.441Z"
   },
   {
    "duration": 495,
    "start_time": "2022-02-17T10:21:41.459Z"
   },
   {
    "duration": 666,
    "start_time": "2022-02-17T10:25:35.439Z"
   },
   {
    "duration": 7282,
    "start_time": "2022-02-17T10:30:46.216Z"
   },
   {
    "duration": 22,
    "start_time": "2022-02-17T10:31:07.250Z"
   },
   {
    "duration": 269,
    "start_time": "2022-02-17T10:32:20.979Z"
   },
   {
    "duration": 12,
    "start_time": "2022-02-17T10:32:25.445Z"
   },
   {
    "duration": 26,
    "start_time": "2022-02-17T10:32:41.785Z"
   },
   {
    "duration": 6989,
    "start_time": "2022-02-17T10:33:35.027Z"
   },
   {
    "duration": 7008,
    "start_time": "2022-02-17T10:33:47.693Z"
   },
   {
    "duration": 1536,
    "start_time": "2022-02-17T10:34:37.661Z"
   },
   {
    "duration": 522,
    "start_time": "2022-02-17T10:34:39.200Z"
   },
   {
    "duration": 68,
    "start_time": "2022-02-17T10:34:39.725Z"
   },
   {
    "duration": 137,
    "start_time": "2022-02-17T10:34:39.797Z"
   },
   {
    "duration": 5,
    "start_time": "2022-02-17T10:34:39.936Z"
   },
   {
    "duration": 419,
    "start_time": "2022-02-17T10:34:39.944Z"
   },
   {
    "duration": 257,
    "start_time": "2022-02-17T10:34:40.365Z"
   },
   {
    "duration": 214,
    "start_time": "2022-02-17T10:34:40.626Z"
   },
   {
    "duration": 18,
    "start_time": "2022-02-17T10:34:40.843Z"
   },
   {
    "duration": 683,
    "start_time": "2022-02-17T10:34:40.863Z"
   },
   {
    "duration": 668,
    "start_time": "2022-02-17T10:34:41.548Z"
   },
   {
    "duration": 468,
    "start_time": "2022-02-17T10:34:42.219Z"
   },
   {
    "duration": 436,
    "start_time": "2022-02-17T10:34:42.694Z"
   },
   {
    "duration": 818,
    "start_time": "2022-02-17T10:34:43.133Z"
   },
   {
    "duration": 13,
    "start_time": "2022-02-17T10:34:43.953Z"
   },
   {
    "duration": 162,
    "start_time": "2022-02-17T10:34:43.969Z"
   },
   {
    "duration": 495,
    "start_time": "2022-02-17T10:34:44.134Z"
   },
   {
    "duration": 7304,
    "start_time": "2022-02-17T10:34:44.632Z"
   },
   {
    "duration": -216,
    "start_time": "2022-02-17T10:34:52.155Z"
   },
   {
    "duration": -219,
    "start_time": "2022-02-17T10:34:52.160Z"
   },
   {
    "duration": -227,
    "start_time": "2022-02-17T10:34:52.170Z"
   },
   {
    "duration": -230,
    "start_time": "2022-02-17T10:34:52.174Z"
   },
   {
    "duration": -237,
    "start_time": "2022-02-17T10:34:52.183Z"
   },
   {
    "duration": -240,
    "start_time": "2022-02-17T10:34:52.188Z"
   },
   {
    "duration": -247,
    "start_time": "2022-02-17T10:34:52.197Z"
   },
   {
    "duration": 25,
    "start_time": "2022-02-17T10:35:48.336Z"
   },
   {
    "duration": 31,
    "start_time": "2022-02-17T10:36:02.910Z"
   },
   {
    "duration": 7306,
    "start_time": "2022-02-17T10:39:18.032Z"
   },
   {
    "duration": 112,
    "start_time": "2022-02-17T10:40:08.464Z"
   },
   {
    "duration": 63,
    "start_time": "2022-02-17T10:40:34.042Z"
   },
   {
    "duration": 7985,
    "start_time": "2022-02-17T10:42:10.015Z"
   },
   {
    "duration": 7558,
    "start_time": "2022-02-17T10:42:59.320Z"
   },
   {
    "duration": 49,
    "start_time": "2022-02-17T10:43:21.945Z"
   },
   {
    "duration": 67,
    "start_time": "2022-02-17T10:43:23.263Z"
   },
   {
    "duration": 7133,
    "start_time": "2022-02-17T10:49:14.230Z"
   },
   {
    "duration": 3514,
    "start_time": "2022-02-17T10:56:17.368Z"
   },
   {
    "duration": 6943,
    "start_time": "2022-02-17T11:05:39.811Z"
   },
   {
    "duration": 6887,
    "start_time": "2022-02-17T11:07:10.165Z"
   },
   {
    "duration": 7177,
    "start_time": "2022-02-17T11:07:39.481Z"
   },
   {
    "duration": 150,
    "start_time": "2022-02-17T11:08:10.897Z"
   },
   {
    "duration": 4,
    "start_time": "2022-02-17T11:08:35.928Z"
   },
   {
    "duration": 512,
    "start_time": "2022-02-17T11:08:35.934Z"
   },
   {
    "duration": 51,
    "start_time": "2022-02-17T11:08:36.449Z"
   },
   {
    "duration": 118,
    "start_time": "2022-02-17T11:08:36.502Z"
   },
   {
    "duration": 5,
    "start_time": "2022-02-17T11:08:36.622Z"
   },
   {
    "duration": 375,
    "start_time": "2022-02-17T11:08:36.629Z"
   },
   {
    "duration": 243,
    "start_time": "2022-02-17T11:08:37.008Z"
   },
   {
    "duration": 203,
    "start_time": "2022-02-17T11:08:37.253Z"
   },
   {
    "duration": 39,
    "start_time": "2022-02-17T11:08:37.458Z"
   },
   {
    "duration": 732,
    "start_time": "2022-02-17T11:08:37.499Z"
   },
   {
    "duration": 748,
    "start_time": "2022-02-17T11:08:38.233Z"
   },
   {
    "duration": 439,
    "start_time": "2022-02-17T11:08:38.983Z"
   },
   {
    "duration": 438,
    "start_time": "2022-02-17T11:08:39.424Z"
   },
   {
    "duration": 695,
    "start_time": "2022-02-17T11:08:39.864Z"
   },
   {
    "duration": 13,
    "start_time": "2022-02-17T11:08:40.562Z"
   },
   {
    "duration": 132,
    "start_time": "2022-02-17T11:08:40.577Z"
   },
   {
    "duration": 486,
    "start_time": "2022-02-17T11:08:40.711Z"
   },
   {
    "duration": 3328,
    "start_time": "2022-02-17T11:08:44.360Z"
   },
   {
    "duration": 42,
    "start_time": "2022-02-17T11:08:55.502Z"
   },
   {
    "duration": 4009,
    "start_time": "2022-02-17T11:16:50.859Z"
   },
   {
    "duration": 470,
    "start_time": "2022-02-17T11:18:18.706Z"
   },
   {
    "duration": 9068,
    "start_time": "2022-02-17T11:18:57.970Z"
   },
   {
    "duration": 7267,
    "start_time": "2022-02-17T11:19:29.942Z"
   },
   {
    "duration": 5,
    "start_time": "2022-02-17T11:19:44.157Z"
   },
   {
    "duration": 520,
    "start_time": "2022-02-17T11:19:44.164Z"
   },
   {
    "duration": 55,
    "start_time": "2022-02-17T11:19:44.687Z"
   },
   {
    "duration": 155,
    "start_time": "2022-02-17T11:19:44.746Z"
   },
   {
    "duration": 7,
    "start_time": "2022-02-17T11:19:44.904Z"
   },
   {
    "duration": 422,
    "start_time": "2022-02-17T11:19:44.914Z"
   },
   {
    "duration": 283,
    "start_time": "2022-02-17T11:19:45.339Z"
   },
   {
    "duration": 237,
    "start_time": "2022-02-17T11:19:45.625Z"
   },
   {
    "duration": 42,
    "start_time": "2022-02-17T11:19:45.864Z"
   },
   {
    "duration": 706,
    "start_time": "2022-02-17T11:19:45.909Z"
   },
   {
    "duration": 851,
    "start_time": "2022-02-17T11:19:46.618Z"
   },
   {
    "duration": 494,
    "start_time": "2022-02-17T11:19:47.471Z"
   },
   {
    "duration": 460,
    "start_time": "2022-02-17T11:19:47.968Z"
   },
   {
    "duration": 740,
    "start_time": "2022-02-17T11:19:48.430Z"
   },
   {
    "duration": 23,
    "start_time": "2022-02-17T11:19:49.172Z"
   },
   {
    "duration": 133,
    "start_time": "2022-02-17T11:19:49.198Z"
   },
   {
    "duration": 513,
    "start_time": "2022-02-17T11:19:49.333Z"
   },
   {
    "duration": 3296,
    "start_time": "2022-02-17T11:19:49.849Z"
   },
   {
    "duration": 3447,
    "start_time": "2022-02-17T11:19:53.149Z"
   },
   {
    "duration": 5,
    "start_time": "2022-02-17T11:23:00.409Z"
   },
   {
    "duration": 516,
    "start_time": "2022-02-17T11:23:00.416Z"
   },
   {
    "duration": 50,
    "start_time": "2022-02-17T11:23:00.935Z"
   },
   {
    "duration": 121,
    "start_time": "2022-02-17T11:23:00.994Z"
   },
   {
    "duration": 5,
    "start_time": "2022-02-17T11:23:01.117Z"
   },
   {
    "duration": 573,
    "start_time": "2022-02-17T11:23:01.125Z"
   },
   {
    "duration": 390,
    "start_time": "2022-02-17T11:23:01.703Z"
   },
   {
    "duration": 220,
    "start_time": "2022-02-17T11:23:02.097Z"
   },
   {
    "duration": 20,
    "start_time": "2022-02-17T11:23:02.320Z"
   },
   {
    "duration": 688,
    "start_time": "2022-02-17T11:23:02.343Z"
   },
   {
    "duration": 664,
    "start_time": "2022-02-17T11:23:03.034Z"
   },
   {
    "duration": 460,
    "start_time": "2022-02-17T11:23:03.701Z"
   },
   {
    "duration": 553,
    "start_time": "2022-02-17T11:23:04.163Z"
   },
   {
    "duration": 730,
    "start_time": "2022-02-17T11:23:04.719Z"
   },
   {
    "duration": 442,
    "start_time": "2022-02-17T11:23:05.452Z"
   },
   {
    "duration": 69,
    "start_time": "2022-02-17T11:23:05.828Z"
   },
   {
    "duration": 59,
    "start_time": "2022-02-17T11:23:05.839Z"
   },
   {
    "duration": 56,
    "start_time": "2022-02-17T11:23:05.844Z"
   },
   {
    "duration": 12,
    "start_time": "2022-02-17T11:24:12.775Z"
   },
   {
    "duration": 5,
    "start_time": "2022-02-17T11:25:04.894Z"
   },
   {
    "duration": 113,
    "start_time": "2022-02-17T11:25:05.560Z"
   },
   {
    "duration": 116,
    "start_time": "2022-02-17T11:25:36.314Z"
   },
   {
    "duration": 714,
    "start_time": "2022-02-17T11:25:38.310Z"
   },
   {
    "duration": 3342,
    "start_time": "2022-02-17T11:25:40.651Z"
   },
   {
    "duration": 3363,
    "start_time": "2022-02-17T11:25:43.995Z"
   },
   {
    "duration": 43,
    "start_time": "2022-02-17T11:27:18.084Z"
   },
   {
    "duration": 37,
    "start_time": "2022-02-17T11:28:28.913Z"
   },
   {
    "duration": 95,
    "start_time": "2022-02-17T11:34:42.081Z"
   },
   {
    "duration": 103,
    "start_time": "2022-02-17T11:35:36.553Z"
   },
   {
    "duration": 107,
    "start_time": "2022-02-17T11:36:28.448Z"
   },
   {
    "duration": 104,
    "start_time": "2022-02-17T11:37:34.563Z"
   },
   {
    "duration": 98,
    "start_time": "2022-02-17T11:37:48.352Z"
   },
   {
    "duration": 90,
    "start_time": "2022-02-17T11:38:04.533Z"
   },
   {
    "duration": 5,
    "start_time": "2022-02-17T11:38:19.730Z"
   },
   {
    "duration": 483,
    "start_time": "2022-02-17T11:38:19.738Z"
   },
   {
    "duration": 60,
    "start_time": "2022-02-17T11:38:20.224Z"
   },
   {
    "duration": 116,
    "start_time": "2022-02-17T11:38:20.295Z"
   },
   {
    "duration": 5,
    "start_time": "2022-02-17T11:38:20.413Z"
   },
   {
    "duration": 399,
    "start_time": "2022-02-17T11:38:20.420Z"
   },
   {
    "duration": 260,
    "start_time": "2022-02-17T11:38:20.823Z"
   },
   {
    "duration": 216,
    "start_time": "2022-02-17T11:38:21.085Z"
   },
   {
    "duration": 18,
    "start_time": "2022-02-17T11:38:21.303Z"
   },
   {
    "duration": 680,
    "start_time": "2022-02-17T11:38:21.324Z"
   },
   {
    "duration": 765,
    "start_time": "2022-02-17T11:38:22.007Z"
   },
   {
    "duration": 470,
    "start_time": "2022-02-17T11:38:22.775Z"
   },
   {
    "duration": 449,
    "start_time": "2022-02-17T11:38:23.248Z"
   },
   {
    "duration": 733,
    "start_time": "2022-02-17T11:38:23.700Z"
   },
   {
    "duration": 225,
    "start_time": "2022-02-17T11:38:24.436Z"
   },
   {
    "duration": 512,
    "start_time": "2022-02-17T11:38:24.663Z"
   },
   {
    "duration": 3346,
    "start_time": "2022-02-17T11:38:25.177Z"
   },
   {
    "duration": 3418,
    "start_time": "2022-02-17T11:38:28.526Z"
   },
   {
    "duration": 93,
    "start_time": "2022-02-17T11:38:31.947Z"
   },
   {
    "duration": 1139,
    "start_time": "2022-02-17T11:38:54.475Z"
   },
   {
    "duration": 14022,
    "start_time": "2022-02-17T12:01:27.936Z"
   },
   {
    "duration": 5,
    "start_time": "2022-02-17T12:01:55.526Z"
   },
   {
    "duration": 507,
    "start_time": "2022-02-17T12:01:55.534Z"
   },
   {
    "duration": 63,
    "start_time": "2022-02-17T12:01:56.045Z"
   },
   {
    "duration": 126,
    "start_time": "2022-02-17T12:01:56.111Z"
   },
   {
    "duration": 6,
    "start_time": "2022-02-17T12:01:56.240Z"
   },
   {
    "duration": 413,
    "start_time": "2022-02-17T12:01:56.250Z"
   },
   {
    "duration": 308,
    "start_time": "2022-02-17T12:01:56.668Z"
   },
   {
    "duration": 231,
    "start_time": "2022-02-17T12:01:56.980Z"
   },
   {
    "duration": 22,
    "start_time": "2022-02-17T12:01:57.213Z"
   },
   {
    "duration": 847,
    "start_time": "2022-02-17T12:01:57.238Z"
   },
   {
    "duration": 770,
    "start_time": "2022-02-17T12:01:58.088Z"
   },
   {
    "duration": 645,
    "start_time": "2022-02-17T12:01:58.861Z"
   },
   {
    "duration": 464,
    "start_time": "2022-02-17T12:01:59.508Z"
   },
   {
    "duration": 756,
    "start_time": "2022-02-17T12:01:59.976Z"
   },
   {
    "duration": 350,
    "start_time": "2022-02-17T12:02:00.735Z"
   },
   {
    "duration": 551,
    "start_time": "2022-02-17T12:02:01.087Z"
   },
   {
    "duration": 3384,
    "start_time": "2022-02-17T12:02:01.641Z"
   },
   {
    "duration": 3451,
    "start_time": "2022-02-17T12:02:05.028Z"
   },
   {
    "duration": 1183,
    "start_time": "2022-02-17T12:02:12.355Z"
   },
   {
    "duration": 4,
    "start_time": "2022-02-17T12:06:48.403Z"
   },
   {
    "duration": 529,
    "start_time": "2022-02-17T12:06:48.410Z"
   },
   {
    "duration": 75,
    "start_time": "2022-02-17T12:06:48.943Z"
   },
   {
    "duration": 134,
    "start_time": "2022-02-17T12:06:49.022Z"
   },
   {
    "duration": 7,
    "start_time": "2022-02-17T12:06:49.159Z"
   },
   {
    "duration": 385,
    "start_time": "2022-02-17T12:06:49.168Z"
   },
   {
    "duration": 245,
    "start_time": "2022-02-17T12:06:49.556Z"
   },
   {
    "duration": 219,
    "start_time": "2022-02-17T12:06:49.805Z"
   },
   {
    "duration": 21,
    "start_time": "2022-02-17T12:06:50.026Z"
   },
   {
    "duration": 771,
    "start_time": "2022-02-17T12:06:50.050Z"
   },
   {
    "duration": 711,
    "start_time": "2022-02-17T12:06:50.825Z"
   },
   {
    "duration": 503,
    "start_time": "2022-02-17T12:06:51.540Z"
   },
   {
    "duration": 471,
    "start_time": "2022-02-17T12:06:52.045Z"
   },
   {
    "duration": 753,
    "start_time": "2022-02-17T12:06:52.519Z"
   },
   {
    "duration": 223,
    "start_time": "2022-02-17T12:06:53.275Z"
   },
   {
    "duration": 499,
    "start_time": "2022-02-17T12:06:53.500Z"
   },
   {
    "duration": 3251,
    "start_time": "2022-02-17T12:06:54.001Z"
   },
   {
    "duration": 3218,
    "start_time": "2022-02-17T12:06:57.255Z"
   },
   {
    "duration": 1122,
    "start_time": "2022-02-17T12:07:00.477Z"
   },
   {
    "duration": 1052,
    "start_time": "2022-02-17T12:07:01.602Z"
   },
   {
    "duration": 36,
    "start_time": "2022-02-17T12:09:28.126Z"
   },
   {
    "duration": 826,
    "start_time": "2022-02-17T12:09:34.732Z"
   },
   {
    "duration": 308,
    "start_time": "2022-02-17T12:10:00.675Z"
   },
   {
    "duration": 643,
    "start_time": "2022-02-17T12:10:51.916Z"
   },
   {
    "duration": 808,
    "start_time": "2022-02-17T12:13:56.934Z"
   },
   {
    "duration": 5,
    "start_time": "2022-02-17T12:15:45.349Z"
   },
   {
    "duration": 514,
    "start_time": "2022-02-17T12:15:45.357Z"
   },
   {
    "duration": 64,
    "start_time": "2022-02-17T12:15:45.875Z"
   },
   {
    "duration": 143,
    "start_time": "2022-02-17T12:15:45.942Z"
   },
   {
    "duration": 9,
    "start_time": "2022-02-17T12:15:46.088Z"
   },
   {
    "duration": 405,
    "start_time": "2022-02-17T12:15:46.099Z"
   },
   {
    "duration": 255,
    "start_time": "2022-02-17T12:15:46.508Z"
   },
   {
    "duration": 212,
    "start_time": "2022-02-17T12:15:46.766Z"
   },
   {
    "duration": 29,
    "start_time": "2022-02-17T12:15:46.981Z"
   },
   {
    "duration": 686,
    "start_time": "2022-02-17T12:15:47.013Z"
   },
   {
    "duration": 655,
    "start_time": "2022-02-17T12:15:47.702Z"
   },
   {
    "duration": 713,
    "start_time": "2022-02-17T12:15:48.360Z"
   },
   {
    "duration": 668,
    "start_time": "2022-02-17T12:15:49.075Z"
   },
   {
    "duration": 509,
    "start_time": "2022-02-17T12:15:49.747Z"
   },
   {
    "duration": 642,
    "start_time": "2022-02-17T12:15:50.258Z"
   },
   {
    "duration": 860,
    "start_time": "2022-02-17T12:15:50.904Z"
   },
   {
    "duration": 146,
    "start_time": "2022-02-17T12:15:51.767Z"
   },
   {
    "duration": 521,
    "start_time": "2022-02-17T12:15:51.915Z"
   },
   {
    "duration": 3389,
    "start_time": "2022-02-17T12:15:52.443Z"
   },
   {
    "duration": 3566,
    "start_time": "2022-02-17T12:15:55.835Z"
   },
   {
    "duration": 1161,
    "start_time": "2022-02-17T12:15:59.404Z"
   },
   {
    "duration": 1243,
    "start_time": "2022-02-17T12:16:00.567Z"
   },
   {
    "duration": 27,
    "start_time": "2022-02-17T12:18:32.766Z"
   },
   {
    "duration": 45,
    "start_time": "2022-02-17T12:19:25.359Z"
   },
   {
    "duration": 44,
    "start_time": "2022-02-17T12:27:35.231Z"
   },
   {
    "duration": 57,
    "start_time": "2022-02-17T12:27:49.197Z"
   },
   {
    "duration": 451,
    "start_time": "2022-02-17T12:29:38.081Z"
   },
   {
    "duration": 38,
    "start_time": "2022-02-17T12:36:37.817Z"
   },
   {
    "duration": 57,
    "start_time": "2022-02-17T12:36:46.589Z"
   },
   {
    "duration": 5,
    "start_time": "2022-02-17T12:41:55.016Z"
   },
   {
    "duration": 6,
    "start_time": "2022-02-17T12:43:32.979Z"
   },
   {
    "duration": 500,
    "start_time": "2022-02-17T12:43:32.988Z"
   },
   {
    "duration": 49,
    "start_time": "2022-02-17T12:43:33.492Z"
   },
   {
    "duration": 140,
    "start_time": "2022-02-17T12:43:33.544Z"
   },
   {
    "duration": 9,
    "start_time": "2022-02-17T12:43:33.687Z"
   },
   {
    "duration": 415,
    "start_time": "2022-02-17T12:43:33.698Z"
   },
   {
    "duration": 265,
    "start_time": "2022-02-17T12:43:34.116Z"
   },
   {
    "duration": 217,
    "start_time": "2022-02-17T12:43:34.394Z"
   },
   {
    "duration": 19,
    "start_time": "2022-02-17T12:43:34.614Z"
   },
   {
    "duration": 690,
    "start_time": "2022-02-17T12:43:34.635Z"
   },
   {
    "duration": 798,
    "start_time": "2022-02-17T12:43:35.328Z"
   },
   {
    "duration": 1144,
    "start_time": "2022-02-17T12:43:36.129Z"
   },
   {
    "duration": 1036,
    "start_time": "2022-02-17T12:43:37.276Z"
   },
   {
    "duration": 477,
    "start_time": "2022-02-17T12:43:38.315Z"
   },
   {
    "duration": 455,
    "start_time": "2022-02-17T12:43:38.795Z"
   },
   {
    "duration": 483,
    "start_time": "2022-02-17T12:43:39.253Z"
   },
   {
    "duration": 136,
    "start_time": "2022-02-17T12:43:39.739Z"
   },
   {
    "duration": 520,
    "start_time": "2022-02-17T12:43:39.878Z"
   },
   {
    "duration": 3550,
    "start_time": "2022-02-17T12:43:40.401Z"
   },
   {
    "duration": 4158,
    "start_time": "2022-02-17T12:43:43.954Z"
   },
   {
    "duration": 1843,
    "start_time": "2022-02-17T12:43:48.115Z"
   },
   {
    "duration": 1090,
    "start_time": "2022-02-17T12:43:49.962Z"
   },
   {
    "duration": 4,
    "start_time": "2022-02-17T12:43:51.055Z"
   },
   {
    "duration": 4,
    "start_time": "2022-02-17T12:47:43.041Z"
   },
   {
    "duration": 510,
    "start_time": "2022-02-17T12:47:43.048Z"
   },
   {
    "duration": 50,
    "start_time": "2022-02-17T12:47:43.561Z"
   },
   {
    "duration": 123,
    "start_time": "2022-02-17T12:47:43.614Z"
   },
   {
    "duration": 5,
    "start_time": "2022-02-17T12:47:43.740Z"
   },
   {
    "duration": 507,
    "start_time": "2022-02-17T12:47:43.749Z"
   },
   {
    "duration": 400,
    "start_time": "2022-02-17T12:47:44.261Z"
   },
   {
    "duration": 231,
    "start_time": "2022-02-17T12:47:44.666Z"
   },
   {
    "duration": 22,
    "start_time": "2022-02-17T12:47:44.899Z"
   },
   {
    "duration": 808,
    "start_time": "2022-02-17T12:47:44.923Z"
   },
   {
    "duration": 666,
    "start_time": "2022-02-17T12:47:45.734Z"
   },
   {
    "duration": 672,
    "start_time": "2022-02-17T12:47:46.403Z"
   },
   {
    "duration": 798,
    "start_time": "2022-02-17T12:47:47.078Z"
   },
   {
    "duration": 479,
    "start_time": "2022-02-17T12:47:47.880Z"
   },
   {
    "duration": 460,
    "start_time": "2022-02-17T12:47:48.363Z"
   },
   {
    "duration": 469,
    "start_time": "2022-02-17T12:47:48.825Z"
   },
   {
    "duration": 131,
    "start_time": "2022-02-17T12:47:49.297Z"
   },
   {
    "duration": 519,
    "start_time": "2022-02-17T12:47:49.430Z"
   },
   {
    "duration": 4324,
    "start_time": "2022-02-17T12:47:49.953Z"
   },
   {
    "duration": 3614,
    "start_time": "2022-02-17T12:47:54.281Z"
   },
   {
    "duration": 1124,
    "start_time": "2022-02-17T12:47:57.898Z"
   },
   {
    "duration": 1683,
    "start_time": "2022-02-17T12:47:59.025Z"
   },
   {
    "duration": 5,
    "start_time": "2022-02-17T12:48:00.711Z"
   },
   {
    "duration": 76,
    "start_time": "2022-02-17T12:48:00.719Z"
   },
   {
    "duration": 78,
    "start_time": "2022-02-17T12:48:00.798Z"
   },
   {
    "duration": 54,
    "start_time": "2022-02-17T12:48:24.053Z"
   },
   {
    "duration": 128,
    "start_time": "2022-02-17T12:56:51.329Z"
   },
   {
    "duration": 7165,
    "start_time": "2022-02-17T12:57:21.549Z"
   },
   {
    "duration": 4,
    "start_time": "2022-02-17T12:57:41.281Z"
   },
   {
    "duration": 538,
    "start_time": "2022-02-17T12:57:41.288Z"
   },
   {
    "duration": 51,
    "start_time": "2022-02-17T12:57:41.829Z"
   },
   {
    "duration": 126,
    "start_time": "2022-02-17T12:57:41.895Z"
   },
   {
    "duration": 5,
    "start_time": "2022-02-17T12:57:42.024Z"
   },
   {
    "duration": 432,
    "start_time": "2022-02-17T12:57:42.031Z"
   },
   {
    "duration": 289,
    "start_time": "2022-02-17T12:57:42.466Z"
   },
   {
    "duration": 226,
    "start_time": "2022-02-17T12:57:42.758Z"
   },
   {
    "duration": 22,
    "start_time": "2022-02-17T12:57:42.994Z"
   },
   {
    "duration": 856,
    "start_time": "2022-02-17T12:57:43.019Z"
   },
   {
    "duration": 692,
    "start_time": "2022-02-17T12:57:43.877Z"
   },
   {
    "duration": 707,
    "start_time": "2022-02-17T12:57:44.572Z"
   },
   {
    "duration": 692,
    "start_time": "2022-02-17T12:57:45.293Z"
   },
   {
    "duration": 483,
    "start_time": "2022-02-17T12:57:45.994Z"
   },
   {
    "duration": 482,
    "start_time": "2022-02-17T12:57:46.481Z"
   },
   {
    "duration": 465,
    "start_time": "2022-02-17T12:57:46.966Z"
   },
   {
    "duration": 133,
    "start_time": "2022-02-17T12:57:47.433Z"
   },
   {
    "duration": 731,
    "start_time": "2022-02-17T12:57:47.568Z"
   },
   {
    "duration": 3709,
    "start_time": "2022-02-17T12:57:48.306Z"
   },
   {
    "duration": 3347,
    "start_time": "2022-02-17T12:57:52.018Z"
   },
   {
    "duration": 1667,
    "start_time": "2022-02-17T12:57:55.369Z"
   },
   {
    "duration": 1282,
    "start_time": "2022-02-17T12:57:57.039Z"
   },
   {
    "duration": 4,
    "start_time": "2022-02-17T12:57:58.324Z"
   },
   {
    "duration": 8511,
    "start_time": "2022-02-17T12:57:58.331Z"
   },
   {
    "duration": -6,
    "start_time": "2022-02-17T12:58:06.851Z"
   },
   {
    "duration": -11,
    "start_time": "2022-02-17T12:58:06.858Z"
   },
   {
    "duration": 7190,
    "start_time": "2022-02-17T12:59:12.389Z"
   },
   {
    "duration": 6,
    "start_time": "2022-02-17T13:00:22.099Z"
   },
   {
    "duration": 558,
    "start_time": "2022-02-17T13:00:22.109Z"
   },
   {
    "duration": 61,
    "start_time": "2022-02-17T13:00:22.670Z"
   },
   {
    "duration": 150,
    "start_time": "2022-02-17T13:00:22.733Z"
   },
   {
    "duration": 8,
    "start_time": "2022-02-17T13:00:22.886Z"
   },
   {
    "duration": 428,
    "start_time": "2022-02-17T13:00:22.897Z"
   },
   {
    "duration": 273,
    "start_time": "2022-02-17T13:00:23.329Z"
   },
   {
    "duration": 230,
    "start_time": "2022-02-17T13:00:23.606Z"
   },
   {
    "duration": 22,
    "start_time": "2022-02-17T13:00:23.839Z"
   },
   {
    "duration": 1044,
    "start_time": "2022-02-17T13:00:23.863Z"
   },
   {
    "duration": 1023,
    "start_time": "2022-02-17T13:00:24.910Z"
   },
   {
    "duration": 1065,
    "start_time": "2022-02-17T13:00:25.936Z"
   },
   {
    "duration": 901,
    "start_time": "2022-02-17T13:00:27.004Z"
   },
   {
    "duration": 490,
    "start_time": "2022-02-17T13:00:27.908Z"
   },
   {
    "duration": 466,
    "start_time": "2022-02-17T13:00:28.401Z"
   },
   {
    "duration": 631,
    "start_time": "2022-02-17T13:00:28.869Z"
   },
   {
    "duration": 197,
    "start_time": "2022-02-17T13:00:29.503Z"
   },
   {
    "duration": 554,
    "start_time": "2022-02-17T13:00:29.703Z"
   },
   {
    "duration": 3597,
    "start_time": "2022-02-17T13:00:30.262Z"
   },
   {
    "duration": 3281,
    "start_time": "2022-02-17T13:00:33.862Z"
   },
   {
    "duration": 1188,
    "start_time": "2022-02-17T13:00:37.146Z"
   },
   {
    "duration": 1109,
    "start_time": "2022-02-17T13:00:38.337Z"
   },
   {
    "duration": 3,
    "start_time": "2022-02-17T13:00:39.449Z"
   },
   {
    "duration": 8017,
    "start_time": "2022-02-17T13:01:02.742Z"
   },
   {
    "duration": 4,
    "start_time": "2022-02-17T13:01:56.957Z"
   },
   {
    "duration": 558,
    "start_time": "2022-02-17T13:01:56.964Z"
   },
   {
    "duration": 70,
    "start_time": "2022-02-17T13:01:57.525Z"
   },
   {
    "duration": 126,
    "start_time": "2022-02-17T13:01:57.598Z"
   },
   {
    "duration": 5,
    "start_time": "2022-02-17T13:01:57.726Z"
   },
   {
    "duration": 427,
    "start_time": "2022-02-17T13:01:57.733Z"
   },
   {
    "duration": 283,
    "start_time": "2022-02-17T13:01:58.164Z"
   },
   {
    "duration": 233,
    "start_time": "2022-02-17T13:01:58.450Z"
   },
   {
    "duration": 27,
    "start_time": "2022-02-17T13:01:58.686Z"
   },
   {
    "duration": 721,
    "start_time": "2022-02-17T13:01:58.715Z"
   },
   {
    "duration": 694,
    "start_time": "2022-02-17T13:01:59.438Z"
   },
   {
    "duration": 711,
    "start_time": "2022-02-17T13:02:00.134Z"
   },
   {
    "duration": 671,
    "start_time": "2022-02-17T13:02:00.848Z"
   },
   {
    "duration": 484,
    "start_time": "2022-02-17T13:02:01.522Z"
   },
   {
    "duration": 441,
    "start_time": "2022-02-17T13:02:02.009Z"
   },
   {
    "duration": 452,
    "start_time": "2022-02-17T13:02:02.453Z"
   },
   {
    "duration": 250,
    "start_time": "2022-02-17T13:02:02.907Z"
   },
   {
    "duration": 527,
    "start_time": "2022-02-17T13:02:03.160Z"
   },
   {
    "duration": 4,
    "start_time": "2022-02-17T13:02:45.255Z"
   },
   {
    "duration": 579,
    "start_time": "2022-02-17T13:02:45.263Z"
   },
   {
    "duration": 54,
    "start_time": "2022-02-17T13:02:45.845Z"
   },
   {
    "duration": 144,
    "start_time": "2022-02-17T13:02:45.903Z"
   },
   {
    "duration": 5,
    "start_time": "2022-02-17T13:02:46.050Z"
   },
   {
    "duration": 437,
    "start_time": "2022-02-17T13:02:46.057Z"
   },
   {
    "duration": 273,
    "start_time": "2022-02-17T13:02:46.498Z"
   },
   {
    "duration": 248,
    "start_time": "2022-02-17T13:02:46.774Z"
   },
   {
    "duration": 20,
    "start_time": "2022-02-17T13:02:47.025Z"
   },
   {
    "duration": 791,
    "start_time": "2022-02-17T13:02:47.048Z"
   },
   {
    "duration": 656,
    "start_time": "2022-02-17T13:02:47.841Z"
   },
   {
    "duration": 669,
    "start_time": "2022-02-17T13:02:48.500Z"
   },
   {
    "duration": 682,
    "start_time": "2022-02-17T13:02:49.173Z"
   },
   {
    "duration": 492,
    "start_time": "2022-02-17T13:02:49.859Z"
   },
   {
    "duration": 458,
    "start_time": "2022-02-17T13:02:50.354Z"
   },
   {
    "duration": 574,
    "start_time": "2022-02-17T13:02:50.815Z"
   },
   {
    "duration": 132,
    "start_time": "2022-02-17T13:02:51.394Z"
   },
   {
    "duration": 504,
    "start_time": "2022-02-17T13:02:51.528Z"
   },
   {
    "duration": 3363,
    "start_time": "2022-02-17T13:02:52.036Z"
   },
   {
    "duration": 3328,
    "start_time": "2022-02-17T13:02:55.401Z"
   },
   {
    "duration": 1245,
    "start_time": "2022-02-17T13:02:58.732Z"
   },
   {
    "duration": 1225,
    "start_time": "2022-02-17T13:02:59.980Z"
   },
   {
    "duration": 3,
    "start_time": "2022-02-17T13:03:01.208Z"
   },
   {
    "duration": 3779,
    "start_time": "2022-02-17T13:03:06.122Z"
   },
   {
    "duration": 8614,
    "start_time": "2022-02-17T13:03:43.244Z"
   },
   {
    "duration": 4,
    "start_time": "2022-02-17T13:04:03.099Z"
   },
   {
    "duration": 3476,
    "start_time": "2022-02-17T13:04:04.230Z"
   },
   {
    "duration": 9310,
    "start_time": "2022-02-17T13:34:18.857Z"
   },
   {
    "duration": 5,
    "start_time": "2022-02-17T13:34:37.190Z"
   },
   {
    "duration": 612,
    "start_time": "2022-02-17T13:34:37.198Z"
   },
   {
    "duration": 54,
    "start_time": "2022-02-17T13:34:37.814Z"
   },
   {
    "duration": 164,
    "start_time": "2022-02-17T13:34:37.870Z"
   },
   {
    "duration": 5,
    "start_time": "2022-02-17T13:34:38.036Z"
   },
   {
    "duration": 495,
    "start_time": "2022-02-17T13:34:38.044Z"
   },
   {
    "duration": 328,
    "start_time": "2022-02-17T13:34:38.543Z"
   },
   {
    "duration": 241,
    "start_time": "2022-02-17T13:34:38.874Z"
   },
   {
    "duration": 26,
    "start_time": "2022-02-17T13:34:39.119Z"
   },
   {
    "duration": 795,
    "start_time": "2022-02-17T13:34:39.147Z"
   },
   {
    "duration": 795,
    "start_time": "2022-02-17T13:34:39.945Z"
   },
   {
    "duration": 861,
    "start_time": "2022-02-17T13:34:40.743Z"
   },
   {
    "duration": 711,
    "start_time": "2022-02-17T13:34:41.607Z"
   },
   {
    "duration": 523,
    "start_time": "2022-02-17T13:34:42.321Z"
   },
   {
    "duration": 478,
    "start_time": "2022-02-17T13:34:42.847Z"
   },
   {
    "duration": 673,
    "start_time": "2022-02-17T13:34:43.329Z"
   },
   {
    "duration": 174,
    "start_time": "2022-02-17T13:34:44.005Z"
   },
   {
    "duration": 593,
    "start_time": "2022-02-17T13:34:44.182Z"
   },
   {
    "duration": 3775,
    "start_time": "2022-02-17T13:34:44.780Z"
   },
   {
    "duration": 3690,
    "start_time": "2022-02-17T13:34:48.557Z"
   },
   {
    "duration": 1414,
    "start_time": "2022-02-17T13:34:52.250Z"
   },
   {
    "duration": 1200,
    "start_time": "2022-02-17T13:34:53.667Z"
   },
   {
    "duration": 4,
    "start_time": "2022-02-17T13:34:54.870Z"
   },
   {
    "duration": 4208,
    "start_time": "2022-02-17T13:34:54.877Z"
   },
   {
    "duration": 9202,
    "start_time": "2022-02-17T13:34:59.095Z"
   },
   {
    "duration": 683,
    "start_time": "2022-02-17T13:38:27.532Z"
   },
   {
    "duration": 633,
    "start_time": "2022-02-17T13:39:57.827Z"
   },
   {
    "duration": 117,
    "start_time": "2022-02-17T13:43:06.955Z"
   },
   {
    "duration": 659,
    "start_time": "2022-02-17T13:43:12.774Z"
   },
   {
    "duration": 832,
    "start_time": "2022-02-17T13:43:35.399Z"
   },
   {
    "duration": 701,
    "start_time": "2022-02-17T13:44:29.314Z"
   },
   {
    "duration": 675,
    "start_time": "2022-02-17T13:44:58.715Z"
   },
   {
    "duration": 696,
    "start_time": "2022-02-17T13:45:45.371Z"
   },
   {
    "duration": 587,
    "start_time": "2022-02-17T13:53:05.710Z"
   },
   {
    "duration": 673,
    "start_time": "2022-02-17T13:53:55.698Z"
   },
   {
    "duration": 930,
    "start_time": "2022-02-17T13:54:44.463Z"
   },
   {
    "duration": 668,
    "start_time": "2022-02-17T13:54:58.912Z"
   },
   {
    "duration": 3962,
    "start_time": "2022-02-17T14:45:43.343Z"
   },
   {
    "duration": 9253,
    "start_time": "2022-02-17T17:22:31.879Z"
   },
   {
    "duration": 3342,
    "start_time": "2022-02-17T17:23:26.642Z"
   },
   {
    "duration": 591,
    "start_time": "2022-02-17T17:33:12.794Z"
   },
   {
    "duration": 5,
    "start_time": "2022-02-17T18:07:11.446Z"
   },
   {
    "duration": 575,
    "start_time": "2022-02-17T18:07:11.453Z"
   },
   {
    "duration": 51,
    "start_time": "2022-02-17T18:07:12.031Z"
   },
   {
    "duration": 131,
    "start_time": "2022-02-17T18:07:12.084Z"
   },
   {
    "duration": 5,
    "start_time": "2022-02-17T18:07:12.217Z"
   },
   {
    "duration": 431,
    "start_time": "2022-02-17T18:07:12.225Z"
   },
   {
    "duration": 410,
    "start_time": "2022-02-17T18:07:12.661Z"
   },
   {
    "duration": 263,
    "start_time": "2022-02-17T18:07:13.074Z"
   },
   {
    "duration": 29,
    "start_time": "2022-02-17T18:07:13.339Z"
   },
   {
    "duration": 1074,
    "start_time": "2022-02-17T18:07:13.370Z"
   },
   {
    "duration": 829,
    "start_time": "2022-02-17T18:07:14.447Z"
   },
   {
    "duration": 1078,
    "start_time": "2022-02-17T18:07:15.279Z"
   },
   {
    "duration": 1026,
    "start_time": "2022-02-17T18:07:16.361Z"
   },
   {
    "duration": 610,
    "start_time": "2022-02-17T18:07:17.395Z"
   },
   {
    "duration": 464,
    "start_time": "2022-02-17T18:07:18.007Z"
   },
   {
    "duration": 476,
    "start_time": "2022-02-17T18:07:18.474Z"
   },
   {
    "duration": 363,
    "start_time": "2022-02-17T18:07:18.953Z"
   },
   {
    "duration": 765,
    "start_time": "2022-02-17T18:07:19.319Z"
   },
   {
    "duration": 4123,
    "start_time": "2022-02-17T18:07:20.097Z"
   },
   {
    "duration": 3599,
    "start_time": "2022-02-17T18:07:24.224Z"
   },
   {
    "duration": 1195,
    "start_time": "2022-02-17T18:07:27.826Z"
   },
   {
    "duration": 1240,
    "start_time": "2022-02-17T18:07:29.024Z"
   },
   {
    "duration": 5,
    "start_time": "2022-02-17T18:07:30.266Z"
   },
   {
    "duration": 4494,
    "start_time": "2022-02-17T18:07:30.274Z"
   },
   {
    "duration": 3524,
    "start_time": "2022-02-17T18:07:34.771Z"
   },
   {
    "duration": 834,
    "start_time": "2022-02-17T18:07:38.298Z"
   },
   {
    "duration": 862,
    "start_time": "2022-02-17T18:07:39.135Z"
   },
   {
    "duration": 7277,
    "start_time": "2022-02-17T18:14:00.547Z"
   },
   {
    "duration": 4,
    "start_time": "2022-02-17T18:14:16.250Z"
   },
   {
    "duration": 536,
    "start_time": "2022-02-17T18:14:16.257Z"
   },
   {
    "duration": 50,
    "start_time": "2022-02-17T18:14:16.797Z"
   },
   {
    "duration": 153,
    "start_time": "2022-02-17T18:14:16.850Z"
   },
   {
    "duration": 5,
    "start_time": "2022-02-17T18:14:17.006Z"
   },
   {
    "duration": 440,
    "start_time": "2022-02-17T18:14:17.013Z"
   },
   {
    "duration": 309,
    "start_time": "2022-02-17T18:14:17.457Z"
   },
   {
    "duration": 229,
    "start_time": "2022-02-17T18:14:17.770Z"
   },
   {
    "duration": 21,
    "start_time": "2022-02-17T18:14:18.002Z"
   },
   {
    "duration": 725,
    "start_time": "2022-02-17T18:14:18.025Z"
   },
   {
    "duration": 962,
    "start_time": "2022-02-17T18:14:18.754Z"
   },
   {
    "duration": 708,
    "start_time": "2022-02-17T18:14:19.718Z"
   },
   {
    "duration": 747,
    "start_time": "2022-02-17T18:14:20.428Z"
   },
   {
    "duration": 494,
    "start_time": "2022-02-17T18:14:21.178Z"
   },
   {
    "duration": 489,
    "start_time": "2022-02-17T18:14:21.675Z"
   },
   {
    "duration": 516,
    "start_time": "2022-02-17T18:14:22.166Z"
   },
   {
    "duration": 244,
    "start_time": "2022-02-17T18:14:22.685Z"
   },
   {
    "duration": 536,
    "start_time": "2022-02-17T18:14:22.931Z"
   },
   {
    "duration": 3523,
    "start_time": "2022-02-17T18:14:23.471Z"
   },
   {
    "duration": 3874,
    "start_time": "2022-02-17T18:14:26.997Z"
   },
   {
    "duration": 1152,
    "start_time": "2022-02-17T18:14:30.874Z"
   },
   {
    "duration": 1114,
    "start_time": "2022-02-17T18:14:32.028Z"
   },
   {
    "duration": 4,
    "start_time": "2022-02-17T18:14:33.144Z"
   },
   {
    "duration": 3715,
    "start_time": "2022-02-17T18:14:33.151Z"
   },
   {
    "duration": 3380,
    "start_time": "2022-02-17T18:15:59.026Z"
   },
   {
    "duration": 823,
    "start_time": "2022-02-17T18:17:50.109Z"
   },
   {
    "duration": 671,
    "start_time": "2022-02-17T18:18:24.864Z"
   },
   {
    "duration": 5,
    "start_time": "2022-02-17T18:35:47.638Z"
   },
   {
    "duration": 544,
    "start_time": "2022-02-17T18:35:47.646Z"
   },
   {
    "duration": 51,
    "start_time": "2022-02-17T18:35:48.193Z"
   },
   {
    "duration": 160,
    "start_time": "2022-02-17T18:35:48.248Z"
   },
   {
    "duration": 4,
    "start_time": "2022-02-17T18:35:48.411Z"
   },
   {
    "duration": 449,
    "start_time": "2022-02-17T18:35:48.418Z"
   },
   {
    "duration": 407,
    "start_time": "2022-02-17T18:35:48.870Z"
   },
   {
    "duration": 253,
    "start_time": "2022-02-17T18:35:49.280Z"
   },
   {
    "duration": 25,
    "start_time": "2022-02-17T18:35:49.536Z"
   },
   {
    "duration": 693,
    "start_time": "2022-02-17T18:35:49.563Z"
   },
   {
    "duration": 717,
    "start_time": "2022-02-17T18:35:50.259Z"
   },
   {
    "duration": 700,
    "start_time": "2022-02-17T18:35:50.979Z"
   },
   {
    "duration": 692,
    "start_time": "2022-02-17T18:35:51.682Z"
   },
   {
    "duration": 498,
    "start_time": "2022-02-17T18:35:52.376Z"
   },
   {
    "duration": 470,
    "start_time": "2022-02-17T18:35:52.877Z"
   },
   {
    "duration": 475,
    "start_time": "2022-02-17T18:35:53.350Z"
   },
   {
    "duration": 259,
    "start_time": "2022-02-17T18:35:53.827Z"
   },
   {
    "duration": 527,
    "start_time": "2022-02-17T18:35:54.089Z"
   },
   {
    "duration": 3489,
    "start_time": "2022-02-17T18:35:54.623Z"
   },
   {
    "duration": 4755,
    "start_time": "2022-02-17T18:35:58.116Z"
   },
   {
    "duration": 1626,
    "start_time": "2022-02-17T18:36:02.874Z"
   },
   {
    "duration": 1532,
    "start_time": "2022-02-17T18:36:04.503Z"
   },
   {
    "duration": 5,
    "start_time": "2022-02-17T18:36:06.038Z"
   },
   {
    "duration": 3708,
    "start_time": "2022-02-17T18:36:06.045Z"
   },
   {
    "duration": 4102,
    "start_time": "2022-02-17T18:36:09.757Z"
   },
   {
    "duration": 662,
    "start_time": "2022-02-17T18:36:13.862Z"
   },
   {
    "duration": 753,
    "start_time": "2022-02-17T18:36:14.526Z"
   },
   {
    "duration": 516,
    "start_time": "2022-02-17T18:52:45.500Z"
   },
   {
    "duration": 5,
    "start_time": "2022-02-17T18:56:12.819Z"
   },
   {
    "duration": 559,
    "start_time": "2022-02-17T18:56:12.887Z"
   },
   {
    "duration": 55,
    "start_time": "2022-02-17T18:56:13.449Z"
   },
   {
    "duration": 140,
    "start_time": "2022-02-17T18:56:13.507Z"
   },
   {
    "duration": 5,
    "start_time": "2022-02-17T18:56:13.650Z"
   },
   {
    "duration": 440,
    "start_time": "2022-02-17T18:56:13.657Z"
   },
   {
    "duration": 472,
    "start_time": "2022-02-17T18:56:14.100Z"
   },
   {
    "duration": 255,
    "start_time": "2022-02-17T18:56:14.574Z"
   },
   {
    "duration": 23,
    "start_time": "2022-02-17T18:56:14.832Z"
   },
   {
    "duration": 733,
    "start_time": "2022-02-17T18:56:14.861Z"
   },
   {
    "duration": 677,
    "start_time": "2022-02-17T18:56:15.598Z"
   },
   {
    "duration": 669,
    "start_time": "2022-02-17T18:56:16.278Z"
   },
   {
    "duration": 684,
    "start_time": "2022-02-17T18:56:16.950Z"
   },
   {
    "duration": 497,
    "start_time": "2022-02-17T18:56:17.636Z"
   },
   {
    "duration": 473,
    "start_time": "2022-02-17T18:56:18.135Z"
   },
   {
    "duration": 523,
    "start_time": "2022-02-17T18:56:18.611Z"
   },
   {
    "duration": 259,
    "start_time": "2022-02-17T18:56:19.137Z"
   },
   {
    "duration": 520,
    "start_time": "2022-02-17T18:56:19.399Z"
   },
   {
    "duration": 3527,
    "start_time": "2022-02-17T18:56:19.921Z"
   },
   {
    "duration": 4132,
    "start_time": "2022-02-17T18:56:23.450Z"
   },
   {
    "duration": 1186,
    "start_time": "2022-02-17T18:56:27.585Z"
   },
   {
    "duration": 1140,
    "start_time": "2022-02-17T18:56:28.774Z"
   },
   {
    "duration": 4,
    "start_time": "2022-02-17T18:56:29.917Z"
   },
   {
    "duration": 3726,
    "start_time": "2022-02-17T18:56:29.925Z"
   },
   {
    "duration": 3396,
    "start_time": "2022-02-17T18:56:33.654Z"
   },
   {
    "duration": 593,
    "start_time": "2022-02-17T18:56:37.052Z"
   },
   {
    "duration": 762,
    "start_time": "2022-02-17T18:56:37.648Z"
   },
   {
    "duration": 1150,
    "start_time": "2022-02-17T21:34:00.585Z"
   },
   {
    "duration": 450,
    "start_time": "2022-02-17T21:34:01.736Z"
   },
   {
    "duration": 37,
    "start_time": "2022-02-17T21:34:02.189Z"
   },
   {
    "duration": 99,
    "start_time": "2022-02-17T21:34:02.228Z"
   },
   {
    "duration": 4,
    "start_time": "2022-02-17T21:34:02.328Z"
   },
   {
    "duration": 299,
    "start_time": "2022-02-17T21:34:02.334Z"
   },
   {
    "duration": 197,
    "start_time": "2022-02-17T21:34:02.635Z"
   },
   {
    "duration": 172,
    "start_time": "2022-02-17T21:34:02.835Z"
   },
   {
    "duration": 14,
    "start_time": "2022-02-17T21:34:03.009Z"
   },
   {
    "duration": 490,
    "start_time": "2022-02-17T21:34:03.025Z"
   },
   {
    "duration": 445,
    "start_time": "2022-02-17T21:34:03.516Z"
   },
   {
    "duration": 477,
    "start_time": "2022-02-17T21:34:03.963Z"
   },
   {
    "duration": 551,
    "start_time": "2022-02-17T21:34:04.442Z"
   },
   {
    "duration": 351,
    "start_time": "2022-02-17T21:34:04.995Z"
   },
   {
    "duration": 331,
    "start_time": "2022-02-17T21:34:05.348Z"
   },
   {
    "duration": 332,
    "start_time": "2022-02-17T21:34:05.681Z"
   },
   {
    "duration": 99,
    "start_time": "2022-02-17T21:34:06.015Z"
   },
   {
    "duration": 386,
    "start_time": "2022-02-17T21:34:06.117Z"
   },
   {
    "duration": 2676,
    "start_time": "2022-02-17T21:34:06.505Z"
   },
   {
    "duration": 2239,
    "start_time": "2022-02-17T21:34:09.183Z"
   },
   {
    "duration": 802,
    "start_time": "2022-02-17T21:34:11.425Z"
   },
   {
    "duration": 785,
    "start_time": "2022-02-17T21:34:12.229Z"
   },
   {
    "duration": 4,
    "start_time": "2022-02-17T21:34:13.018Z"
   },
   {
    "duration": 2721,
    "start_time": "2022-02-17T21:34:13.024Z"
   },
   {
    "duration": 2367,
    "start_time": "2022-02-17T21:34:15.747Z"
   },
   {
    "duration": 434,
    "start_time": "2022-02-17T21:34:18.116Z"
   },
   {
    "duration": 434,
    "start_time": "2022-02-17T21:34:18.552Z"
   },
   {
    "duration": 25,
    "start_time": "2022-02-17T21:34:33.275Z"
   }
  ],
  "kernelspec": {
   "display_name": "Python 3",
   "language": "python",
   "name": "python3"
  },
  "language_info": {
   "codemirror_mode": {
    "name": "ipython",
    "version": 3
   },
   "file_extension": ".py",
   "mimetype": "text/x-python",
   "name": "python",
   "nbconvert_exporter": "python",
   "pygments_lexer": "ipython3",
   "version": "3.7.8"
  },
  "toc": {
   "base_numbering": 1,
   "nav_menu": {},
   "number_sections": false,
   "sideBar": true,
   "skip_h1_title": false,
   "title_cell": "Table of Contents",
   "title_sidebar": "Contents",
   "toc_cell": false,
   "toc_position": {
    "height": "calc(100% - 180px)",
    "left": "10px",
    "top": "150px",
    "width": "369.006px"
   },
   "toc_section_display": true,
   "toc_window_display": true
  }
 },
 "nbformat": 4,
 "nbformat_minor": 2
}
